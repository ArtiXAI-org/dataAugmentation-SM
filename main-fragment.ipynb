{
 "cells": [
  {
   "cell_type": "markdown",
   "id": "bb2c4601",
   "metadata": {},
   "source": [
    "# Fragment generation"
   ]
  },
  {
   "cell_type": "code",
   "execution_count": null,
   "id": "a71b7cfe",
   "metadata": {},
   "outputs": [],
   "source": [
    "!python ./mmpa/rfrag.py <data/sample.smi >data/sample_fragmented.txt\n"
   ]
  },
  {
   "cell_type": "markdown",
   "id": "99b9a3da",
   "metadata": {},
   "source": [
    "# MMP generation"
   ]
  },
  {
   "cell_type": "code",
   "execution_count": null,
   "id": "df2d5bbe",
   "metadata": {},
   "outputs": [],
   "source": [
    "# Default settings:\n",
    "!python ./mmpa/indexing.py <data/sample_fragmented.txt >data/sample_mmps_default.csv\n",
    "\n",
    "# Output symmetrically equivalent MMPs (ie forward and reverse transforms):\n",
    "!python ./mmpa/indexing.py -s <data/sample_fragmented.txt >data/sample_mmps_sym.csv\n",
    "\n",
    "# Output MMPs where maximum size of change is 3 heavy atoms:\n",
    "!python ./mmpa/indexing.py -m 3 <data/sample_fragmented.txt >data/sample_mmps_maxheavy.csv\n",
    "\n",
    "# Output MMPs where no more that 10% of the compound has changed:\n",
    "!python ./mmpa/indexing.py -r 0.1 <data/sample_fragmented.txt >data/sample_mmps_maxratio.csv\n",
    "\n",
    "#@Output symmetrically equivalent MMPs where maximum size of change is 3 heavy atoms:\n",
    "!python ./mmpa/indexing.py -s -m 3 <data/sample_fragmented.txt >data/sample_mmps_sym_maxheavy.csv"
   ]
  },
  {
   "cell_type": "markdown",
   "id": "1086aa50",
   "metadata": {},
   "source": [
    "# SMIRKS canonicalisation"
   ]
  },
  {
   "cell_type": "code",
   "execution_count": 57,
   "id": "e8ec619e",
   "metadata": {},
   "outputs": [
    {
     "data": {
      "text/html": [
       "<div>\n",
       "<style scoped>\n",
       "    .dataframe tbody tr th:only-of-type {\n",
       "        vertical-align: middle;\n",
       "    }\n",
       "\n",
       "    .dataframe tbody tr th {\n",
       "        vertical-align: top;\n",
       "    }\n",
       "\n",
       "    .dataframe thead th {\n",
       "        text-align: right;\n",
       "    }\n",
       "</style>\n",
       "<table border=\"1\" class=\"dataframe\">\n",
       "  <thead>\n",
       "    <tr style=\"text-align: right;\">\n",
       "      <th></th>\n",
       "      <th>Nc1ccc(-c2cc3ccccc3oc2=O)cc1</th>\n",
       "      <th>O=c1oc2ccccc2cc1-c1ccc(O)cc1</th>\n",
       "      <th>310860</th>\n",
       "      <th>4055843</th>\n",
       "      <th>N[*:1]&gt;&gt;O[*:1]</th>\n",
       "      <th>O=c1oc2ccccc2cc1-c1ccc([*:1])cc1</th>\n",
       "    </tr>\n",
       "  </thead>\n",
       "  <tbody>\n",
       "    <tr>\n",
       "      <th>0</th>\n",
       "      <td>O=c1oc2ccccc2cc1-c1ccc(O)cc1</td>\n",
       "      <td>Nc1ccc(-c2cc3ccccc3oc2=O)cc1</td>\n",
       "      <td>4055843</td>\n",
       "      <td>310860</td>\n",
       "      <td>O[*:1]&gt;&gt;N[*:1]</td>\n",
       "      <td>O=c1oc2ccccc2cc1-c1ccc([*:1])cc1</td>\n",
       "    </tr>\n",
       "    <tr>\n",
       "      <th>1</th>\n",
       "      <td>O=C(O)c1ccc(NC(=O)C2COc3ccccc3O2)cc1</td>\n",
       "      <td>NC(=O)c1ccc(NC(=O)C2COc3ccccc3O2)cc1</td>\n",
       "      <td>2881039</td>\n",
       "      <td>2787356</td>\n",
       "      <td>O=C(O)[*:1]&gt;&gt;NC(=O)[*:1]</td>\n",
       "      <td>O=C(Nc1ccc([*:1])cc1)C1COc2ccccc2O1</td>\n",
       "    </tr>\n",
       "    <tr>\n",
       "      <th>2</th>\n",
       "      <td>NC(=O)c1ccc(NC(=O)C2COc3ccccc3O2)cc1</td>\n",
       "      <td>O=C(O)c1ccc(NC(=O)C2COc3ccccc3O2)cc1</td>\n",
       "      <td>2787356</td>\n",
       "      <td>2881039</td>\n",
       "      <td>NC(=O)[*:1]&gt;&gt;O=C(O)[*:1]</td>\n",
       "      <td>O=C(Nc1ccc([*:1])cc1)C1COc2ccccc2O1</td>\n",
       "    </tr>\n",
       "  </tbody>\n",
       "</table>\n",
       "</div>"
      ],
      "text/plain": [
       "           Nc1ccc(-c2cc3ccccc3oc2=O)cc1          O=c1oc2ccccc2cc1-c1ccc(O)cc1  \\\n",
       "0          O=c1oc2ccccc2cc1-c1ccc(O)cc1          Nc1ccc(-c2cc3ccccc3oc2=O)cc1   \n",
       "1  O=C(O)c1ccc(NC(=O)C2COc3ccccc3O2)cc1  NC(=O)c1ccc(NC(=O)C2COc3ccccc3O2)cc1   \n",
       "2  NC(=O)c1ccc(NC(=O)C2COc3ccccc3O2)cc1  O=C(O)c1ccc(NC(=O)C2COc3ccccc3O2)cc1   \n",
       "\n",
       "    310860  4055843            N[*:1]>>O[*:1]  \\\n",
       "0  4055843   310860            O[*:1]>>N[*:1]   \n",
       "1  2881039  2787356  O=C(O)[*:1]>>NC(=O)[*:1]   \n",
       "2  2787356  2881039  NC(=O)[*:1]>>O=C(O)[*:1]   \n",
       "\n",
       "      O=c1oc2ccccc2cc1-c1ccc([*:1])cc1  \n",
       "0     O=c1oc2ccccc2cc1-c1ccc([*:1])cc1  \n",
       "1  O=C(Nc1ccc([*:1])cc1)C1COc2ccccc2O1  \n",
       "2  O=C(Nc1ccc([*:1])cc1)C1COc2ccccc2O1  "
      ]
     },
     "execution_count": 57,
     "metadata": {},
     "output_type": "execute_result"
    }
   ],
   "source": [
    "import pandas as pd\n",
    "pd.read_csv('data/sample_mmps_sym_maxheavy.csv').head(10)"
   ]
  },
  {
   "cell_type": "code",
   "execution_count": 82,
   "id": "a403cfb7",
   "metadata": {},
   "outputs": [],
   "source": [
    "import pandas as pd\n",
    "\n",
    "df = pd.read_csv('data/sample_mmps_sym_maxheavy.csv')\n",
    "output_df = pd.DataFrame({\n",
    "\n",
    "    'value': df.iloc[:, 4],\n",
    "    'id': df.index,\n",
    "})\n",
    "\n",
    "output_df.to_csv('data/sample_smirks.txt', index=False, sep = \" \", header=False)\n"
   ]
  },
  {
   "cell_type": "code",
   "execution_count": null,
   "id": "0019c2c0",
   "metadata": {},
   "outputs": [],
   "source": [
    "!python ./mmpa/cansmirk.py <data/sample_smirks.txt >data/sample_cansmirks.txt\n"
   ]
  },
  {
   "cell_type": "code",
   "execution_count": 84,
   "id": "64e2c09b",
   "metadata": {},
   "outputs": [
    {
     "name": "stdout",
     "output_type": "stream",
     "text": [
      "O[*:1]>>N[*:1] 0\n",
      "O=C(O)[*:1]>>NC(=O)[*:1] 1\n",
      "NC(=O)[*:1]>>O=C(O)[*:1] 2\n"
     ]
    }
   ],
   "source": [
    "!head data/sample_cansmirks.txt"
   ]
  },
  {
   "cell_type": "code",
   "execution_count": 85,
   "id": "58884a4d",
   "metadata": {},
   "outputs": [
    {
     "name": "stdout",
     "output_type": "stream",
     "text": [
      "O[*:1]>>N[*:1] 0\n",
      "O=C(O)[*:1]>>NC(=O)[*:1] 1\n",
      "NC(=O)[*:1]>>O=C(O)[*:1] 2\n"
     ]
    }
   ],
   "source": [
    "!head data/sample_smirks.txt"
   ]
  },
  {
   "cell_type": "markdown",
   "id": "f47361b8",
   "metadata": {},
   "source": [
    "# Applying SMIRKS to input compounds\n"
   ]
  },
  {
   "cell_type": "code",
   "execution_count": null,
   "id": "ca8b50ba",
   "metadata": {},
   "outputs": [],
   "source": [
    "!python ./mmpa/mol_transform.py -f data/sample_smirks_mol_trans.txt <data/sample_smiles_mol_trans.smi >data/sample_mol_trans_output.txt"
   ]
  },
  {
   "cell_type": "markdown",
   "id": "a5404742",
   "metadata": {},
   "source": [
    "# Generating and searching an MMP database"
   ]
  },
  {
   "cell_type": "code",
   "execution_count": null,
   "id": "ec20689b",
   "metadata": {},
   "outputs": [],
   "source": [
    "!python ./mmpa/create_mmp_db.py <data/sample_fragmented.txt\n"
   ]
  },
  {
   "cell_type": "code",
   "execution_count": null,
   "id": "10da3474",
   "metadata": {},
   "outputs": [
    {
     "name": "stdout",
     "output_type": "stream",
     "text": [
      "python: can't open file '/Users/pierre/miniconda3/envs/chemprop_v2/lib/python3.11/site-packages/rdkit/Projects/DbCLI/CreateDb.py': [Errno 2] No such file or directory\n"
     ]
    }
   ],
   "source": [
    "!python ./mmpa/create_mmp_db.py -m 10 -s <data/sample_fragmented.txt"
   ]
  },
  {
   "cell_type": "code",
   "execution_count": null,
   "id": "4968bdfc",
   "metadata": {},
   "outputs": [
    {
     "name": "stdout",
     "output_type": "stream",
     "text": [
      "python: can't open file '/Users/pierre/miniconda3/envs/chemprop_v2/lib/python3.11/site-packages/rdkit/Projects/DbCLI/CreateDb.py': [Errno 2] No such file or directory\n"
     ]
    }
   ],
   "source": [
    "!python ./mmpa/create_mmp_db.py -p my_MMP_db -s <data/sample_fragmented.txt\n"
   ]
  },
  {
   "cell_type": "code",
   "execution_count": null,
   "id": "78c41c06",
   "metadata": {},
   "outputs": [
    {
     "name": "stdout",
     "output_type": "stream",
     "text": [
      "zsh:1: no such file or directory: data/sample_db_input_smi.txt\n"
     ]
    }
   ],
   "source": [
    "!python ./mmpa/search_mmp_db.py -t mmp <data/sample_db_input_smi.txt >data/sample_db_search_smi_output.txt\n"
   ]
  },
  {
   "cell_type": "code",
   "execution_count": null,
   "id": "7c855d59",
   "metadata": {},
   "outputs": [],
   "source": []
  },
  {
   "cell_type": "code",
   "execution_count": null,
   "id": "71a4ec71",
   "metadata": {},
   "outputs": [],
   "source": []
  },
  {
   "cell_type": "code",
   "execution_count": null,
   "id": "97799d71",
   "metadata": {},
   "outputs": [],
   "source": []
  }
 ],
 "metadata": {
  "kernelspec": {
   "display_name": "chemprop_v2",
   "language": "python",
   "name": "python3"
  },
  "language_info": {
   "codemirror_mode": {
    "name": "ipython",
    "version": 3
   },
   "file_extension": ".py",
   "mimetype": "text/x-python",
   "name": "python",
   "nbconvert_exporter": "python",
   "pygments_lexer": "ipython3",
   "version": "3.11.9"
  }
 },
 "nbformat": 4,
 "nbformat_minor": 5
}
