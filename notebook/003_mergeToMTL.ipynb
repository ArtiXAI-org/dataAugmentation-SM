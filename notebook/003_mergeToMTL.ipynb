{
 "cells": [
  {
   "cell_type": "markdown",
   "id": "d9e629a7",
   "metadata": {},
   "source": [
    "# 0) Modules & Functions"
   ]
  },
  {
   "cell_type": "code",
   "execution_count": 10,
   "id": "3d0de127",
   "metadata": {},
   "outputs": [],
   "source": [
    "import os\n",
    "import pandas as pd\n",
    "from rdkit import Chem\n",
    "import subprocess\n",
    "import hashlib\n",
    "import tempfile\n",
    "import base64\n",
    "import numpy as np\n",
    "from itertools import combinations\n",
    "from scipy.stats import pearsonr\n",
    "from tqdm import tqdm\n",
    "import time\n",
    "from collections import defaultdict\n",
    "from rdkit.Chem import AllChem\n",
    "from rdkit import RDLogger\n",
    "import warnings\n",
    "import re\n",
    "from rdkit.Chem import inchi\n",
    "from sklearn.ensemble import RandomForestRegressor\n",
    "from sklearn.metrics import mean_squared_error, r2_score\n",
    "from sklearn.model_selection import train_test_split\n",
    "from rdkit.Chem import Descriptors\n",
    "from rdkit import Chem\n",
    "from rdkit.Chem import Draw\n",
    "\n",
    "# Disable RDKit warnings\n",
    "RDLogger.DisableLog('rdApp.*')\n",
    "\n",
    "warnings.filterwarnings(\"ignore\", category=UserWarning, module=\"rdkit\")\n",
    "warnings.filterwarnings(\"ignore\", category=FutureWarning, module=\"rdkit\")\n",
    "warnings.filterwarnings(\"ignore\", category=DeprecationWarning, module=\"rdkit\")\n",
    "\n",
    "\n",
    "from itertools import combinations\n",
    "from pathlib import Path\n",
    "\n",
    "\n",
    "import os\n",
    "import pandas as pd\n",
    "from pathlib import Path\n",
    "def merge_stl_to_mtl(base_dirs, combinations_set, output_filename=\"MTL_merged.parquet\"):\n",
    "    for base in tqdm(base_dirs, desc=\"Iterating directories\"):\n",
    "        for combo in combinations_set:\n",
    "            stl_dir = f\"{base}/{combo}/STL\"\n",
    "            mtl_dir = f\"{base}/{combo}/MTL\"\n",
    "\n",
    "            if not os.path.isdir(stl_dir):\n",
    "                continue\n",
    "\n",
    "            Path(mtl_dir).mkdir(parents=True, exist_ok=True)\n",
    "\n",
    "            files = [f for f in os.listdir(stl_dir) if f.endswith(\".parquet\")]\n",
    "            if not files:\n",
    "                continue\n",
    "\n",
    "            merged_df = None\n",
    "            aug_map = {}\n",
    "\n",
    "            for file in files:\n",
    "                path = os.path.join(stl_dir, file)\n",
    "                df = pd.read_parquet(path)[[\"InChIKey\", \"SMILES\", \"Y\", \"AUG\"]]\n",
    "                col_name = os.path.splitext(file)[0]\n",
    "                df.rename(columns={\"Y\": col_name}, inplace=True)\n",
    "\n",
    "                # Track AUG status per InChIKey — False dominates\n",
    "                for k, is_aug in zip(df[\"InChIKey\"], df[\"AUG\"]):\n",
    "                    if k not in aug_map:\n",
    "                        aug_map[k] = is_aug\n",
    "                    else:\n",
    "                        aug_map[k] = aug_map[k] and is_aug  # False overrides True\n",
    "\n",
    "                df.drop(columns=[\"AUG\"], inplace=True)\n",
    "\n",
    "                if merged_df is None:\n",
    "                    merged_df = df\n",
    "                else:\n",
    "                    merged_df = pd.merge(merged_df, df, on=[\"InChIKey\", \"SMILES\"], how=\"outer\")\n",
    "\n",
    "            # Final AUG map (False dominates)\n",
    "            merged_df[\"AUG\"] = merged_df[\"InChIKey\"].map(aug_map).fillna(False)\n",
    "\n",
    "            # Reorder columns\n",
    "            cols = [\"InChIKey\", \"SMILES\", \"AUG\"] + [col for col in merged_df.columns if col not in [\"InChIKey\", \"SMILES\", \"AUG\"]]\n",
    "            merged_df = merged_df[cols]\n",
    "\n",
    "            merged_df.sort_values(\"InChIKey\", inplace=True)\n",
    "            output_path = os.path.join(mtl_dir, output_filename)\n",
    "            merged_df.to_parquet(output_path, index=False)\n",
    "            print(f\"[✓] Wrote {output_path}\")\n",
    "\n"
   ]
  },
  {
   "cell_type": "markdown",
   "id": "bfd5f422",
   "metadata": {},
   "source": [
    "# 1) Prepare the MTL data"
   ]
  },
  {
   "cell_type": "code",
   "execution_count": null,
   "id": "455ba165",
   "metadata": {},
   "outputs": [
    {
     "name": "stderr",
     "output_type": "stream",
     "text": [
      "Iterating directories:   0%|          | 0/3 [00:00<?, ?it/s]"
     ]
    },
    {
     "name": "stdout",
     "output_type": "stream",
     "text": [
      "[✓] Wrote ../data/noaug/AB/MTL/MTL_merged.parquet\n",
      "[✓] Wrote ../data/noaug/AC/MTL/MTL_merged.parquet\n"
     ]
    },
    {
     "name": "stderr",
     "output_type": "stream",
     "text": [
      "Iterating directories:  33%|███▎      | 1/3 [00:00<00:00,  2.56it/s]"
     ]
    },
    {
     "name": "stdout",
     "output_type": "stream",
     "text": [
      "[✓] Wrote ../data/noaug/BC/MTL/MTL_merged.parquet\n",
      "[✓] Wrote ../data/aug/AB/MTL/MTL_merged.parquet\n"
     ]
    },
    {
     "name": "stderr",
     "output_type": "stream",
     "text": [
      "Iterating directories:  67%|██████▋   | 2/3 [00:00<00:00,  2.29it/s]"
     ]
    },
    {
     "name": "stdout",
     "output_type": "stream",
     "text": [
      "[✓] Wrote ../data/aug/AC/MTL/MTL_merged.parquet\n",
      "[✓] Wrote ../data/aug/BC/MTL/MTL_merged.parquet\n"
     ]
    },
    {
     "name": "stderr",
     "output_type": "stream",
     "text": [
      "Iterating directories: 100%|██████████| 3/3 [00:01<00:00,  2.76it/s]"
     ]
    },
    {
     "name": "stdout",
     "output_type": "stream",
     "text": [
      "[✓] Wrote ../data/test/AB/MTL/MTL_merged.parquet\n",
      "[✓] Wrote ../data/test/AC/MTL/MTL_merged.parquet\n",
      "[✓] Wrote ../data/test/BC/MTL/MTL_merged.parquet\n"
     ]
    },
    {
     "name": "stderr",
     "output_type": "stream",
     "text": [
      "\n"
     ]
    }
   ],
   "source": [
    "\n",
    "base_dirs = [\"../data/noaug\", \"../data/aug\", \"../data/test\"]\n",
    "combinations_set = [\"ABCD\", \"ABCE\", \"ABDE\", \"ACDE\",\"BCDE\", \"ALL\"]\n",
    "\n",
    "merge_stl_to_mtl(base_dirs, combinations_set)"
   ]
  }
 ],
 "metadata": {
  "kernelspec": {
   "display_name": "chemprop_v2",
   "language": "python",
   "name": "python3"
  },
  "language_info": {
   "codemirror_mode": {
    "name": "ipython",
    "version": 3
   },
   "file_extension": ".py",
   "mimetype": "text/x-python",
   "name": "python",
   "nbconvert_exporter": "python",
   "pygments_lexer": "ipython3",
   "version": "3.11.9"
  }
 },
 "nbformat": 4,
 "nbformat_minor": 5
}
