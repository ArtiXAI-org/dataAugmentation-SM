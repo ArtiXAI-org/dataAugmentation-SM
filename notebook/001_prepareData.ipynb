{
 "cells": [
  {
   "cell_type": "markdown",
   "id": "d9e629a7",
   "metadata": {},
   "source": [
    "# 0) Modules & Functions"
   ]
  },
  {
   "cell_type": "code",
   "execution_count": 7,
   "id": "afdd842f",
   "metadata": {},
   "outputs": [],
   "source": [
    "import pandas as pd \n",
    "from tqdm import tqdm\n",
    "import os\n",
    "import re\n",
    "from rdkit import Chem\n",
    "from rdkit.Chem import inchi\n",
    "import seaborn as sns\n",
    "import matplotlib.pyplot as plt\n",
    "import numpy as np\n",
    "from iterstrat.ml_stratifiers import MultilabelStratifiedKFold\n",
    "from scipy.stats import wasserstein_distance\n",
    "\n",
    "# Compute InChIKey from SMILES\n",
    "def smiles_to_inchikey(smiles):\n",
    "    mol = Chem.MolFromSmiles(smiles)\n",
    "    if mol is None:\n",
    "        return None\n",
    "    try:\n",
    "        return inchi.MolToInchiKey(mol)\n",
    "    except:\n",
    "        return None\n",
    "    \n",
    "def subscript(text):\n",
    "    return f\"$_{{{text}}}$\"\n",
    "\n",
    "def _replace_subscript(name):\n",
    "    name = name.replace('Caco-2-2', 'Caco-2')\n",
    "    name = name.replace('(Rat)', '(RAT)')\n",
    "    name = name.replace('(Human,', '(HUMAN,')\n",
    "    name = name.replace('(Rat,', '(RAT,')\n",
    "    name = name.replace('(po, Rat,', '(po, RAT,')\n",
    "    name = name.replace('(Mouse,', '(MOUSE,')\n",
    "    name = name.replace('(Mouse)', '(MOUSE)')\n",
    "    name = name.replace('(Rat)', '(RAT)')\n",
    "    name = name.replace('(Dog,', '(DOG,')\n",
    "    name = name.replace('Prolif (Cell)', 'Cell-prolif')\n",
    "    name = name.replace('Half Life Microsome', 'logHalf-life$_{microsomal}$')\n",
    "    name = name.replace('Half Life Plasma', 'logHalf-life$_{plasma}$')\n",
    "    name = name.replace('Clearance Microsomal', 'logClearance$_{microsomal}$')\n",
    "    name = name.replace('Clearance Total', 'logClearance$_{total}$')\n",
    "    name = name.replace('Clearance Total', 'logClearance$_{total}$')\n",
    "    name = name.replace('Clearance Renal', 'logClearance$_{renal}$')\n",
    "    name = name.replace(', Cell)', ')')\n",
    "    name = name.replace('Growth Tumor', 'Tumor-growth')\n",
    "    name = name.replace('logClearance$_{total}$ iv (RAT,', 'logClearance$_{total}$ (iv, RAT,')\n",
    "    name = name.replace('Stability Microsomal', 'Stability$_{microsomal}$')\n",
    "    name = name.replace('pVD', 'logVD')\n",
    "    return name\n",
    "\n",
    "def clean_endpoint_name(name):\n",
    "    name = name.replace('.csv', '')\n",
    "\n",
    "    # Replace raw units with readable forms (keep lowercase)\n",
    "    name = name.replace('pmL%min%kg', 'µL·min⁻¹·kg⁻¹')\n",
    "    name = name.replace('pmg%kg', 'mg·kg⁻¹')\n",
    "    name = name.replace('pHours', 'h')\n",
    "    name = name.replace('pL%kg', 'L·kg⁻¹')\n",
    "    name = name.replace('mol%kg', 'mol·kg⁻¹')\n",
    "\n",
    "    # Remove prefixes\n",
    "    name = re.sub(r'^(PUBLIC|BindingDB)___', '', name)\n",
    "\n",
    "    # Replace separators and clean up\n",
    "    name = name.replace('-', ' ').replace('_', ' ').replace('Public', '')\n",
    "    name = re.sub(r'\\s+', ' ', name).strip()\n",
    "\n",
    "    # Remove \"Biochemical\"\n",
    "    name = re.sub(r'\\bBiochemical\\b', '', name)\n",
    "\n",
    "    # Fix substrings for cell types, models\n",
    "    name = re.sub(r'\\bCaco2\\b', 'Caco-2', name)\n",
    "    name = re.sub(r'\\bCaco\\b', 'Caco-2', name)\n",
    "    name = re.sub(r'MDCK LE\\b', 'MDCK-LE', name)\n",
    "    name = re.sub(r'MDCK MDR1\\b', 'MDCK-MDR1', name)\n",
    "    name = re.sub(r'MCDK MDR1\\b', 'MDCK-MDR1', name)\n",
    "\n",
    "    # Apply LaTeX-style subscripts\n",
    "    name = re.sub(r'\\bp(IC|GI|LD|TD)50\\b', lambda m: f\"p{m.group(1)}{subscript('50')}\", name)\n",
    "    name = re.sub(r'\\bpVDss\\b', lambda _: f\"pVD{subscript('ss')}\", name)\n",
    "    name = re.sub(r'\\bpKi\\b', lambda _: f\"pK{subscript('i')}\", name)\n",
    "    name = re.sub(r'\\bpKd\\b', lambda _: f\"pK{subscript('d')}\", name)\n",
    "\n",
    "    # logX formatting with special subscripts\n",
    "    name = re.sub(r'\\bLogD74\\b', lambda _: f\"logD{subscript('7-4')}\", name)\n",
    "    name = re.sub(r'\\bLogPapp\\b', lambda _: f\"logP{subscript('app')}\", name)\n",
    "    name = re.sub(r'\\bLogPow\\b', lambda _: f\"logP{subscript('ow')}\", name)\n",
    "    name = re.sub(r'\\bLogS Water\\b', lambda _: f\"logS{subscript('water')}\", name)\n",
    "    name = re.sub(r'\\bLogS Apparent\\b', lambda _: f\"logS{subscript('buffer')}\", name)\n",
    "    name = re.sub(r'\\bLog([A-Z])', r'log\\1', name)\n",
    "\n",
    "\n",
    "    # Tokenize and collect metadata\n",
    "    tokens = name.split()\n",
    "    main = []\n",
    "    meta = []\n",
    "\n",
    "    # Reference species, sources, tissues, etc.\n",
    "    meta_whitelist = {\n",
    "        'MOUSE', 'RAT', 'HUMAN', 'DOG', 'HAMSTER', 'CELL',\n",
    "        'PO', 'CAVPO', 'TETCF', 'CANEN', 'MYCTU', 'SARS', 'SARS2',\n",
    "        'MDCK-MDR1', 'MDCK-LE', 'Caco-2', 'PAMPA', 'BOVIN', 'HV1BR', \n",
    "        'HV1H2', 'PIG', 'BACAN', 'TRYCR', 'CANAL', 'ECOLX',  'ECOLI', \n",
    "        'MESAU', 'HELPY', 'HCMVA', 'CHICK', \"HCMVA\", 'RICCO', 'MACFA', \n",
    "        'PLAF7','SPIOL', 'HV1N5', 'HV1H2', 'HV1BR', 'HV1B1', 'HCVJ4', \n",
    "        'HCVCO', 'HCVBK', 'HCV77', 'SHEEP', 'I34A1', 'CARPA','MELGA', \n",
    "        'INBLE', 'I77AB', 'I75A5', 'I34A1', 'I33A0', 'CLOPF', 'HELPJ', \n",
    "        'YEAST', 'PHOPY', 'PSEAE', 'HHV1S', \"PORG3\", 'MYCSM', 'STAAU',\n",
    "        'HBVD3','ENTFA','HV1H2','PNECA', 'TOXGO', 'PLAFK', 'LEIMA', 'STAAU',\n",
    "        'STAAM', 'TRYCR', 'STAAE', 'RABIT', 'AGABI', 'BACFG', 'BACSU', 'CLOBO', 'ELEEL', 'ENTCL', 'HORSE', 'KLEPN', 'LACCA', 'SERMA', 'STAAR'\n",
    "    }\n",
    "\n",
    "    unit_patterns = ['µL·min⁻¹·kg⁻¹', 'mg·kg⁻¹', 'L·kg⁻¹', 'mol·kg⁻¹', 'h']\n",
    "\n",
    "    for token in tokens:\n",
    "        token_upper = token.upper()\n",
    "        if token in unit_patterns or token in meta_whitelist or token_upper in meta_whitelist:\n",
    "            meta.append(token)\n",
    "        elif token_upper in meta_whitelist:\n",
    "            meta.append(token_upper)\n",
    "        elif token.isupper() and len(token) <= 6:  # likely gene or protein name\n",
    "            main.append(token)\n",
    "        else:\n",
    "            main.append(token)\n",
    "\n",
    "    # Remove duplicates from meta, preserve order\n",
    "    seen = set()\n",
    "    meta_clean = []\n",
    "    for m in meta:\n",
    "        if m not in seen:\n",
    "            seen.add(m)\n",
    "            meta_clean.append(m)\n",
    "\n",
    "\n",
    "    if meta_clean:\n",
    "        return _replace_subscript(f\"{' '.join(main)} ({', '.join(meta_clean)})\")\n",
    "    else:\n",
    "        return _replace_subscript(' '.join(main))\n",
    "    \n",
    "\n",
    "import pandas as pd\n",
    "import numpy as np\n",
    "\n",
    "def random_split_with_distribution(df):\n",
    "    df = df.copy()\n",
    "    \n",
    "    # Assign random sets\n",
    "    sets = ['A', 'B', 'C', 'D', 'E','F','G','H','I','J']\n",
    "    df['Set'] = np.random.choice(sets, size=len(df))\n",
    "\n",
    "    # Print distribution\n",
    "    set_counts = df['Set'].value_counts(normalize=True) * 100\n",
    "    print(\"Percentage per set:\\n\", set_counts)\n",
    "\n",
    "    return df"
   ]
  },
  {
   "cell_type": "markdown",
   "id": "72984e90",
   "metadata": {},
   "source": [
    "# 1) Data loading"
   ]
  },
  {
   "cell_type": "code",
   "execution_count": 8,
   "id": "e89ec59f",
   "metadata": {},
   "outputs": [],
   "source": [
    "df_full = pd.read_parquet('../data/exp/oneADMET.parquet')"
   ]
  },
  {
   "cell_type": "markdown",
   "id": "0a8b8e53",
   "metadata": {},
   "source": [
    "# 2) Filter by dataset size"
   ]
  },
  {
   "cell_type": "code",
   "execution_count": 9,
   "id": "b90b5eaa",
   "metadata": {},
   "outputs": [
    {
     "name": "stderr",
     "output_type": "stream",
     "text": [
      "100%|██████████| 1535/1535 [00:02<00:00, 639.32it/s]\n",
      "100%|██████████| 1535/1535 [00:00<00:00, 3074.10it/s]\n",
      "100%|██████████| 1535/1535 [00:00<00:00, 3072.37it/s]\n"
     ]
    }
   ],
   "source": [
    "# Assuming df_full is your DataFrame\n",
    "min_non_nan = 50\n",
    "max_non_nan = 10000\n",
    "\n",
    "valid_cols = [\n",
    "\n",
    "    col for col in tqdm(df_full.columns)\n",
    "    if min_non_nan <= df_full[col].notna().sum() <= max_non_nan\n",
    "]\n",
    "\n",
    "# If you want to exclude 'SMILES' and 'Set' columns from the check:\n",
    "valid_cols = [\n",
    "    col for col in tqdm(df_full.columns)\n",
    "    if col not in ['SMILES', 'Set'] and min_non_nan <= df_full[col].notna().sum() <= max_non_nan\n",
    "]\n",
    "\n",
    "to_remove = [\n",
    "    \"PUBLIC___pIC50_CYP1A2_HUMAN_Biochemical_Public.csv\",\n",
    "    \"PUBLIC___pIC50_CYP2C19_HUMAN_Biochemical_Public.csv\",\n",
    "    \"PUBLIC___pIC50_CYP2C9_HUMAN_Biochemical_Public.csv\",\n",
    "    \"PUBLIC___pIC50_CYP2D6_HUMAN_Biochemical_Public.csv\",\n",
    "    \"PUBLIC___pIC50_CYP3A4_HUMAN_Biochemical_Public.csv\",\n",
    "    \"pLD50_Unknown_Public.csv\",\n",
    "    \"PUBLIC___LogHydrationFreeEnergy_Public.csv\",\n",
    "    \"PPB_Human_Public.csv\",\n",
    "    \"BindingDB___pIC50_CYP19A_HUMAN_Biochemical.csv\",\n",
    "    \"BindingDB___pIC50_CYP1A1_HUMAN_Biochemical.csv\",\n",
    "    \"BindingDB___pIC50_CYP1A2_HUMAN_Biochemical.csv\",\n",
    "    \"BindingDB___pIC50_CYP1B1_HUMAN_Biochemical.csv\",\n",
    "    \"BindingDB___pIC50_CYP2B6_HUMAN_Biochemical.csv\",\n",
    "    \"BindingDB___pIC50_CYP4F2_HUMAN_Biochemical.csv\"\n",
    "]\n",
    "\n",
    "filtered_cols = [\n",
    "    col for col in tqdm(df_full.columns)\n",
    "    if col not in ['SMILES', 'Set']\n",
    "    and min_non_nan <= df_full[col].notna().sum() <= max_non_nan\n",
    "    and col not in to_remove\n",
    "]\n",
    "\n",
    "# Keep only SMILES, Set, and the filtered columns\n",
    "df_filtered = df_full[[\"SMILES\"] + filtered_cols]\n",
    "\n",
    "# Drop rows where all values in filtered_cols are NaN\n",
    "df_filtered = df_filtered.dropna(subset=filtered_cols, how='all').sample(frac=1, random_state=42).reset_index(drop=True)\n"
   ]
  },
  {
   "cell_type": "markdown",
   "id": "2e930c44",
   "metadata": {},
   "source": [
    "# 2.5) Assign set"
   ]
  },
  {
   "cell_type": "code",
   "execution_count": 10,
   "id": "f50ce4ae",
   "metadata": {},
   "outputs": [
    {
     "name": "stdout",
     "output_type": "stream",
     "text": [
      "Percentage per set:\n",
      " Set\n",
      "I    10.047320\n",
      "E    10.041555\n",
      "D    10.026997\n",
      "J    10.018493\n",
      "H    10.014169\n",
      "G    10.006385\n",
      "A     9.969198\n",
      "C     9.961991\n",
      "B     9.958820\n",
      "F     9.955073\n",
      "Name: proportion, dtype: float64\n"
     ]
    }
   ],
   "source": [
    "df_split = random_split_with_distribution(df_filtered)"
   ]
  },
  {
   "cell_type": "markdown",
   "id": "7b72d5fb",
   "metadata": {},
   "source": [
    "# 3) Keep large enough test"
   ]
  },
  {
   "cell_type": "code",
   "execution_count": 11,
   "id": "31ec46b3",
   "metadata": {},
   "outputs": [
    {
     "name": "stderr",
     "output_type": "stream",
     "text": [
      "  3%|▎         | 42/1343 [00:02<01:27, 14.79it/s]"
     ]
    },
    {
     "name": "stdout",
     "output_type": "stream",
     "text": [
      " BindingDB___pIC50_5NTD_RAT_Biochemical.csv 4.29% in F set\n",
      " BindingDB___pIC50_AA1R_BOVIN_Biochemical.csv 4.00% in H set\n"
     ]
    },
    {
     "name": "stderr",
     "output_type": "stream",
     "text": [
      "  5%|▍         | 66/1343 [00:04<01:26, 14.78it/s]"
     ]
    },
    {
     "name": "stdout",
     "output_type": "stream",
     "text": [
      " BindingDB___pIC50_ACH10_HUMAN_Biochemical.csv 4.35% in H set\n"
     ]
    },
    {
     "name": "stderr",
     "output_type": "stream",
     "text": [
      "  6%|▌         | 80/1343 [00:05<01:25, 14.69it/s]"
     ]
    },
    {
     "name": "stdout",
     "output_type": "stream",
     "text": [
      " BindingDB___pIC50_ACMSD_HUMAN_Biochemical.csv 4.17% in G set\n"
     ]
    },
    {
     "name": "stderr",
     "output_type": "stream",
     "text": [
      "  7%|▋         | 88/1343 [00:05<01:25, 14.74it/s]"
     ]
    },
    {
     "name": "stdout",
     "output_type": "stream",
     "text": [
      " BindingDB___pIC50_ADA2C_HUMAN_Biochemical.csv 3.51% in F set\n",
      " BindingDB___pIC50_ADCY1_HUMAN_Biochemical.csv 4.96% in I set\n"
     ]
    },
    {
     "name": "stderr",
     "output_type": "stream",
     "text": [
      "  7%|▋         | 92/1343 [00:06<01:25, 14.72it/s]"
     ]
    },
    {
     "name": "stdout",
     "output_type": "stream",
     "text": [
      " BindingDB___pIC50_ADRB3_HUMAN_Biochemical.csv 4.00% in J set\n",
      " BindingDB___pIC50_ADRB3_HUMAN_Biochemical.csv 2.00% in C set\n"
     ]
    },
    {
     "name": "stderr",
     "output_type": "stream",
     "text": [
      "  7%|▋         | 98/1343 [00:06<01:24, 14.73it/s]"
     ]
    },
    {
     "name": "stdout",
     "output_type": "stream",
     "text": [
      " BindingDB___pIC50_AK1BA_HUMAN_Biochemical.csv 4.13% in I set\n"
     ]
    },
    {
     "name": "stderr",
     "output_type": "stream",
     "text": [
      "  8%|▊         | 102/1343 [00:06<01:24, 14.69it/s]"
     ]
    },
    {
     "name": "stdout",
     "output_type": "stream",
     "text": [
      " BindingDB___pIC50_AL1A3_HUMAN_Biochemical.csv 4.30% in C set\n"
     ]
    },
    {
     "name": "stderr",
     "output_type": "stream",
     "text": [
      "  8%|▊         | 106/1343 [00:07<01:24, 14.72it/s]"
     ]
    },
    {
     "name": "stdout",
     "output_type": "stream",
     "text": [
      " BindingDB___pIC50_ALDR_PIG_Biochemical.csv 4.46% in G set\n",
      " BindingDB___pIC50_ALDR_PIG_Biochemical.csv 3.57% in I set\n"
     ]
    },
    {
     "name": "stderr",
     "output_type": "stream",
     "text": [
      "  9%|▉         | 118/1343 [00:08<01:23, 14.69it/s]"
     ]
    },
    {
     "name": "stdout",
     "output_type": "stream",
     "text": [
      " BindingDB___pIC50_ANM3_HUMAN_Biochemical.csv 3.80% in E set\n"
     ]
    },
    {
     "name": "stderr",
     "output_type": "stream",
     "text": [
      " 10%|▉         | 132/1343 [00:08<01:22, 14.73it/s]"
     ]
    },
    {
     "name": "stdout",
     "output_type": "stream",
     "text": [
      " BindingDB___pIC50_ARBK1_BOVIN_Biochemical.csv 4.23% in A set\n"
     ]
    },
    {
     "name": "stderr",
     "output_type": "stream",
     "text": [
      " 11%|█         | 150/1343 [00:10<01:21, 14.69it/s]"
     ]
    },
    {
     "name": "stdout",
     "output_type": "stream",
     "text": [
      " BindingDB___pIC50_BAZ2A_HUMAN_Biochemical.csv 3.80% in E set\n"
     ]
    },
    {
     "name": "stderr",
     "output_type": "stream",
     "text": [
      " 12%|█▏        | 158/1343 [00:10<01:20, 14.73it/s]"
     ]
    },
    {
     "name": "stdout",
     "output_type": "stream",
     "text": [
      " BindingDB___pIC50_BLAB_BACFG_Biochemical.csv 4.76% in H set\n"
     ]
    },
    {
     "name": "stderr",
     "output_type": "stream",
     "text": [
      " 12%|█▏        | 162/1343 [00:11<01:20, 14.68it/s]"
     ]
    },
    {
     "name": "stdout",
     "output_type": "stream",
     "text": [
      " BindingDB___pIC50_BLM_HUMAN_Biochemical.csv 3.64% in B set\n",
      " BindingDB___pIC50_BLM_HUMAN_Biochemical.csv 3.64% in I set\n"
     ]
    },
    {
     "name": "stderr",
     "output_type": "stream",
     "text": [
      " 14%|█▎        | 184/1343 [00:12<01:18, 14.78it/s]"
     ]
    },
    {
     "name": "stdout",
     "output_type": "stream",
     "text": [
      " BindingDB___pIC50_CAH12_HUMAN_Biochemical.csv 3.85% in G set\n"
     ]
    },
    {
     "name": "stderr",
     "output_type": "stream",
     "text": [
      " 15%|█▌        | 204/1343 [00:13<01:16, 14.80it/s]"
     ]
    },
    {
     "name": "stdout",
     "output_type": "stream",
     "text": [
      " BindingDB___pIC50_CCNE1_HUMAN_Biochemical.csv 3.77% in C set\n"
     ]
    },
    {
     "name": "stderr",
     "output_type": "stream",
     "text": [
      " 16%|█▋        | 220/1343 [00:14<01:16, 14.77it/s]"
     ]
    },
    {
     "name": "stdout",
     "output_type": "stream",
     "text": [
      " BindingDB___pIC50_CETP_RABIT_Biochemical.csv 4.72% in A set\n"
     ]
    },
    {
     "name": "stderr",
     "output_type": "stream",
     "text": [
      " 17%|█▋        | 224/1343 [00:15<01:15, 14.78it/s]"
     ]
    },
    {
     "name": "stdout",
     "output_type": "stream",
     "text": [
      " BindingDB___pIC50_CGL_HUMAN_Biochemical.csv 3.57% in C set\n"
     ]
    },
    {
     "name": "stderr",
     "output_type": "stream",
     "text": [
      " 18%|█▊        | 240/1343 [00:16<01:15, 14.63it/s]"
     ]
    },
    {
     "name": "stdout",
     "output_type": "stream",
     "text": [
      " BindingDB___pIC50_CP2B1_RAT_Biochemical.csv 3.70% in I set\n"
     ]
    },
    {
     "name": "stderr",
     "output_type": "stream",
     "text": [
      " 18%|█▊        | 244/1343 [00:16<01:14, 14.66it/s]"
     ]
    },
    {
     "name": "stdout",
     "output_type": "stream",
     "text": [
      " BindingDB___pIC50_CRCM1_HUMAN_Biochemical.csv 4.50% in H set\n"
     ]
    },
    {
     "name": "stderr",
     "output_type": "stream",
     "text": [
      " 19%|█▉        | 252/1343 [00:17<01:14, 14.74it/s]"
     ]
    },
    {
     "name": "stdout",
     "output_type": "stream",
     "text": [
      " BindingDB___pIC50_CTNB1_HUMAN_Biochemical.csv 4.94% in D set\n"
     ]
    },
    {
     "name": "stderr",
     "output_type": "stream",
     "text": [
      " 20%|█▉        | 264/1343 [00:17<01:12, 14.79it/s]"
     ]
    },
    {
     "name": "stdout",
     "output_type": "stream",
     "text": [
      " BindingDB___pIC50_DEF_STAAM_Biochemical.csv 4.41% in E set\n",
      " BindingDB___pIC50_DEFM_HUMAN_Biochemical.csv 3.90% in A set\n"
     ]
    },
    {
     "name": "stderr",
     "output_type": "stream",
     "text": [
      " 20%|██        | 272/1343 [00:18<01:12, 14.77it/s]"
     ]
    },
    {
     "name": "stdout",
     "output_type": "stream",
     "text": [
      " BindingDB___pIC50_DHI1_RAT_Biochemical.csv 3.53% in C set\n",
      " BindingDB___pIC50_DHSO_HUMAN_Biochemical.csv 4.11% in D set\n",
      " BindingDB___pIC50_DNLI1_HUMAN_Biochemical.csv 3.85% in D set\n"
     ]
    },
    {
     "name": "stderr",
     "output_type": "stream",
     "text": [
      " 21%|██▏       | 286/1343 [00:19<01:11, 14.78it/s]"
     ]
    },
    {
     "name": "stdout",
     "output_type": "stream",
     "text": [
      " BindingDB___pIC50_DRTS_LEIMA_Biochemical.csv 4.84% in F set\n"
     ]
    },
    {
     "name": "stderr",
     "output_type": "stream",
     "text": [
      " 22%|██▏       | 290/1343 [00:19<01:11, 14.78it/s]"
     ]
    },
    {
     "name": "stdout",
     "output_type": "stream",
     "text": [
      " BindingDB___pIC50_DUS1_HUMAN_Biochemical.csv 2.53% in A set\n",
      " BindingDB___pIC50_DYR_BOVIN_Biochemical.csv 4.86% in F set\n"
     ]
    },
    {
     "name": "stderr",
     "output_type": "stream",
     "text": [
      " 23%|██▎       | 314/1343 [00:21<01:09, 14.76it/s]"
     ]
    },
    {
     "name": "stdout",
     "output_type": "stream",
     "text": [
      " BindingDB___pIC50_EGLN3_HUMAN_Biochemical.csv 4.51% in G set\n"
     ]
    },
    {
     "name": "stderr",
     "output_type": "stream",
     "text": [
      " 24%|██▍       | 324/1343 [00:22<01:09, 14.71it/s]"
     ]
    },
    {
     "name": "stdout",
     "output_type": "stream",
     "text": [
      " BindingDB___pIC50_ERG1_HUMAN_Biochemical.csv 3.17% in C set\n",
      " BindingDB___pIC50_ERG1_HUMAN_Biochemical.csv 3.17% in B set\n"
     ]
    },
    {
     "name": "stderr",
     "output_type": "stream",
     "text": [
      " 25%|██▌       | 342/1343 [00:23<01:07, 14.80it/s]"
     ]
    },
    {
     "name": "stdout",
     "output_type": "stream",
     "text": [
      " BindingDB___pIC50_FABH_ENTFA_Biochemical.csv 4.00% in H set\n",
      " BindingDB___pIC50_FABI_ECOLI_Biochemical.csv 3.03% in J set\n"
     ]
    },
    {
     "name": "stderr",
     "output_type": "stream",
     "text": [
      " 26%|██▌       | 352/1343 [00:23<01:07, 14.74it/s]"
     ]
    },
    {
     "name": "stdout",
     "output_type": "stream",
     "text": [
      " BindingDB___pIC50_FFAR2_HUMAN_Biochemical.csv 2.26% in I set\n"
     ]
    },
    {
     "name": "stderr",
     "output_type": "stream",
     "text": [
      " 27%|██▋       | 362/1343 [00:24<01:06, 14.79it/s]"
     ]
    },
    {
     "name": "stdout",
     "output_type": "stream",
     "text": [
      " BindingDB___pIC50_FNTB_YEAST_Biochemical.csv 3.95% in F set\n"
     ]
    },
    {
     "name": "stderr",
     "output_type": "stream",
     "text": [
      " 28%|██▊       | 370/1343 [00:25<01:05, 14.80it/s]"
     ]
    },
    {
     "name": "stdout",
     "output_type": "stream",
     "text": [
      " BindingDB___pIC50_GBA2_HUMAN_Biochemical.csv 4.55% in B set\n",
      " BindingDB___pIC50_GBRA1_HUMAN_Biochemical.csv 4.35% in I set\n",
      " BindingDB___pIC50_GCN5_YEAST_Biochemical.csv 4.08% in D set\n"
     ]
    },
    {
     "name": "stderr",
     "output_type": "stream",
     "text": [
      " 28%|██▊       | 376/1343 [00:25<01:05, 14.74it/s]"
     ]
    },
    {
     "name": "stdout",
     "output_type": "stream",
     "text": [
      " BindingDB___pIC50_GIPR_HUMAN_Biochemical.csv 2.88% in A set\n"
     ]
    },
    {
     "name": "stderr",
     "output_type": "stream",
     "text": [
      " 29%|██▊       | 386/1343 [00:26<01:04, 14.72it/s]"
     ]
    },
    {
     "name": "stdout",
     "output_type": "stream",
     "text": [
      " BindingDB___pIC50_GRIA1_RAT_Biochemical.csv 4.76% in D set\n",
      " BindingDB___pIC50_GRIA1_RAT_Biochemical.csv 1.19% in I set\n"
     ]
    },
    {
     "name": "stderr",
     "output_type": "stream",
     "text": [
      " 30%|██▉       | 398/1343 [00:27<01:04, 14.73it/s]"
     ]
    },
    {
     "name": "stdout",
     "output_type": "stream",
     "text": [
      " BindingDB___pIC50_GSTM2_HUMAN_Biochemical.csv 3.57% in I set\n"
     ]
    },
    {
     "name": "stderr",
     "output_type": "stream",
     "text": [
      " 31%|███       | 416/1343 [00:28<01:03, 14.71it/s]"
     ]
    },
    {
     "name": "stdout",
     "output_type": "stream",
     "text": [
      " BindingDB___pIC50_HDAC9_HUMAN_Biochemical.csv 4.86% in A set\n",
      " BindingDB___pIC50_HEPS_HUMAN_Biochemical.csv 4.11% in F set\n"
     ]
    },
    {
     "name": "stderr",
     "output_type": "stream",
     "text": [
      " 31%|███▏      | 422/1343 [00:28<01:02, 14.68it/s]"
     ]
    },
    {
     "name": "stdout",
     "output_type": "stream",
     "text": [
      " BindingDB___pIC50_HPPD_PIG_Biochemical.csv 3.51% in F set\n"
     ]
    },
    {
     "name": "stderr",
     "output_type": "stream",
     "text": [
      " 33%|███▎      | 440/1343 [00:29<01:01, 14.76it/s]"
     ]
    },
    {
     "name": "stdout",
     "output_type": "stream",
     "text": [
      " BindingDB___pIC50_IL8_HUMAN_Biochemical.csv 3.85% in E set\n"
     ]
    },
    {
     "name": "stderr",
     "output_type": "stream",
     "text": [
      " 34%|███▎      | 450/1343 [00:30<01:00, 14.72it/s]"
     ]
    },
    {
     "name": "stdout",
     "output_type": "stream",
     "text": [
      " BindingDB___pIC50_ITB8_HUMAN_Biochemical.csv 4.88% in G set\n"
     ]
    },
    {
     "name": "stderr",
     "output_type": "stream",
     "text": [
      " 35%|███▍      | 466/1343 [00:31<00:59, 14.79it/s]"
     ]
    },
    {
     "name": "stdout",
     "output_type": "stream",
     "text": [
      " BindingDB___pIC50_KCNJ5_HUMAN_Biochemical.csv 4.76% in A set\n",
      " BindingDB___pIC50_KCNJ5_HUMAN_Biochemical.csv 4.76% in J set\n",
      " BindingDB___pIC50_KCNT1_HUMAN_Biochemical.csv 3.28% in D set\n"
     ]
    },
    {
     "name": "stderr",
     "output_type": "stream",
     "text": [
      " 35%|███▌      | 474/1343 [00:32<00:58, 14.78it/s]"
     ]
    },
    {
     "name": "stdout",
     "output_type": "stream",
     "text": [
      " BindingDB___pIC50_KDM4D_HUMAN_Biochemical.csv 4.40% in G set\n"
     ]
    },
    {
     "name": "stderr",
     "output_type": "stream",
     "text": [
      " 37%|███▋      | 492/1343 [00:33<00:57, 14.78it/s]"
     ]
    },
    {
     "name": "stdout",
     "output_type": "stream",
     "text": [
      " BindingDB___pIC50_KS6A1_HUMAN_Biochemical.csv 3.64% in F set\n",
      " BindingDB___pIC50_KS6A5_HUMAN_Biochemical.csv 4.55% in F set\n"
     ]
    },
    {
     "name": "stderr",
     "output_type": "stream",
     "text": [
      " 37%|███▋      | 500/1343 [00:33<00:57, 14.72it/s]"
     ]
    },
    {
     "name": "stdout",
     "output_type": "stream",
     "text": [
      " BindingDB___pIC50_LCK_MOUSE_Biochemical.csv 1.45% in G set\n"
     ]
    },
    {
     "name": "stderr",
     "output_type": "stream",
     "text": [
      " 38%|███▊      | 504/1343 [00:34<00:56, 14.77it/s]"
     ]
    },
    {
     "name": "stdout",
     "output_type": "stream",
     "text": [
      " BindingDB___pIC50_LIMK2_HUMAN_Biochemical.csv 4.00% in H set\n"
     ]
    },
    {
     "name": "stderr",
     "output_type": "stream",
     "text": [
      " 38%|███▊      | 508/1343 [00:34<00:56, 14.74it/s]"
     ]
    },
    {
     "name": "stdout",
     "output_type": "stream",
     "text": [
      " BindingDB___pIC50_LMBL3_HUMAN_Biochemical.csv 4.76% in H set\n"
     ]
    },
    {
     "name": "stderr",
     "output_type": "stream",
     "text": [
      " 38%|███▊      | 514/1343 [00:34<00:56, 14.78it/s]"
     ]
    },
    {
     "name": "stdout",
     "output_type": "stream",
     "text": [
      " BindingDB___pIC50_LPAR3_HUMAN_Biochemical.csv 3.75% in E set\n"
     ]
    },
    {
     "name": "stderr",
     "output_type": "stream",
     "text": [
      " 39%|███▉      | 530/1343 [00:35<00:54, 14.81it/s]"
     ]
    },
    {
     "name": "stdout",
     "output_type": "stream",
     "text": [
      " BindingDB___pIC50_MAL32_YEAST_Biochemical.csv 3.23% in B set\n"
     ]
    },
    {
     "name": "stderr",
     "output_type": "stream",
     "text": [
      " 40%|███▉      | 536/1343 [00:36<00:54, 14.78it/s]"
     ]
    },
    {
     "name": "stdout",
     "output_type": "stream",
     "text": [
      " BindingDB___pIC50_MBD2_HUMAN_Biochemical.csv 3.77% in D set\n",
      " BindingDB___pIC50_MBD2_HUMAN_Biochemical.csv 1.89% in F set\n",
      " BindingDB___pIC50_MBD2_HUMAN_Biochemical.csv 1.89% in G set\n"
     ]
    },
    {
     "name": "stderr",
     "output_type": "stream",
     "text": [
      " 41%|████      | 544/1343 [00:36<00:54, 14.73it/s]"
     ]
    },
    {
     "name": "stdout",
     "output_type": "stream",
     "text": [
      " BindingDB___pIC50_MDR1B_MOUSE_Biochemical.csv 2.86% in F set\n"
     ]
    },
    {
     "name": "stderr",
     "output_type": "stream",
     "text": [
      " 41%|████▏     | 554/1343 [00:37<00:53, 14.69it/s]"
     ]
    },
    {
     "name": "stdout",
     "output_type": "stream",
     "text": [
      " BindingDB___pIC50_MGLL_RAT_Biochemical.csv 4.88% in A set\n",
      " BindingDB___pIC50_MGLL_RAT_Biochemical.csv 4.07% in I set\n"
     ]
    },
    {
     "name": "stderr",
     "output_type": "stream",
     "text": [
      " 42%|████▏     | 562/1343 [00:38<00:53, 14.60it/s]"
     ]
    },
    {
     "name": "stdout",
     "output_type": "stream",
     "text": [
      " BindingDB___pIC50_MK13_HUMAN_Biochemical.csv 4.88% in H set\n"
     ]
    },
    {
     "name": "stderr",
     "output_type": "stream",
     "text": [
      " 43%|████▎     | 582/1343 [00:39<00:52, 14.44it/s]"
     ]
    },
    {
     "name": "stdout",
     "output_type": "stream",
     "text": [
      " BindingDB___pIC50_MTR1B_HUMAN_Biochemical.csv 4.48% in F set\n",
      " BindingDB___pIC50_MTR1B_HUMAN_Biochemical.csv 2.99% in C set\n",
      " BindingDB___pIC50_MURA_ECOLI_Biochemical.csv 4.29% in G set\n"
     ]
    },
    {
     "name": "stderr",
     "output_type": "stream",
     "text": [
      " 44%|████▎     | 586/1343 [00:39<00:52, 14.38it/s]"
     ]
    },
    {
     "name": "stdout",
     "output_type": "stream",
     "text": [
      " BindingDB___pIC50_MYB_CHICK_Biochemical.csv 1.75% in G set\n",
      " BindingDB___pIC50_MYLK_CHICK_Biochemical.csv 4.04% in J set\n"
     ]
    },
    {
     "name": "stderr",
     "output_type": "stream",
     "text": [
      " 44%|████▍     | 590/1343 [00:40<00:52, 14.32it/s]"
     ]
    },
    {
     "name": "stdout",
     "output_type": "stream",
     "text": [
      " BindingDB___pIC50_NDUV1_BOVIN_Biochemical.csv 3.45% in B set\n",
      " BindingDB___pIC50_NEUR4_HUMAN_Biochemical.csv 4.62% in A set\n",
      " BindingDB___pIC50_NEUR4_HUMAN_Biochemical.csv 3.08% in G set\n",
      " BindingDB___pIC50_NF2L2_HUMAN_Biochemical.csv 4.52% in J set\n"
     ]
    },
    {
     "name": "stderr",
     "output_type": "stream",
     "text": [
      " 45%|████▍     | 598/1343 [00:40<00:51, 14.40it/s]"
     ]
    },
    {
     "name": "stdout",
     "output_type": "stream",
     "text": [
      " BindingDB___pIC50_NLRP3_MOUSE_Biochemical.csv 4.78% in G set\n"
     ]
    },
    {
     "name": "stderr",
     "output_type": "stream",
     "text": [
      " 45%|████▌     | 610/1343 [00:41<00:50, 14.53it/s]"
     ]
    },
    {
     "name": "stdout",
     "output_type": "stream",
     "text": [
      " BindingDB___pIC50_NOTC1_HUMAN_Biochemical.csv 3.81% in C set\n",
      " BindingDB___pIC50_NPSR1_HUMAN_Biochemical.csv 3.57% in C set\n"
     ]
    },
    {
     "name": "stderr",
     "output_type": "stream",
     "text": [
      " 46%|████▌     | 618/1343 [00:42<00:49, 14.54it/s]"
     ]
    },
    {
     "name": "stdout",
     "output_type": "stream",
     "text": [
      " BindingDB___pIC50_NQO1_HUMAN_Biochemical.csv 4.76% in G set\n"
     ]
    },
    {
     "name": "stderr",
     "output_type": "stream",
     "text": [
      " 46%|████▌     | 620/1343 [00:42<00:50, 14.43it/s]"
     ]
    },
    {
     "name": "stdout",
     "output_type": "stream",
     "text": [
      " BindingDB___pIC50_NR1I3_HUMAN_Biochemical.csv 3.85% in I set\n",
      " BindingDB___pIC50_NR1I3_HUMAN_Biochemical.csv 1.92% in A set\n"
     ]
    },
    {
     "name": "stderr",
     "output_type": "stream",
     "text": [
      " 47%|████▋     | 630/1343 [00:42<00:50, 14.16it/s]"
     ]
    },
    {
     "name": "stdout",
     "output_type": "stream",
     "text": [
      " BindingDB___pIC50_NUAK1_HUMAN_Biochemical.csv 4.76% in H set\n",
      " BindingDB___pIC50_NUAK1_HUMAN_Biochemical.csv 4.76% in E set\n",
      " BindingDB___pIC50_NUAK1_HUMAN_Biochemical.csv 4.76% in J set\n"
     ]
    },
    {
     "name": "stderr",
     "output_type": "stream",
     "text": [
      " 48%|████▊     | 648/1343 [00:44<00:48, 14.26it/s]"
     ]
    },
    {
     "name": "stdout",
     "output_type": "stream",
     "text": [
      " BindingDB___pIC50_P2RY1_MELGA_Biochemical.csv 4.69% in I set\n"
     ]
    },
    {
     "name": "stderr",
     "output_type": "stream",
     "text": [
      " 49%|████▊     | 652/1343 [00:44<00:48, 14.36it/s]"
     ]
    },
    {
     "name": "stdout",
     "output_type": "stream",
     "text": [
      " BindingDB___pIC50_P4HTM_HUMAN_Biochemical.csv 4.88% in C set\n",
      " BindingDB___pIC50_P4HTM_HUMAN_Biochemical.csv 4.88% in B set\n",
      " BindingDB___pIC50_P4HTM_HUMAN_Biochemical.csv 4.88% in I set\n"
     ]
    },
    {
     "name": "stderr",
     "output_type": "stream",
     "text": [
      " 49%|████▉     | 664/1343 [00:45<00:46, 14.52it/s]"
     ]
    },
    {
     "name": "stdout",
     "output_type": "stream",
     "text": [
      " BindingDB___pIC50_PAPA1_CARPA_Biochemical.csv 4.48% in I set\n"
     ]
    },
    {
     "name": "stderr",
     "output_type": "stream",
     "text": [
      " 50%|████▉     | 670/1343 [00:45<00:45, 14.66it/s]"
     ]
    },
    {
     "name": "stdout",
     "output_type": "stream",
     "text": [
      " BindingDB___pIC50_PB1_HUMAN_Biochemical.csv 1.64% in I set\n",
      " BindingDB___pIC50_PD2R_MOUSE_Biochemical.csv 2.90% in B set\n"
     ]
    },
    {
     "name": "stderr",
     "output_type": "stream",
     "text": [
      " 52%|█████▏    | 696/1343 [00:47<00:44, 14.57it/s]"
     ]
    },
    {
     "name": "stdout",
     "output_type": "stream",
     "text": [
      " BindingDB___pIC50_PDK4_HUMAN_Biochemical.csv 4.05% in E set\n",
      " BindingDB___pIC50_PDK4_RAT_Biochemical.csv 3.51% in G set\n"
     ]
    },
    {
     "name": "stderr",
     "output_type": "stream",
     "text": [
      " 53%|█████▎    | 710/1343 [00:48<00:43, 14.66it/s]"
     ]
    },
    {
     "name": "stdout",
     "output_type": "stream",
     "text": [
      " BindingDB___pIC50_PGH2_RAT_Biochemical.csv 1.92% in F set\n",
      " BindingDB___pIC50_PGTB1_HUMAN_Biochemical.csv 4.00% in D set\n"
     ]
    },
    {
     "name": "stderr",
     "output_type": "stream",
     "text": [
      " 54%|█████▎    | 720/1343 [00:49<00:42, 14.60it/s]"
     ]
    },
    {
     "name": "stdout",
     "output_type": "stream",
     "text": [
      " BindingDB___pIC50_PK3CA_MOUSE_Biochemical.csv 4.76% in B set\n",
      " BindingDB___pIC50_PK3CB_RAT_Biochemical.csv 3.70% in H set\n"
     ]
    },
    {
     "name": "stderr",
     "output_type": "stream",
     "text": [
      " 55%|█████▌    | 740/1343 [00:50<00:41, 14.49it/s]"
     ]
    },
    {
     "name": "stdout",
     "output_type": "stream",
     "text": [
      " BindingDB___pIC50_POLG_HCVJ4_Biochemical.csv 3.45% in D set\n",
      " BindingDB___pIC50_POLG_HCVJ4_Biochemical.csv 1.72% in C set\n"
     ]
    },
    {
     "name": "stderr",
     "output_type": "stream",
     "text": [
      " 55%|█████▌    | 742/1343 [00:50<00:41, 14.39it/s]"
     ]
    },
    {
     "name": "stdout",
     "output_type": "stream",
     "text": [
      " BindingDB___pIC50_PPBI_HUMAN_Biochemical.csv 4.49% in J set\n"
     ]
    },
    {
     "name": "stderr",
     "output_type": "stream",
     "text": [
      " 56%|█████▌    | 746/1343 [00:50<00:41, 14.43it/s]"
     ]
    },
    {
     "name": "stdout",
     "output_type": "stream",
     "text": [
      " BindingDB___pIC50_PPCE_PIG_Biochemical.csv 4.90% in D set\n"
     ]
    },
    {
     "name": "stderr",
     "output_type": "stream",
     "text": [
      " 56%|█████▌    | 754/1343 [00:51<00:41, 14.16it/s]"
     ]
    },
    {
     "name": "stdout",
     "output_type": "stream",
     "text": [
      " BindingDB___pIC50_PSBA_SPIOL_Biochemical.csv 4.76% in F set\n",
      " BindingDB___pIC50_PSBA_SPIOL_Biochemical.csv 3.17% in H set\n"
     ]
    },
    {
     "name": "stderr",
     "output_type": "stream",
     "text": [
      " 57%|█████▋    | 764/1343 [00:52<00:39, 14.66it/s]"
     ]
    },
    {
     "name": "stdout",
     "output_type": "stream",
     "text": [
      " BindingDB___pIC50_PTPRC_HUMAN_Biochemical.csv 4.35% in E set\n",
      " BindingDB___pIC50_PTPRF_HUMAN_Biochemical.csv 4.94% in E set\n"
     ]
    },
    {
     "name": "stderr",
     "output_type": "stream",
     "text": [
      " 58%|█████▊    | 774/1343 [00:52<00:38, 14.69it/s]"
     ]
    },
    {
     "name": "stdout",
     "output_type": "stream",
     "text": [
      " BindingDB___pIC50_RENI_MACFA_Biochemical.csv 4.49% in D set\n",
      " BindingDB___pIC50_RICI_RICCO_Biochemical.csv 4.41% in B set\n",
      " BindingDB___pIC50_RICI_RICCO_Biochemical.csv 2.94% in A set\n"
     ]
    },
    {
     "name": "stderr",
     "output_type": "stream",
     "text": [
      " 59%|█████▊    | 786/1343 [00:53<00:38, 14.47it/s]"
     ]
    },
    {
     "name": "stdout",
     "output_type": "stream",
     "text": [
      " BindingDB___pIC50_RPOB_ECOLI_Biochemical.csv 3.70% in G set\n"
     ]
    },
    {
     "name": "stderr",
     "output_type": "stream",
     "text": [
      " 60%|██████    | 808/1343 [00:55<00:36, 14.49it/s]"
     ]
    },
    {
     "name": "stdout",
     "output_type": "stream",
     "text": [
      " BindingDB___pIC50_SC6A5_HUMAN_Biochemical.csv 4.96% in H set\n",
      " BindingDB___pIC50_SC6A9_RAT_Biochemical.csv 3.60% in G set\n"
     ]
    },
    {
     "name": "stderr",
     "output_type": "stream",
     "text": [
      " 61%|██████    | 818/1343 [00:55<00:36, 14.35it/s]"
     ]
    },
    {
     "name": "stdout",
     "output_type": "stream",
     "text": [
      " BindingDB___pIC50_SCN3A_HUMAN_Biochemical.csv 4.69% in E set\n",
      " BindingDB___pIC50_SCN3A_HUMAN_Biochemical.csv 4.69% in A set\n"
     ]
    },
    {
     "name": "stderr",
     "output_type": "stream",
     "text": [
      " 64%|██████▍   | 858/1343 [00:58<00:34, 14.22it/s]"
     ]
    },
    {
     "name": "stdout",
     "output_type": "stream",
     "text": [
      " BindingDB___pIC50_STK3_HUMAN_Biochemical.csv 3.45% in B set\n"
     ]
    },
    {
     "name": "stderr",
     "output_type": "stream",
     "text": [
      " 66%|██████▌   | 880/1343 [01:00<00:31, 14.60it/s]"
     ]
    },
    {
     "name": "stdout",
     "output_type": "stream",
     "text": [
      " BindingDB___pIC50_TNI3K_HUMAN_Biochemical.csv 4.06% in F set\n"
     ]
    },
    {
     "name": "stderr",
     "output_type": "stream",
     "text": [
      " 66%|██████▌   | 888/1343 [01:00<00:31, 14.50it/s]"
     ]
    },
    {
     "name": "stdout",
     "output_type": "stream",
     "text": [
      " BindingDB___pIC50_TRM3_HCMVA_Biochemical.csv 1.67% in E set\n",
      " BindingDB___pIC50_TRPC3_HUMAN_Biochemical.csv 3.45% in E set\n"
     ]
    },
    {
     "name": "stderr",
     "output_type": "stream",
     "text": [
      " 67%|██████▋   | 904/1343 [01:01<00:30, 14.35it/s]"
     ]
    },
    {
     "name": "stdout",
     "output_type": "stream",
     "text": [
      " BindingDB___pIC50_TYPH_HUMAN_Biochemical.csv 4.00% in B set\n"
     ]
    },
    {
     "name": "stderr",
     "output_type": "stream",
     "text": [
      " 68%|██████▊   | 912/1343 [01:02<00:29, 14.45it/s]"
     ]
    },
    {
     "name": "stdout",
     "output_type": "stream",
     "text": [
      " BindingDB___pIC50_UT2_RAT_Biochemical.csv 3.77% in G set\n"
     ]
    },
    {
     "name": "stderr",
     "output_type": "stream",
     "text": [
      " 69%|██████▊   | 920/1343 [01:02<00:29, 14.34it/s]"
     ]
    },
    {
     "name": "stdout",
     "output_type": "stream",
     "text": [
      " BindingDB___pIC50_VGFR2_MOUSE_Biochemical.csv 4.55% in I set\n"
     ]
    },
    {
     "name": "stderr",
     "output_type": "stream",
     "text": [
      " 69%|██████▉   | 924/1343 [01:03<00:29, 14.41it/s]"
     ]
    },
    {
     "name": "stdout",
     "output_type": "stream",
     "text": [
      " BindingDB___pIC50_WDR5_HUMAN_Biochemical.csv 4.26% in G set\n"
     ]
    },
    {
     "name": "stderr",
     "output_type": "stream",
     "text": [
      " 70%|██████▉   | 934/1343 [01:03<00:28, 14.60it/s]"
     ]
    },
    {
     "name": "stdout",
     "output_type": "stream",
     "text": [
      " BindingDB___pKd_ACES_HUMAN_Biochemical.csv 3.80% in G set\n",
      " BindingDB___pKd_ACM1_HUMAN_Biochemical.csv 3.77% in H set\n",
      " BindingDB___pKd_ACM3_HUMAN_Biochemical.csv 2.35% in B set\n"
     ]
    },
    {
     "name": "stderr",
     "output_type": "stream",
     "text": [
      " 70%|██████▉   | 938/1343 [01:04<00:28, 14.38it/s]"
     ]
    },
    {
     "name": "stdout",
     "output_type": "stream",
     "text": [
      " BindingDB___pKd_ADRB1_HUMAN_Biochemical.csv 4.17% in A set\n",
      " BindingDB___pKd_ADRB2_HUMAN_Biochemical.csv 4.44% in A set\n"
     ]
    },
    {
     "name": "stderr",
     "output_type": "stream",
     "text": [
      " 70%|███████   | 944/1343 [01:04<00:27, 14.35it/s]"
     ]
    },
    {
     "name": "stdout",
     "output_type": "stream",
     "text": [
      " BindingDB___pKd_CSF1R_HUMAN_Biochemical.csv 4.76% in B set\n"
     ]
    },
    {
     "name": "stderr",
     "output_type": "stream",
     "text": [
      " 71%|███████   | 950/1343 [01:05<00:27, 14.20it/s]"
     ]
    },
    {
     "name": "stdout",
     "output_type": "stream",
     "text": [
      " BindingDB___pKd_FLT3_HUMAN_Biochemical.csv 4.14% in D set\n",
      " BindingDB___pKd_FLT3_HUMAN_Biochemical.csv 2.76% in H set\n",
      " BindingDB___pKd_KDM1A_HUMAN_Biochemical.csv 2.67% in D set\n"
     ]
    },
    {
     "name": "stderr",
     "output_type": "stream",
     "text": [
      " 71%|███████   | 956/1343 [01:05<00:26, 14.44it/s]"
     ]
    },
    {
     "name": "stdout",
     "output_type": "stream",
     "text": [
      " BindingDB___pKd_LEG7_HUMAN_Biochemical.csv 4.84% in A set\n",
      " BindingDB___pKd_LEG7_HUMAN_Biochemical.csv 4.84% in C set\n"
     ]
    },
    {
     "name": "stderr",
     "output_type": "stream",
     "text": [
      " 71%|███████▏  | 960/1343 [01:05<00:26, 14.51it/s]"
     ]
    },
    {
     "name": "stdout",
     "output_type": "stream",
     "text": [
      " BindingDB___pKd_MK10_HUMAN_Biochemical.csv 2.30% in D set\n"
     ]
    },
    {
     "name": "stderr",
     "output_type": "stream",
     "text": [
      " 72%|███████▏  | 964/1343 [01:06<00:26, 14.41it/s]"
     ]
    },
    {
     "name": "stdout",
     "output_type": "stream",
     "text": [
      " BindingDB___pKd_P3C2B_HUMAN_Biochemical.csv 4.90% in C set\n"
     ]
    },
    {
     "name": "stderr",
     "output_type": "stream",
     "text": [
      " 73%|███████▎  | 976/1343 [01:06<00:25, 14.58it/s]"
     ]
    },
    {
     "name": "stdout",
     "output_type": "stream",
     "text": [
      " BindingDB___pKd_SC6A3_HUMAN_Biochemical.csv 4.35% in B set\n"
     ]
    },
    {
     "name": "stderr",
     "output_type": "stream",
     "text": [
      " 74%|███████▍  | 994/1343 [01:08<00:23, 14.72it/s]"
     ]
    },
    {
     "name": "stdout",
     "output_type": "stream",
     "text": [
      " BindingDB___pKi_5NTD_RAT_Biochemical.csv 2.17% in F set\n",
      " BindingDB___pKi_A0A087WW23_HUMAN_Biochemical.csv 4.88% in A set\n"
     ]
    },
    {
     "name": "stderr",
     "output_type": "stream",
     "text": [
      " 75%|███████▍  | 1004/1343 [01:08<00:23, 14.68it/s]"
     ]
    },
    {
     "name": "stdout",
     "output_type": "stream",
     "text": [
      " BindingDB___pKi_ACE_HUMAN_Biochemical.csv 3.66% in C set\n",
      " BindingDB___pKi_ACHA2_RAT_Biochemical.csv 3.70% in H set\n"
     ]
    },
    {
     "name": "stderr",
     "output_type": "stream",
     "text": [
      " 77%|███████▋  | 1034/1343 [01:10<00:20, 14.75it/s]"
     ]
    },
    {
     "name": "stdout",
     "output_type": "stream",
     "text": [
      " BindingDB___pKi_ADRB1_RAT_Biochemical.csv 4.42% in D set\n"
     ]
    },
    {
     "name": "stderr",
     "output_type": "stream",
     "text": [
      " 78%|███████▊  | 1046/1343 [01:11<00:20, 14.70it/s]"
     ]
    },
    {
     "name": "stdout",
     "output_type": "stream",
     "text": [
      " BindingDB___pKi_AOFB_RAT_Biochemical.csv 4.35% in C set\n",
      " BindingDB___pKi_B2LA1_HUMAN_Biochemical.csv 1.75% in J set\n"
     ]
    },
    {
     "name": "stderr",
     "output_type": "stream",
     "text": [
      " 78%|███████▊  | 1054/1343 [01:12<00:19, 14.60it/s]"
     ]
    },
    {
     "name": "stdout",
     "output_type": "stream",
     "text": [
      " BindingDB___pKi_BLAT_ECOLX_Biochemical.csv 4.05% in F set\n",
      " BindingDB___pKi_BMP1_HUMAN_Biochemical.csv 4.92% in C set\n",
      " BindingDB___pKi_BMP1_HUMAN_Biochemical.csv 4.92% in H set\n"
     ]
    },
    {
     "name": "stderr",
     "output_type": "stream",
     "text": [
      " 79%|███████▉  | 1058/1343 [01:12<00:19, 14.63it/s]"
     ]
    },
    {
     "name": "stdout",
     "output_type": "stream",
     "text": [
      " BindingDB___pKi_CAC1C_RAT_Biochemical.csv 2.99% in F set\n"
     ]
    },
    {
     "name": "stderr",
     "output_type": "stream",
     "text": [
      " 81%|████████  | 1082/1343 [01:14<00:18, 14.43it/s]"
     ]
    },
    {
     "name": "stdout",
     "output_type": "stream",
     "text": [
      " BindingDB___pKi_CBPA1_HUMAN_Biochemical.csv 1.69% in J set\n",
      " BindingDB___pKi_CBPA1_HUMAN_Biochemical.csv 1.69% in G set\n"
     ]
    },
    {
     "name": "stderr",
     "output_type": "stream",
     "text": [
      " 84%|████████▍ | 1126/1343 [01:17<00:15, 14.07it/s]"
     ]
    },
    {
     "name": "stdout",
     "output_type": "stream",
     "text": [
      " BindingDB___pKi_EST1_HUMAN_Biochemical.csv 4.47% in C set\n"
     ]
    },
    {
     "name": "stderr",
     "output_type": "stream",
     "text": [
      " 85%|████████▍ | 1136/1343 [01:17<00:14, 14.30it/s]"
     ]
    },
    {
     "name": "stdout",
     "output_type": "stream",
     "text": [
      " BindingDB___pKi_FABP4_HUMAN_Biochemical.csv 4.76% in B set\n",
      " BindingDB___pKi_FABP4_HUMAN_Biochemical.csv 4.76% in G set\n"
     ]
    },
    {
     "name": "stderr",
     "output_type": "stream",
     "text": [
      " 85%|████████▌ | 1146/1343 [01:18<00:13, 14.44it/s]"
     ]
    },
    {
     "name": "stdout",
     "output_type": "stream",
     "text": [
      " BindingDB___pKi_GLP1R_HUMAN_Biochemical.csv 2.22% in E set\n"
     ]
    },
    {
     "name": "stderr",
     "output_type": "stream",
     "text": [
      " 86%|████████▌ | 1150/1343 [01:18<00:13, 14.39it/s]"
     ]
    },
    {
     "name": "stdout",
     "output_type": "stream",
     "text": [
      " BindingDB___pKi_GPR35_HUMAN_Biochemical.csv 3.70% in H set\n"
     ]
    },
    {
     "name": "stderr",
     "output_type": "stream",
     "text": [
      " 86%|████████▌ | 1158/1343 [01:19<00:12, 14.45it/s]"
     ]
    },
    {
     "name": "stdout",
     "output_type": "stream",
     "text": [
      " BindingDB___pKi_HDAC1_HUMAN_Biochemical.csv 4.12% in C set\n"
     ]
    },
    {
     "name": "stderr",
     "output_type": "stream",
     "text": [
      " 87%|████████▋ | 1162/1343 [01:19<00:12, 14.45it/s]"
     ]
    },
    {
     "name": "stdout",
     "output_type": "stream",
     "text": [
      " BindingDB___pKi_HEPS_HUMAN_Biochemical.csv 4.26% in F set\n",
      " BindingDB___pKi_HGFA_HUMAN_Biochemical.csv 3.33% in F set\n"
     ]
    },
    {
     "name": "stderr",
     "output_type": "stream",
     "text": [
      " 87%|████████▋ | 1166/1343 [01:20<00:13, 13.51it/s]"
     ]
    },
    {
     "name": "stdout",
     "output_type": "stream",
     "text": [
      " BindingDB___pKi_HRH1_RAT_Biochemical.csv 3.29% in D set\n"
     ]
    },
    {
     "name": "stderr",
     "output_type": "stream",
     "text": [
      " 88%|████████▊ | 1180/1343 [01:21<00:11, 14.02it/s]"
     ]
    },
    {
     "name": "stdout",
     "output_type": "stream",
     "text": [
      " BindingDB___pKi_KEAP1_HUMAN_Biochemical.csv 2.94% in J set\n",
      " BindingDB___pKi_KEAP1_HUMAN_Biochemical.csv 1.47% in E set\n"
     ]
    },
    {
     "name": "stderr",
     "output_type": "stream",
     "text": [
      " 88%|████████▊ | 1182/1343 [01:21<00:11, 14.02it/s]"
     ]
    },
    {
     "name": "stdout",
     "output_type": "stream",
     "text": [
      " BindingDB___pKi_KLK5_HUMAN_Biochemical.csv 4.17% in C set\n",
      " BindingDB___pKi_KPCT_HUMAN_Biochemical.csv 4.40% in I set\n"
     ]
    },
    {
     "name": "stderr",
     "output_type": "stream",
     "text": [
      " 88%|████████▊ | 1186/1343 [01:21<00:11, 14.06it/s]"
     ]
    },
    {
     "name": "stdout",
     "output_type": "stream",
     "text": [
      " BindingDB___pKi_LGUL_HUMAN_Biochemical.csv 3.19% in B set\n"
     ]
    },
    {
     "name": "stderr",
     "output_type": "stream",
     "text": [
      " 89%|████████▊ | 1190/1343 [01:21<00:10, 14.16it/s]"
     ]
    },
    {
     "name": "stdout",
     "output_type": "stream",
     "text": [
      " BindingDB___pKi_MBTA_MYCTU_Biochemical.csv 4.00% in F set\n"
     ]
    },
    {
     "name": "stderr",
     "output_type": "stream",
     "text": [
      " 90%|████████▉ | 1208/1343 [01:22<00:09, 14.69it/s]"
     ]
    },
    {
     "name": "stdout",
     "output_type": "stream",
     "text": [
      " BindingDB___pKi_MTLR_HUMAN_Biochemical.csv 2.94% in G set\n"
     ]
    },
    {
     "name": "stderr",
     "output_type": "stream",
     "text": [
      " 91%|█████████▏| 1226/1343 [01:24<00:08, 14.15it/s]"
     ]
    },
    {
     "name": "stdout",
     "output_type": "stream",
     "text": [
      " BindingDB___pKi_NR1H2_HUMAN_Biochemical.csv 4.59% in E set\n",
      " BindingDB___pKi_NRAM_I34A1_Biochemical.csv 1.69% in J set\n"
     ]
    },
    {
     "name": "stderr",
     "output_type": "stream",
     "text": [
      " 93%|█████████▎| 1246/1343 [01:25<00:06, 14.38it/s]"
     ]
    },
    {
     "name": "stdout",
     "output_type": "stream",
     "text": [
      " BindingDB___pKi_P4K2A_HUMAN_Biochemical.csv 4.00% in B set\n"
     ]
    },
    {
     "name": "stderr",
     "output_type": "stream",
     "text": [
      " 95%|█████████▌| 1278/1343 [01:27<00:04, 14.54it/s]"
     ]
    },
    {
     "name": "stdout",
     "output_type": "stream",
     "text": [
      " BindingDB___pKi_PTPA_MYCTU_Biochemical.csv 4.00% in I set\n",
      " BindingDB___pKi_PTPA_MYCTU_Biochemical.csv 2.00% in G set\n"
     ]
    },
    {
     "name": "stderr",
     "output_type": "stream",
     "text": [
      " 97%|█████████▋| 1296/1343 [01:29<00:03, 14.50it/s]"
     ]
    },
    {
     "name": "stdout",
     "output_type": "stream",
     "text": [
      " BindingDB___pKi_SCN9A_HUMAN_Biochemical.csv 4.37% in C set\n"
     ]
    },
    {
     "name": "stderr",
     "output_type": "stream",
     "text": [
      " 97%|█████████▋| 1306/1343 [01:29<00:02, 14.75it/s]"
     ]
    },
    {
     "name": "stdout",
     "output_type": "stream",
     "text": [
      " BindingDB___pKi_SSR3_HUMAN_Biochemical.csv 4.87% in I set\n",
      " BindingDB___pKi_SYUA_HUMAN_Biochemical.csv 1.33% in D set\n"
     ]
    },
    {
     "name": "stderr",
     "output_type": "stream",
     "text": [
      " 98%|█████████▊| 1314/1343 [01:30<00:01, 14.81it/s]"
     ]
    },
    {
     "name": "stdout",
     "output_type": "stream",
     "text": [
      " BindingDB___pKi_TERF2_HUMAN_Biochemical.csv 1.82% in J set\n",
      " BindingDB___pKi_TGFR1_HUMAN_Biochemical.csv 3.85% in H set\n",
      " BindingDB___pKi_TGFR1_HUMAN_Biochemical.csv 1.92% in G set\n"
     ]
    },
    {
     "name": "stderr",
     "output_type": "stream",
     "text": [
      " 99%|█████████▊| 1326/1343 [01:31<00:01, 14.89it/s]"
     ]
    },
    {
     "name": "stdout",
     "output_type": "stream",
     "text": [
      " BindingDB___pKi_TSPO_HUMAN_Biochemical.csv 4.67% in G set\n"
     ]
    },
    {
     "name": "stderr",
     "output_type": "stream",
     "text": [
      " 99%|█████████▉| 1330/1343 [01:31<00:00, 14.26it/s]"
     ]
    },
    {
     "name": "stdout",
     "output_type": "stream",
     "text": [
      " BindingDB___pKi_UPAR_HUMAN_Biochemical.csv 4.69% in F set\n",
      " BindingDB___pKi_UREA_CANEN_Biochemical.csv 4.55% in H set\n",
      " BindingDB___pKi_UREA_CANEN_Biochemical.csv 1.52% in B set\n"
     ]
    },
    {
     "name": "stderr",
     "output_type": "stream",
     "text": [
      " 99%|█████████▉| 1334/1343 [01:31<00:00, 14.27it/s]"
     ]
    },
    {
     "name": "stdout",
     "output_type": "stream",
     "text": [
      " BindingDB___pKi_V1AR_RAT_Biochemical.csv 4.17% in B set\n"
     ]
    },
    {
     "name": "stderr",
     "output_type": "stream",
     "text": [
      "100%|█████████▉| 1338/1343 [01:31<00:00, 14.13it/s]"
     ]
    },
    {
     "name": "stdout",
     "output_type": "stream",
     "text": [
      " BindingDB___pKi_VACHT_RAT_Biochemical.csv 4.69% in D set\n",
      " BindingDB___pKi_VACHT_TETCF_Biochemical.csv 3.70% in A set\n"
     ]
    },
    {
     "name": "stderr",
     "output_type": "stream",
     "text": [
      "100%|██████████| 1343/1343 [01:32<00:00, 14.55it/s]\n"
     ]
    }
   ],
   "source": [
    "set_out = []\n",
    "for col in tqdm(filtered_cols):\n",
    "    # Keep only SMILES, Set, and current column\n",
    "    df_unique = df_split[[\"SMILES\", \"Set\", col]].dropna()\n",
    "\n",
    "    # Calculate % of each set\n",
    "    set_counts = df_unique[\"Set\"].value_counts(normalize=True)\n",
    "\n",
    "    # Print if any set has more than 10%\n",
    "    for set_name, frac in set_counts.items():\n",
    "        if frac < 0.05:\n",
    "            set_out.append(col)\n",
    "            print(f\" {col} {frac:.2%} in {set_name} set\")\n"
   ]
  },
  {
   "cell_type": "markdown",
   "id": "a288fe8c",
   "metadata": {},
   "source": [
    "# 4) Filter out columns"
   ]
  },
  {
   "cell_type": "code",
   "execution_count": 12,
   "id": "044be3f1",
   "metadata": {},
   "outputs": [
    {
     "name": "stderr",
     "output_type": "stream",
     "text": [
      "100%|██████████| 1345/1345 [00:00<00:00, 2907.35it/s]\n"
     ]
    }
   ],
   "source": [
    "to_remove_all = to_remove + set_out\n",
    "\n",
    "filtered_cols_full = [\n",
    "    col for col in tqdm(df_split.columns)\n",
    "    if col not in ['SMILES', 'Set']\n",
    "    and min_non_nan <= df_split[col].notna().sum() <= max_non_nan\n",
    "    and col not in to_remove_all\n",
    "    and col not in set_out\n",
    "]\n",
    "\n",
    "# Keep only SMILES, Set, and the filtered columns\n",
    "df_filtered_MTL = df_split[[\"SMILES\", \"Set\"] + filtered_cols_full]\n"
   ]
  },
  {
   "cell_type": "code",
   "execution_count": 13,
   "id": "e5906b37",
   "metadata": {},
   "outputs": [
    {
     "data": {
      "text/html": [
       "<div>\n",
       "<style scoped>\n",
       "    .dataframe tbody tr th:only-of-type {\n",
       "        vertical-align: middle;\n",
       "    }\n",
       "\n",
       "    .dataframe tbody tr th {\n",
       "        vertical-align: top;\n",
       "    }\n",
       "\n",
       "    .dataframe thead th {\n",
       "        text-align: right;\n",
       "    }\n",
       "</style>\n",
       "<table border=\"1\" class=\"dataframe\">\n",
       "  <thead>\n",
       "    <tr style=\"text-align: right;\">\n",
       "      <th></th>\n",
       "      <th>SMILES</th>\n",
       "      <th>Set</th>\n",
       "      <th>Clearance-Microsomal_Mouse-pmL%min%kg_Public.csv</th>\n",
       "      <th>Clearance-Microsomal_Rat-pmL%min%kg_Public.csv</th>\n",
       "      <th>Clearance-Renal_pmL%min%kg_Public.csv</th>\n",
       "      <th>Clearance-Total_iv-Rat-pmL%min%kg_Public.csv</th>\n",
       "      <th>Half-Life_Human-Microsome-pHours_Public.csv</th>\n",
       "      <th>Half-Life_Human-Plasma-pHours_Public.csv</th>\n",
       "      <th>Half-Life_Rat-Microsome-pHours_Public.csv</th>\n",
       "      <th>Half-Life_Rat-Plasma-pHours_Public.csv</th>\n",
       "      <th>...</th>\n",
       "      <th>BindingDB___pKi_UR2R_HUMAN_Biochemical.csv</th>\n",
       "      <th>BindingDB___pKi_UROK_HUMAN_Biochemical.csv</th>\n",
       "      <th>BindingDB___pKi_V1BR_HUMAN_Biochemical.csv</th>\n",
       "      <th>BindingDB___pKi_VACHT_HUMAN_Biochemical.csv</th>\n",
       "      <th>BindingDB___pKi_VDR_HUMAN_Biochemical.csv</th>\n",
       "      <th>BindingDB___pKi_VMAT2_RAT_Biochemical.csv</th>\n",
       "      <th>BindingDB___pKi_WDR5_HUMAN_Biochemical.csv</th>\n",
       "      <th>pIC50_Cell-Prolif_Public.csv</th>\n",
       "      <th>PUBLIC___pIC50_hERG_HAMSTER_Cell_Public.csv</th>\n",
       "      <th>PUBLIC___pKi_hERG_HAMSTER_Cell_Public.csv</th>\n",
       "    </tr>\n",
       "  </thead>\n",
       "  <tbody>\n",
       "    <tr>\n",
       "      <th>0</th>\n",
       "      <td>CCCC[n]1[n]c([s]c1=NC(=O)c1cc(ccc1N(C)N(C)C(=O...</td>\n",
       "      <td>F</td>\n",
       "      <td>NaN</td>\n",
       "      <td>NaN</td>\n",
       "      <td>NaN</td>\n",
       "      <td>NaN</td>\n",
       "      <td>NaN</td>\n",
       "      <td>NaN</td>\n",
       "      <td>NaN</td>\n",
       "      <td>NaN</td>\n",
       "      <td>...</td>\n",
       "      <td>NaN</td>\n",
       "      <td>NaN</td>\n",
       "      <td>NaN</td>\n",
       "      <td>NaN</td>\n",
       "      <td>NaN</td>\n",
       "      <td>NaN</td>\n",
       "      <td>NaN</td>\n",
       "      <td>NaN</td>\n",
       "      <td>NaN</td>\n",
       "      <td>NaN</td>\n",
       "    </tr>\n",
       "    <tr>\n",
       "      <th>1</th>\n",
       "      <td>O=C1OC(CNC(=O)c2ccc(Cl)[s]2)CN1c1ccc(cc1)NC(=O...</td>\n",
       "      <td>I</td>\n",
       "      <td>NaN</td>\n",
       "      <td>NaN</td>\n",
       "      <td>NaN</td>\n",
       "      <td>NaN</td>\n",
       "      <td>NaN</td>\n",
       "      <td>NaN</td>\n",
       "      <td>NaN</td>\n",
       "      <td>NaN</td>\n",
       "      <td>...</td>\n",
       "      <td>NaN</td>\n",
       "      <td>NaN</td>\n",
       "      <td>NaN</td>\n",
       "      <td>NaN</td>\n",
       "      <td>NaN</td>\n",
       "      <td>NaN</td>\n",
       "      <td>NaN</td>\n",
       "      <td>NaN</td>\n",
       "      <td>NaN</td>\n",
       "      <td>NaN</td>\n",
       "    </tr>\n",
       "    <tr>\n",
       "      <th>2</th>\n",
       "      <td>COc1cc2CCN3Cc4cc(O)c(O)cc4CC3c2cc1OC</td>\n",
       "      <td>B</td>\n",
       "      <td>NaN</td>\n",
       "      <td>NaN</td>\n",
       "      <td>NaN</td>\n",
       "      <td>NaN</td>\n",
       "      <td>NaN</td>\n",
       "      <td>NaN</td>\n",
       "      <td>NaN</td>\n",
       "      <td>NaN</td>\n",
       "      <td>...</td>\n",
       "      <td>NaN</td>\n",
       "      <td>NaN</td>\n",
       "      <td>NaN</td>\n",
       "      <td>NaN</td>\n",
       "      <td>NaN</td>\n",
       "      <td>NaN</td>\n",
       "      <td>NaN</td>\n",
       "      <td>NaN</td>\n",
       "      <td>NaN</td>\n",
       "      <td>NaN</td>\n",
       "    </tr>\n",
       "    <tr>\n",
       "      <th>3</th>\n",
       "      <td>CN(CCN(C)CCO)c1ccc(c(c1-c1[n][nH][n][n]1)S(N)(...</td>\n",
       "      <td>C</td>\n",
       "      <td>NaN</td>\n",
       "      <td>NaN</td>\n",
       "      <td>NaN</td>\n",
       "      <td>NaN</td>\n",
       "      <td>NaN</td>\n",
       "      <td>NaN</td>\n",
       "      <td>NaN</td>\n",
       "      <td>NaN</td>\n",
       "      <td>...</td>\n",
       "      <td>NaN</td>\n",
       "      <td>NaN</td>\n",
       "      <td>NaN</td>\n",
       "      <td>NaN</td>\n",
       "      <td>NaN</td>\n",
       "      <td>NaN</td>\n",
       "      <td>NaN</td>\n",
       "      <td>NaN</td>\n",
       "      <td>NaN</td>\n",
       "      <td>NaN</td>\n",
       "    </tr>\n",
       "    <tr>\n",
       "      <th>4</th>\n",
       "      <td>ONC(=O)c1cc2cc(CNCc3ccccc3)ccc2[s]1</td>\n",
       "      <td>G</td>\n",
       "      <td>NaN</td>\n",
       "      <td>NaN</td>\n",
       "      <td>NaN</td>\n",
       "      <td>NaN</td>\n",
       "      <td>NaN</td>\n",
       "      <td>NaN</td>\n",
       "      <td>NaN</td>\n",
       "      <td>NaN</td>\n",
       "      <td>...</td>\n",
       "      <td>NaN</td>\n",
       "      <td>NaN</td>\n",
       "      <td>NaN</td>\n",
       "      <td>NaN</td>\n",
       "      <td>NaN</td>\n",
       "      <td>NaN</td>\n",
       "      <td>NaN</td>\n",
       "      <td>NaN</td>\n",
       "      <td>NaN</td>\n",
       "      <td>NaN</td>\n",
       "    </tr>\n",
       "    <tr>\n",
       "      <th>...</th>\n",
       "      <td>...</td>\n",
       "      <td>...</td>\n",
       "      <td>...</td>\n",
       "      <td>...</td>\n",
       "      <td>...</td>\n",
       "      <td>...</td>\n",
       "      <td>...</td>\n",
       "      <td>...</td>\n",
       "      <td>...</td>\n",
       "      <td>...</td>\n",
       "      <td>...</td>\n",
       "      <td>...</td>\n",
       "      <td>...</td>\n",
       "      <td>...</td>\n",
       "      <td>...</td>\n",
       "      <td>...</td>\n",
       "      <td>...</td>\n",
       "      <td>...</td>\n",
       "      <td>...</td>\n",
       "      <td>...</td>\n",
       "      <td>...</td>\n",
       "    </tr>\n",
       "    <tr>\n",
       "      <th>693782</th>\n",
       "      <td>CCC(O)c1ccc(cc1F)C(F)(F)F</td>\n",
       "      <td>A</td>\n",
       "      <td>NaN</td>\n",
       "      <td>NaN</td>\n",
       "      <td>NaN</td>\n",
       "      <td>NaN</td>\n",
       "      <td>NaN</td>\n",
       "      <td>NaN</td>\n",
       "      <td>NaN</td>\n",
       "      <td>NaN</td>\n",
       "      <td>...</td>\n",
       "      <td>NaN</td>\n",
       "      <td>NaN</td>\n",
       "      <td>NaN</td>\n",
       "      <td>NaN</td>\n",
       "      <td>NaN</td>\n",
       "      <td>NaN</td>\n",
       "      <td>NaN</td>\n",
       "      <td>NaN</td>\n",
       "      <td>NaN</td>\n",
       "      <td>NaN</td>\n",
       "    </tr>\n",
       "    <tr>\n",
       "      <th>693783</th>\n",
       "      <td>CC(C)[n]1cc(c(=O)[n](c1=O)-c1ccc(F)cc1)C(=O)Nc...</td>\n",
       "      <td>E</td>\n",
       "      <td>NaN</td>\n",
       "      <td>NaN</td>\n",
       "      <td>NaN</td>\n",
       "      <td>NaN</td>\n",
       "      <td>NaN</td>\n",
       "      <td>NaN</td>\n",
       "      <td>NaN</td>\n",
       "      <td>NaN</td>\n",
       "      <td>...</td>\n",
       "      <td>NaN</td>\n",
       "      <td>NaN</td>\n",
       "      <td>NaN</td>\n",
       "      <td>NaN</td>\n",
       "      <td>NaN</td>\n",
       "      <td>NaN</td>\n",
       "      <td>NaN</td>\n",
       "      <td>NaN</td>\n",
       "      <td>NaN</td>\n",
       "      <td>NaN</td>\n",
       "    </tr>\n",
       "    <tr>\n",
       "      <th>693784</th>\n",
       "      <td>Cc1cc(cc(C)c1Cl)OCCCc1c([nH]c2ccccc12)C(=O)NS(...</td>\n",
       "      <td>A</td>\n",
       "      <td>NaN</td>\n",
       "      <td>NaN</td>\n",
       "      <td>NaN</td>\n",
       "      <td>NaN</td>\n",
       "      <td>NaN</td>\n",
       "      <td>NaN</td>\n",
       "      <td>NaN</td>\n",
       "      <td>NaN</td>\n",
       "      <td>...</td>\n",
       "      <td>NaN</td>\n",
       "      <td>NaN</td>\n",
       "      <td>NaN</td>\n",
       "      <td>NaN</td>\n",
       "      <td>NaN</td>\n",
       "      <td>NaN</td>\n",
       "      <td>NaN</td>\n",
       "      <td>NaN</td>\n",
       "      <td>NaN</td>\n",
       "      <td>NaN</td>\n",
       "    </tr>\n",
       "    <tr>\n",
       "      <th>693785</th>\n",
       "      <td>COc1ccc(cc1OC)-c1cc(c2ccccc2[n]1)C(=O)NCCc1ccc...</td>\n",
       "      <td>C</td>\n",
       "      <td>NaN</td>\n",
       "      <td>NaN</td>\n",
       "      <td>NaN</td>\n",
       "      <td>NaN</td>\n",
       "      <td>NaN</td>\n",
       "      <td>NaN</td>\n",
       "      <td>NaN</td>\n",
       "      <td>NaN</td>\n",
       "      <td>...</td>\n",
       "      <td>NaN</td>\n",
       "      <td>NaN</td>\n",
       "      <td>NaN</td>\n",
       "      <td>NaN</td>\n",
       "      <td>NaN</td>\n",
       "      <td>NaN</td>\n",
       "      <td>NaN</td>\n",
       "      <td>NaN</td>\n",
       "      <td>NaN</td>\n",
       "      <td>NaN</td>\n",
       "    </tr>\n",
       "    <tr>\n",
       "      <th>693786</th>\n",
       "      <td>COc1[n][n]2cc([n]c2[s]1)-c1cc2c(cccc2OCc2ccc(F...</td>\n",
       "      <td>E</td>\n",
       "      <td>NaN</td>\n",
       "      <td>NaN</td>\n",
       "      <td>NaN</td>\n",
       "      <td>NaN</td>\n",
       "      <td>NaN</td>\n",
       "      <td>NaN</td>\n",
       "      <td>NaN</td>\n",
       "      <td>NaN</td>\n",
       "      <td>...</td>\n",
       "      <td>NaN</td>\n",
       "      <td>NaN</td>\n",
       "      <td>NaN</td>\n",
       "      <td>NaN</td>\n",
       "      <td>NaN</td>\n",
       "      <td>NaN</td>\n",
       "      <td>NaN</td>\n",
       "      <td>NaN</td>\n",
       "      <td>NaN</td>\n",
       "      <td>NaN</td>\n",
       "    </tr>\n",
       "  </tbody>\n",
       "</table>\n",
       "<p>693787 rows × 1188 columns</p>\n",
       "</div>"
      ],
      "text/plain": [
       "                                                   SMILES Set  \\\n",
       "0       CCCC[n]1[n]c([s]c1=NC(=O)c1cc(ccc1N(C)N(C)C(=O...   F   \n",
       "1       O=C1OC(CNC(=O)c2ccc(Cl)[s]2)CN1c1ccc(cc1)NC(=O...   I   \n",
       "2                    COc1cc2CCN3Cc4cc(O)c(O)cc4CC3c2cc1OC   B   \n",
       "3       CN(CCN(C)CCO)c1ccc(c(c1-c1[n][nH][n][n]1)S(N)(...   C   \n",
       "4                     ONC(=O)c1cc2cc(CNCc3ccccc3)ccc2[s]1   G   \n",
       "...                                                   ...  ..   \n",
       "693782                          CCC(O)c1ccc(cc1F)C(F)(F)F   A   \n",
       "693783  CC(C)[n]1cc(c(=O)[n](c1=O)-c1ccc(F)cc1)C(=O)Nc...   E   \n",
       "693784  Cc1cc(cc(C)c1Cl)OCCCc1c([nH]c2ccccc12)C(=O)NS(...   A   \n",
       "693785  COc1ccc(cc1OC)-c1cc(c2ccccc2[n]1)C(=O)NCCc1ccc...   C   \n",
       "693786  COc1[n][n]2cc([n]c2[s]1)-c1cc2c(cccc2OCc2ccc(F...   E   \n",
       "\n",
       "        Clearance-Microsomal_Mouse-pmL%min%kg_Public.csv  \\\n",
       "0                                                    NaN   \n",
       "1                                                    NaN   \n",
       "2                                                    NaN   \n",
       "3                                                    NaN   \n",
       "4                                                    NaN   \n",
       "...                                                  ...   \n",
       "693782                                               NaN   \n",
       "693783                                               NaN   \n",
       "693784                                               NaN   \n",
       "693785                                               NaN   \n",
       "693786                                               NaN   \n",
       "\n",
       "        Clearance-Microsomal_Rat-pmL%min%kg_Public.csv  \\\n",
       "0                                                  NaN   \n",
       "1                                                  NaN   \n",
       "2                                                  NaN   \n",
       "3                                                  NaN   \n",
       "4                                                  NaN   \n",
       "...                                                ...   \n",
       "693782                                             NaN   \n",
       "693783                                             NaN   \n",
       "693784                                             NaN   \n",
       "693785                                             NaN   \n",
       "693786                                             NaN   \n",
       "\n",
       "        Clearance-Renal_pmL%min%kg_Public.csv  \\\n",
       "0                                         NaN   \n",
       "1                                         NaN   \n",
       "2                                         NaN   \n",
       "3                                         NaN   \n",
       "4                                         NaN   \n",
       "...                                       ...   \n",
       "693782                                    NaN   \n",
       "693783                                    NaN   \n",
       "693784                                    NaN   \n",
       "693785                                    NaN   \n",
       "693786                                    NaN   \n",
       "\n",
       "        Clearance-Total_iv-Rat-pmL%min%kg_Public.csv  \\\n",
       "0                                                NaN   \n",
       "1                                                NaN   \n",
       "2                                                NaN   \n",
       "3                                                NaN   \n",
       "4                                                NaN   \n",
       "...                                              ...   \n",
       "693782                                           NaN   \n",
       "693783                                           NaN   \n",
       "693784                                           NaN   \n",
       "693785                                           NaN   \n",
       "693786                                           NaN   \n",
       "\n",
       "        Half-Life_Human-Microsome-pHours_Public.csv  \\\n",
       "0                                               NaN   \n",
       "1                                               NaN   \n",
       "2                                               NaN   \n",
       "3                                               NaN   \n",
       "4                                               NaN   \n",
       "...                                             ...   \n",
       "693782                                          NaN   \n",
       "693783                                          NaN   \n",
       "693784                                          NaN   \n",
       "693785                                          NaN   \n",
       "693786                                          NaN   \n",
       "\n",
       "        Half-Life_Human-Plasma-pHours_Public.csv  \\\n",
       "0                                            NaN   \n",
       "1                                            NaN   \n",
       "2                                            NaN   \n",
       "3                                            NaN   \n",
       "4                                            NaN   \n",
       "...                                          ...   \n",
       "693782                                       NaN   \n",
       "693783                                       NaN   \n",
       "693784                                       NaN   \n",
       "693785                                       NaN   \n",
       "693786                                       NaN   \n",
       "\n",
       "        Half-Life_Rat-Microsome-pHours_Public.csv  \\\n",
       "0                                             NaN   \n",
       "1                                             NaN   \n",
       "2                                             NaN   \n",
       "3                                             NaN   \n",
       "4                                             NaN   \n",
       "...                                           ...   \n",
       "693782                                        NaN   \n",
       "693783                                        NaN   \n",
       "693784                                        NaN   \n",
       "693785                                        NaN   \n",
       "693786                                        NaN   \n",
       "\n",
       "        Half-Life_Rat-Plasma-pHours_Public.csv  ...  \\\n",
       "0                                          NaN  ...   \n",
       "1                                          NaN  ...   \n",
       "2                                          NaN  ...   \n",
       "3                                          NaN  ...   \n",
       "4                                          NaN  ...   \n",
       "...                                        ...  ...   \n",
       "693782                                     NaN  ...   \n",
       "693783                                     NaN  ...   \n",
       "693784                                     NaN  ...   \n",
       "693785                                     NaN  ...   \n",
       "693786                                     NaN  ...   \n",
       "\n",
       "        BindingDB___pKi_UR2R_HUMAN_Biochemical.csv  \\\n",
       "0                                              NaN   \n",
       "1                                              NaN   \n",
       "2                                              NaN   \n",
       "3                                              NaN   \n",
       "4                                              NaN   \n",
       "...                                            ...   \n",
       "693782                                         NaN   \n",
       "693783                                         NaN   \n",
       "693784                                         NaN   \n",
       "693785                                         NaN   \n",
       "693786                                         NaN   \n",
       "\n",
       "        BindingDB___pKi_UROK_HUMAN_Biochemical.csv  \\\n",
       "0                                              NaN   \n",
       "1                                              NaN   \n",
       "2                                              NaN   \n",
       "3                                              NaN   \n",
       "4                                              NaN   \n",
       "...                                            ...   \n",
       "693782                                         NaN   \n",
       "693783                                         NaN   \n",
       "693784                                         NaN   \n",
       "693785                                         NaN   \n",
       "693786                                         NaN   \n",
       "\n",
       "        BindingDB___pKi_V1BR_HUMAN_Biochemical.csv  \\\n",
       "0                                              NaN   \n",
       "1                                              NaN   \n",
       "2                                              NaN   \n",
       "3                                              NaN   \n",
       "4                                              NaN   \n",
       "...                                            ...   \n",
       "693782                                         NaN   \n",
       "693783                                         NaN   \n",
       "693784                                         NaN   \n",
       "693785                                         NaN   \n",
       "693786                                         NaN   \n",
       "\n",
       "        BindingDB___pKi_VACHT_HUMAN_Biochemical.csv  \\\n",
       "0                                               NaN   \n",
       "1                                               NaN   \n",
       "2                                               NaN   \n",
       "3                                               NaN   \n",
       "4                                               NaN   \n",
       "...                                             ...   \n",
       "693782                                          NaN   \n",
       "693783                                          NaN   \n",
       "693784                                          NaN   \n",
       "693785                                          NaN   \n",
       "693786                                          NaN   \n",
       "\n",
       "        BindingDB___pKi_VDR_HUMAN_Biochemical.csv  \\\n",
       "0                                             NaN   \n",
       "1                                             NaN   \n",
       "2                                             NaN   \n",
       "3                                             NaN   \n",
       "4                                             NaN   \n",
       "...                                           ...   \n",
       "693782                                        NaN   \n",
       "693783                                        NaN   \n",
       "693784                                        NaN   \n",
       "693785                                        NaN   \n",
       "693786                                        NaN   \n",
       "\n",
       "        BindingDB___pKi_VMAT2_RAT_Biochemical.csv  \\\n",
       "0                                             NaN   \n",
       "1                                             NaN   \n",
       "2                                             NaN   \n",
       "3                                             NaN   \n",
       "4                                             NaN   \n",
       "...                                           ...   \n",
       "693782                                        NaN   \n",
       "693783                                        NaN   \n",
       "693784                                        NaN   \n",
       "693785                                        NaN   \n",
       "693786                                        NaN   \n",
       "\n",
       "        BindingDB___pKi_WDR5_HUMAN_Biochemical.csv  \\\n",
       "0                                              NaN   \n",
       "1                                              NaN   \n",
       "2                                              NaN   \n",
       "3                                              NaN   \n",
       "4                                              NaN   \n",
       "...                                            ...   \n",
       "693782                                         NaN   \n",
       "693783                                         NaN   \n",
       "693784                                         NaN   \n",
       "693785                                         NaN   \n",
       "693786                                         NaN   \n",
       "\n",
       "        pIC50_Cell-Prolif_Public.csv  \\\n",
       "0                                NaN   \n",
       "1                                NaN   \n",
       "2                                NaN   \n",
       "3                                NaN   \n",
       "4                                NaN   \n",
       "...                              ...   \n",
       "693782                           NaN   \n",
       "693783                           NaN   \n",
       "693784                           NaN   \n",
       "693785                           NaN   \n",
       "693786                           NaN   \n",
       "\n",
       "        PUBLIC___pIC50_hERG_HAMSTER_Cell_Public.csv  \\\n",
       "0                                               NaN   \n",
       "1                                               NaN   \n",
       "2                                               NaN   \n",
       "3                                               NaN   \n",
       "4                                               NaN   \n",
       "...                                             ...   \n",
       "693782                                          NaN   \n",
       "693783                                          NaN   \n",
       "693784                                          NaN   \n",
       "693785                                          NaN   \n",
       "693786                                          NaN   \n",
       "\n",
       "        PUBLIC___pKi_hERG_HAMSTER_Cell_Public.csv  \n",
       "0                                             NaN  \n",
       "1                                             NaN  \n",
       "2                                             NaN  \n",
       "3                                             NaN  \n",
       "4                                             NaN  \n",
       "...                                           ...  \n",
       "693782                                        NaN  \n",
       "693783                                        NaN  \n",
       "693784                                        NaN  \n",
       "693785                                        NaN  \n",
       "693786                                        NaN  \n",
       "\n",
       "[693787 rows x 1188 columns]"
      ]
     },
     "execution_count": 13,
     "metadata": {},
     "output_type": "execute_result"
    }
   ],
   "source": [
    "df_filtered_MTL"
   ]
  },
  {
   "cell_type": "code",
   "execution_count": 14,
   "id": "7431623f",
   "metadata": {},
   "outputs": [
    {
     "data": {
      "text/plain": [
       "Set\n",
       "I    69707\n",
       "E    69667\n",
       "D    69566\n",
       "J    69507\n",
       "H    69477\n",
       "G    69423\n",
       "A    69165\n",
       "C    69115\n",
       "B    69093\n",
       "F    69067\n",
       "Name: count, dtype: int64"
      ]
     },
     "execution_count": 14,
     "metadata": {},
     "output_type": "execute_result"
    }
   ],
   "source": [
    "df_filtered_MTL.Set.value_counts()"
   ]
  },
  {
   "cell_type": "markdown",
   "id": "b1d57f26",
   "metadata": {},
   "source": [
    "# 5) Rename the columns"
   ]
  },
  {
   "cell_type": "code",
   "execution_count": 15,
   "id": "75f4688e",
   "metadata": {},
   "outputs": [
    {
     "name": "stderr",
     "output_type": "stream",
     "text": [
      "  0%|          | 0/1186 [00:00<?, ?it/s]/var/folders/2b/_90d0zxj2w3gcjdjskhc3xhw0000gn/T/ipykernel_38247/1747748893.py:7: SettingWithCopyWarning: \n",
      "A value is trying to be set on a copy of a slice from a DataFrame\n",
      "\n",
      "See the caveats in the documentation: https://pandas.pydata.org/pandas-docs/stable/user_guide/indexing.html#returning-a-view-versus-a-copy\n",
      "  df_filtered_MTL.rename(columns={old_name: new_name}, inplace=True)\n",
      "100%|██████████| 1186/1186 [00:00<00:00, 6621.52it/s]\n"
     ]
    }
   ],
   "source": [
    "# Usage\n",
    "cleaned_names = [clean_endpoint_name(name) for name in filtered_cols_full]\n",
    "endpoint_name_mapping = dict(zip(filtered_cols_full, cleaned_names))\n",
    "\n",
    "for old_name, new_name in tqdm(endpoint_name_mapping.items()):\n",
    "    # Optionally, you can rename the columns in the DataFrame\n",
    "    df_filtered_MTL.rename(columns={old_name: new_name}, inplace=True)\n",
    "\n",
    "df_filtered_MTL_cols = df_filtered_MTL.columns.tolist()[2:]"
   ]
  },
  {
   "cell_type": "markdown",
   "id": "8d51c1a3",
   "metadata": {},
   "source": [
    "# 6) Prepare MTL data"
   ]
  },
  {
   "cell_type": "code",
   "execution_count": 19,
   "id": "c66602e7",
   "metadata": {},
   "outputs": [],
   "source": [
    "# Drop rows where all values in filtered_cols are NaN\n",
    "try:\n",
    "    os.mkdir('../data/exp/MTL')\n",
    "except FileExistsError:\n",
    "    pass\n",
    "\n",
    "df_filtered_MTL = df_filtered_MTL.dropna(subset=df_filtered_MTL_cols, how='all')\n",
    "\n",
    "df_filtered_MTL['InChIKey'] = df_filtered_MTL['SMILES'].apply(smiles_to_inchikey)\n",
    "\n",
    "# Insert InChIKey as first column\n",
    "cols = ['InChIKey'] + [col for col in df_filtered_MTL.columns if col != 'InChIKey']\n",
    "df_filtered_MTL = df_filtered_MTL[cols]\n",
    "\n",
    "df_filtered_MTL.to_parquet('../data/exp/MTL/oneADMET_LR-MTL.parquet', index=False)"
   ]
  },
  {
   "cell_type": "markdown",
   "id": "0113378e",
   "metadata": {},
   "source": [
    "# 7) Prepare STL data"
   ]
  },
  {
   "cell_type": "code",
   "execution_count": 17,
   "id": "3d0de127",
   "metadata": {},
   "outputs": [
    {
     "name": "stderr",
     "output_type": "stream",
     "text": [
      "100%|██████████| 1186/1186 [01:36<00:00, 12.25it/s]\n"
     ]
    }
   ],
   "source": [
    "# Prepare STL data\n",
    "try:\n",
    "    os.mkdir('../data/exp/STL')\n",
    "except FileExistsError:\n",
    "    pass\n",
    "for col in tqdm(df_filtered_MTL_cols):\n",
    "    # Keep only SMILES, Set, and current column\n",
    "    df_filtered_STL = df_filtered_MTL[['InChIKey', \"SMILES\", \"Set\", col]].dropna().sample(frac=1, random_state=42)\n",
    "    df_filtered_STL.columns = ['InChIKey', \"SMILES\", \"SET\", \"Y\"]\n",
    "\n",
    "    # Calculate % of each set\n",
    "    set_counts = df_filtered_STL[\"SET\"].value_counts(normalize=True)\n",
    "\n",
    "    if len(df_filtered_STL.drop_duplicates(\"InChIKey\")) != len(df_filtered_STL):\n",
    "        print(f\"Duplicate InChIKey found in {col}\")\n",
    "\n",
    "    # Save the filtered dataframe\n",
    "    df_filtered_STL.to_parquet(f'../data/exp/STL/oneADMET_LR-STL---{col}.parquet', index=False)\n",
    "\n"
   ]
  },
  {
   "cell_type": "code",
   "execution_count": 18,
   "id": "1c69d1e4",
   "metadata": {},
   "outputs": [
    {
     "data": {
      "text/plain": [
       "SET\n",
       "A    129\n",
       "H    129\n",
       "E    127\n",
       "F    126\n",
       "B    125\n",
       "D    123\n",
       "I    117\n",
       "J    111\n",
       "G    106\n",
       "C     82\n",
       "Name: count, dtype: int64"
      ]
     },
     "execution_count": 18,
     "metadata": {},
     "output_type": "execute_result"
    }
   ],
   "source": [
    "df_filtered_STL.SET.value_counts()"
   ]
  },
  {
   "cell_type": "code",
   "execution_count": 29,
   "id": "cae6688e",
   "metadata": {},
   "outputs": [
    {
     "name": "stdout",
     "output_type": "stream",
     "text": [
      "../data/prediction/aug/ABCDEFGHI/STL/RF_ECFP\n",
      "oneADMET_LR-STL---pIC$_{50}$ TGFR1 (HUMAN).parquet\n",
      "oneADMET_LR-STL---pK$_{i}$ CXCR3 (HUMAN).parquet\n",
      "oneADMET_LR-STL---pIC$_{50}$ AMPN (HUMAN).parquet\n"
     ]
    },
    {
     "name": "stderr",
     "output_type": "stream",
     "text": [
      "/Users/pierre/miniconda3/envs/chemprop_v2/lib/python3.11/site-packages/sklearn/metrics/_regression.py:483: FutureWarning: 'squared' is deprecated in version 1.4 and will be removed in 1.6. To calculate the root mean squared error, use the function'root_mean_squared_error'.\n",
      "  warnings.warn(\n",
      "/Users/pierre/miniconda3/envs/chemprop_v2/lib/python3.11/site-packages/sklearn/metrics/_regression.py:483: FutureWarning: 'squared' is deprecated in version 1.4 and will be removed in 1.6. To calculate the root mean squared error, use the function'root_mean_squared_error'.\n",
      "  warnings.warn(\n",
      "/Users/pierre/miniconda3/envs/chemprop_v2/lib/python3.11/site-packages/sklearn/metrics/_regression.py:483: FutureWarning: 'squared' is deprecated in version 1.4 and will be removed in 1.6. To calculate the root mean squared error, use the function'root_mean_squared_error'.\n",
      "  warnings.warn(\n",
      "/Users/pierre/miniconda3/envs/chemprop_v2/lib/python3.11/site-packages/sklearn/metrics/_regression.py:483: FutureWarning: 'squared' is deprecated in version 1.4 and will be removed in 1.6. To calculate the root mean squared error, use the function'root_mean_squared_error'.\n",
      "  warnings.warn(\n",
      "/Users/pierre/miniconda3/envs/chemprop_v2/lib/python3.11/site-packages/sklearn/metrics/_regression.py:483: FutureWarning: 'squared' is deprecated in version 1.4 and will be removed in 1.6. To calculate the root mean squared error, use the function'root_mean_squared_error'.\n",
      "  warnings.warn(\n",
      "/Users/pierre/miniconda3/envs/chemprop_v2/lib/python3.11/site-packages/sklearn/metrics/_regression.py:483: FutureWarning: 'squared' is deprecated in version 1.4 and will be removed in 1.6. To calculate the root mean squared error, use the function'root_mean_squared_error'.\n",
      "  warnings.warn(\n",
      "/Users/pierre/miniconda3/envs/chemprop_v2/lib/python3.11/site-packages/sklearn/metrics/_regression.py:483: FutureWarning: 'squared' is deprecated in version 1.4 and will be removed in 1.6. To calculate the root mean squared error, use the function'root_mean_squared_error'.\n",
      "  warnings.warn(\n",
      "/Users/pierre/miniconda3/envs/chemprop_v2/lib/python3.11/site-packages/sklearn/metrics/_regression.py:483: FutureWarning: 'squared' is deprecated in version 1.4 and will be removed in 1.6. To calculate the root mean squared error, use the function'root_mean_squared_error'.\n",
      "  warnings.warn(\n",
      "/Users/pierre/miniconda3/envs/chemprop_v2/lib/python3.11/site-packages/sklearn/metrics/_regression.py:483: FutureWarning: 'squared' is deprecated in version 1.4 and will be removed in 1.6. To calculate the root mean squared error, use the function'root_mean_squared_error'.\n",
      "  warnings.warn(\n",
      "/Users/pierre/miniconda3/envs/chemprop_v2/lib/python3.11/site-packages/sklearn/metrics/_regression.py:483: FutureWarning: 'squared' is deprecated in version 1.4 and will be removed in 1.6. To calculate the root mean squared error, use the function'root_mean_squared_error'.\n",
      "  warnings.warn(\n",
      "/Users/pierre/miniconda3/envs/chemprop_v2/lib/python3.11/site-packages/sklearn/metrics/_regression.py:483: FutureWarning: 'squared' is deprecated in version 1.4 and will be removed in 1.6. To calculate the root mean squared error, use the function'root_mean_squared_error'.\n",
      "  warnings.warn(\n",
      "/Users/pierre/miniconda3/envs/chemprop_v2/lib/python3.11/site-packages/sklearn/metrics/_regression.py:483: FutureWarning: 'squared' is deprecated in version 1.4 and will be removed in 1.6. To calculate the root mean squared error, use the function'root_mean_squared_error'.\n",
      "  warnings.warn(\n",
      "/Users/pierre/miniconda3/envs/chemprop_v2/lib/python3.11/site-packages/sklearn/metrics/_regression.py:483: FutureWarning: 'squared' is deprecated in version 1.4 and will be removed in 1.6. To calculate the root mean squared error, use the function'root_mean_squared_error'.\n",
      "  warnings.warn(\n",
      "/Users/pierre/miniconda3/envs/chemprop_v2/lib/python3.11/site-packages/sklearn/metrics/_regression.py:483: FutureWarning: 'squared' is deprecated in version 1.4 and will be removed in 1.6. To calculate the root mean squared error, use the function'root_mean_squared_error'.\n",
      "  warnings.warn(\n",
      "/Users/pierre/miniconda3/envs/chemprop_v2/lib/python3.11/site-packages/sklearn/metrics/_regression.py:483: FutureWarning: 'squared' is deprecated in version 1.4 and will be removed in 1.6. To calculate the root mean squared error, use the function'root_mean_squared_error'.\n",
      "  warnings.warn(\n",
      "/Users/pierre/miniconda3/envs/chemprop_v2/lib/python3.11/site-packages/sklearn/metrics/_regression.py:483: FutureWarning: 'squared' is deprecated in version 1.4 and will be removed in 1.6. To calculate the root mean squared error, use the function'root_mean_squared_error'.\n",
      "  warnings.warn(\n",
      "/Users/pierre/miniconda3/envs/chemprop_v2/lib/python3.11/site-packages/sklearn/metrics/_regression.py:483: FutureWarning: 'squared' is deprecated in version 1.4 and will be removed in 1.6. To calculate the root mean squared error, use the function'root_mean_squared_error'.\n",
      "  warnings.warn(\n",
      "/Users/pierre/miniconda3/envs/chemprop_v2/lib/python3.11/site-packages/sklearn/metrics/_regression.py:483: FutureWarning: 'squared' is deprecated in version 1.4 and will be removed in 1.6. To calculate the root mean squared error, use the function'root_mean_squared_error'.\n",
      "  warnings.warn(\n",
      "/Users/pierre/miniconda3/envs/chemprop_v2/lib/python3.11/site-packages/sklearn/metrics/_regression.py:483: FutureWarning: 'squared' is deprecated in version 1.4 and will be removed in 1.6. To calculate the root mean squared error, use the function'root_mean_squared_error'.\n",
      "  warnings.warn(\n",
      "/Users/pierre/miniconda3/envs/chemprop_v2/lib/python3.11/site-packages/sklearn/metrics/_regression.py:483: FutureWarning: 'squared' is deprecated in version 1.4 and will be removed in 1.6. To calculate the root mean squared error, use the function'root_mean_squared_error'.\n",
      "  warnings.warn(\n",
      "/Users/pierre/miniconda3/envs/chemprop_v2/lib/python3.11/site-packages/sklearn/metrics/_regression.py:483: FutureWarning: 'squared' is deprecated in version 1.4 and will be removed in 1.6. To calculate the root mean squared error, use the function'root_mean_squared_error'.\n",
      "  warnings.warn(\n",
      "/Users/pierre/miniconda3/envs/chemprop_v2/lib/python3.11/site-packages/sklearn/metrics/_regression.py:483: FutureWarning: 'squared' is deprecated in version 1.4 and will be removed in 1.6. To calculate the root mean squared error, use the function'root_mean_squared_error'.\n",
      "  warnings.warn(\n",
      "/Users/pierre/miniconda3/envs/chemprop_v2/lib/python3.11/site-packages/sklearn/metrics/_regression.py:483: FutureWarning: 'squared' is deprecated in version 1.4 and will be removed in 1.6. To calculate the root mean squared error, use the function'root_mean_squared_error'.\n",
      "  warnings.warn(\n",
      "/Users/pierre/miniconda3/envs/chemprop_v2/lib/python3.11/site-packages/sklearn/metrics/_regression.py:483: FutureWarning: 'squared' is deprecated in version 1.4 and will be removed in 1.6. To calculate the root mean squared error, use the function'root_mean_squared_error'.\n",
      "  warnings.warn(\n",
      "/Users/pierre/miniconda3/envs/chemprop_v2/lib/python3.11/site-packages/sklearn/metrics/_regression.py:483: FutureWarning: 'squared' is deprecated in version 1.4 and will be removed in 1.6. To calculate the root mean squared error, use the function'root_mean_squared_error'.\n",
      "  warnings.warn(\n",
      "/Users/pierre/miniconda3/envs/chemprop_v2/lib/python3.11/site-packages/sklearn/metrics/_regression.py:483: FutureWarning: 'squared' is deprecated in version 1.4 and will be removed in 1.6. To calculate the root mean squared error, use the function'root_mean_squared_error'.\n",
      "  warnings.warn(\n",
      "/Users/pierre/miniconda3/envs/chemprop_v2/lib/python3.11/site-packages/sklearn/metrics/_regression.py:483: FutureWarning: 'squared' is deprecated in version 1.4 and will be removed in 1.6. To calculate the root mean squared error, use the function'root_mean_squared_error'.\n",
      "  warnings.warn(\n",
      "/Users/pierre/miniconda3/envs/chemprop_v2/lib/python3.11/site-packages/sklearn/metrics/_regression.py:483: FutureWarning: 'squared' is deprecated in version 1.4 and will be removed in 1.6. To calculate the root mean squared error, use the function'root_mean_squared_error'.\n",
      "  warnings.warn(\n",
      "/Users/pierre/miniconda3/envs/chemprop_v2/lib/python3.11/site-packages/sklearn/metrics/_regression.py:483: FutureWarning: 'squared' is deprecated in version 1.4 and will be removed in 1.6. To calculate the root mean squared error, use the function'root_mean_squared_error'.\n",
      "  warnings.warn(\n",
      "/Users/pierre/miniconda3/envs/chemprop_v2/lib/python3.11/site-packages/sklearn/metrics/_regression.py:483: FutureWarning: 'squared' is deprecated in version 1.4 and will be removed in 1.6. To calculate the root mean squared error, use the function'root_mean_squared_error'.\n",
      "  warnings.warn(\n",
      "/Users/pierre/miniconda3/envs/chemprop_v2/lib/python3.11/site-packages/sklearn/metrics/_regression.py:483: FutureWarning: 'squared' is deprecated in version 1.4 and will be removed in 1.6. To calculate the root mean squared error, use the function'root_mean_squared_error'.\n",
      "  warnings.warn(\n",
      "/Users/pierre/miniconda3/envs/chemprop_v2/lib/python3.11/site-packages/sklearn/metrics/_regression.py:483: FutureWarning: 'squared' is deprecated in version 1.4 and will be removed in 1.6. To calculate the root mean squared error, use the function'root_mean_squared_error'.\n",
      "  warnings.warn(\n",
      "/Users/pierre/miniconda3/envs/chemprop_v2/lib/python3.11/site-packages/sklearn/metrics/_regression.py:483: FutureWarning: 'squared' is deprecated in version 1.4 and will be removed in 1.6. To calculate the root mean squared error, use the function'root_mean_squared_error'.\n",
      "  warnings.warn(\n",
      "/Users/pierre/miniconda3/envs/chemprop_v2/lib/python3.11/site-packages/sklearn/metrics/_regression.py:483: FutureWarning: 'squared' is deprecated in version 1.4 and will be removed in 1.6. To calculate the root mean squared error, use the function'root_mean_squared_error'.\n",
      "  warnings.warn(\n",
      "/Users/pierre/miniconda3/envs/chemprop_v2/lib/python3.11/site-packages/sklearn/metrics/_regression.py:483: FutureWarning: 'squared' is deprecated in version 1.4 and will be removed in 1.6. To calculate the root mean squared error, use the function'root_mean_squared_error'.\n",
      "  warnings.warn(\n",
      "/Users/pierre/miniconda3/envs/chemprop_v2/lib/python3.11/site-packages/sklearn/metrics/_regression.py:483: FutureWarning: 'squared' is deprecated in version 1.4 and will be removed in 1.6. To calculate the root mean squared error, use the function'root_mean_squared_error'.\n",
      "  warnings.warn(\n",
      "/Users/pierre/miniconda3/envs/chemprop_v2/lib/python3.11/site-packages/sklearn/metrics/_regression.py:483: FutureWarning: 'squared' is deprecated in version 1.4 and will be removed in 1.6. To calculate the root mean squared error, use the function'root_mean_squared_error'.\n",
      "  warnings.warn(\n",
      "/Users/pierre/miniconda3/envs/chemprop_v2/lib/python3.11/site-packages/sklearn/metrics/_regression.py:483: FutureWarning: 'squared' is deprecated in version 1.4 and will be removed in 1.6. To calculate the root mean squared error, use the function'root_mean_squared_error'.\n",
      "  warnings.warn(\n",
      "/Users/pierre/miniconda3/envs/chemprop_v2/lib/python3.11/site-packages/sklearn/metrics/_regression.py:483: FutureWarning: 'squared' is deprecated in version 1.4 and will be removed in 1.6. To calculate the root mean squared error, use the function'root_mean_squared_error'.\n",
      "  warnings.warn(\n",
      "/Users/pierre/miniconda3/envs/chemprop_v2/lib/python3.11/site-packages/sklearn/metrics/_regression.py:483: FutureWarning: 'squared' is deprecated in version 1.4 and will be removed in 1.6. To calculate the root mean squared error, use the function'root_mean_squared_error'.\n",
      "  warnings.warn(\n",
      "/Users/pierre/miniconda3/envs/chemprop_v2/lib/python3.11/site-packages/sklearn/metrics/_regression.py:483: FutureWarning: 'squared' is deprecated in version 1.4 and will be removed in 1.6. To calculate the root mean squared error, use the function'root_mean_squared_error'.\n",
      "  warnings.warn(\n",
      "/Users/pierre/miniconda3/envs/chemprop_v2/lib/python3.11/site-packages/sklearn/metrics/_regression.py:483: FutureWarning: 'squared' is deprecated in version 1.4 and will be removed in 1.6. To calculate the root mean squared error, use the function'root_mean_squared_error'.\n",
      "  warnings.warn(\n",
      "/Users/pierre/miniconda3/envs/chemprop_v2/lib/python3.11/site-packages/sklearn/metrics/_regression.py:483: FutureWarning: 'squared' is deprecated in version 1.4 and will be removed in 1.6. To calculate the root mean squared error, use the function'root_mean_squared_error'.\n",
      "  warnings.warn(\n",
      "/Users/pierre/miniconda3/envs/chemprop_v2/lib/python3.11/site-packages/sklearn/metrics/_regression.py:483: FutureWarning: 'squared' is deprecated in version 1.4 and will be removed in 1.6. To calculate the root mean squared error, use the function'root_mean_squared_error'.\n",
      "  warnings.warn(\n",
      "/Users/pierre/miniconda3/envs/chemprop_v2/lib/python3.11/site-packages/sklearn/metrics/_regression.py:483: FutureWarning: 'squared' is deprecated in version 1.4 and will be removed in 1.6. To calculate the root mean squared error, use the function'root_mean_squared_error'.\n",
      "  warnings.warn(\n",
      "/Users/pierre/miniconda3/envs/chemprop_v2/lib/python3.11/site-packages/sklearn/metrics/_regression.py:483: FutureWarning: 'squared' is deprecated in version 1.4 and will be removed in 1.6. To calculate the root mean squared error, use the function'root_mean_squared_error'.\n",
      "  warnings.warn(\n",
      "/Users/pierre/miniconda3/envs/chemprop_v2/lib/python3.11/site-packages/sklearn/metrics/_regression.py:483: FutureWarning: 'squared' is deprecated in version 1.4 and will be removed in 1.6. To calculate the root mean squared error, use the function'root_mean_squared_error'.\n",
      "  warnings.warn(\n",
      "/Users/pierre/miniconda3/envs/chemprop_v2/lib/python3.11/site-packages/sklearn/metrics/_regression.py:483: FutureWarning: 'squared' is deprecated in version 1.4 and will be removed in 1.6. To calculate the root mean squared error, use the function'root_mean_squared_error'.\n",
      "  warnings.warn(\n",
      "/Users/pierre/miniconda3/envs/chemprop_v2/lib/python3.11/site-packages/sklearn/metrics/_regression.py:483: FutureWarning: 'squared' is deprecated in version 1.4 and will be removed in 1.6. To calculate the root mean squared error, use the function'root_mean_squared_error'.\n",
      "  warnings.warn(\n",
      "/Users/pierre/miniconda3/envs/chemprop_v2/lib/python3.11/site-packages/sklearn/metrics/_regression.py:483: FutureWarning: 'squared' is deprecated in version 1.4 and will be removed in 1.6. To calculate the root mean squared error, use the function'root_mean_squared_error'.\n",
      "  warnings.warn(\n",
      "/Users/pierre/miniconda3/envs/chemprop_v2/lib/python3.11/site-packages/sklearn/metrics/_regression.py:483: FutureWarning: 'squared' is deprecated in version 1.4 and will be removed in 1.6. To calculate the root mean squared error, use the function'root_mean_squared_error'.\n",
      "  warnings.warn(\n",
      "/Users/pierre/miniconda3/envs/chemprop_v2/lib/python3.11/site-packages/sklearn/metrics/_regression.py:483: FutureWarning: 'squared' is deprecated in version 1.4 and will be removed in 1.6. To calculate the root mean squared error, use the function'root_mean_squared_error'.\n",
      "  warnings.warn(\n",
      "/Users/pierre/miniconda3/envs/chemprop_v2/lib/python3.11/site-packages/sklearn/metrics/_regression.py:483: FutureWarning: 'squared' is deprecated in version 1.4 and will be removed in 1.6. To calculate the root mean squared error, use the function'root_mean_squared_error'.\n",
      "  warnings.warn(\n",
      "/Users/pierre/miniconda3/envs/chemprop_v2/lib/python3.11/site-packages/sklearn/metrics/_regression.py:483: FutureWarning: 'squared' is deprecated in version 1.4 and will be removed in 1.6. To calculate the root mean squared error, use the function'root_mean_squared_error'.\n",
      "  warnings.warn(\n",
      "/Users/pierre/miniconda3/envs/chemprop_v2/lib/python3.11/site-packages/sklearn/metrics/_regression.py:483: FutureWarning: 'squared' is deprecated in version 1.4 and will be removed in 1.6. To calculate the root mean squared error, use the function'root_mean_squared_error'.\n",
      "  warnings.warn(\n",
      "/Users/pierre/miniconda3/envs/chemprop_v2/lib/python3.11/site-packages/sklearn/metrics/_regression.py:483: FutureWarning: 'squared' is deprecated in version 1.4 and will be removed in 1.6. To calculate the root mean squared error, use the function'root_mean_squared_error'.\n",
      "  warnings.warn(\n",
      "/Users/pierre/miniconda3/envs/chemprop_v2/lib/python3.11/site-packages/sklearn/metrics/_regression.py:483: FutureWarning: 'squared' is deprecated in version 1.4 and will be removed in 1.6. To calculate the root mean squared error, use the function'root_mean_squared_error'.\n",
      "  warnings.warn(\n",
      "/Users/pierre/miniconda3/envs/chemprop_v2/lib/python3.11/site-packages/sklearn/metrics/_regression.py:483: FutureWarning: 'squared' is deprecated in version 1.4 and will be removed in 1.6. To calculate the root mean squared error, use the function'root_mean_squared_error'.\n",
      "  warnings.warn(\n",
      "/Users/pierre/miniconda3/envs/chemprop_v2/lib/python3.11/site-packages/sklearn/metrics/_regression.py:483: FutureWarning: 'squared' is deprecated in version 1.4 and will be removed in 1.6. To calculate the root mean squared error, use the function'root_mean_squared_error'.\n",
      "  warnings.warn(\n",
      "/Users/pierre/miniconda3/envs/chemprop_v2/lib/python3.11/site-packages/sklearn/metrics/_regression.py:483: FutureWarning: 'squared' is deprecated in version 1.4 and will be removed in 1.6. To calculate the root mean squared error, use the function'root_mean_squared_error'.\n",
      "  warnings.warn(\n",
      "/Users/pierre/miniconda3/envs/chemprop_v2/lib/python3.11/site-packages/sklearn/metrics/_regression.py:483: FutureWarning: 'squared' is deprecated in version 1.4 and will be removed in 1.6. To calculate the root mean squared error, use the function'root_mean_squared_error'.\n",
      "  warnings.warn(\n",
      "/Users/pierre/miniconda3/envs/chemprop_v2/lib/python3.11/site-packages/sklearn/metrics/_regression.py:483: FutureWarning: 'squared' is deprecated in version 1.4 and will be removed in 1.6. To calculate the root mean squared error, use the function'root_mean_squared_error'.\n",
      "  warnings.warn(\n",
      "/Users/pierre/miniconda3/envs/chemprop_v2/lib/python3.11/site-packages/sklearn/metrics/_regression.py:483: FutureWarning: 'squared' is deprecated in version 1.4 and will be removed in 1.6. To calculate the root mean squared error, use the function'root_mean_squared_error'.\n",
      "  warnings.warn(\n",
      "/Users/pierre/miniconda3/envs/chemprop_v2/lib/python3.11/site-packages/sklearn/metrics/_regression.py:483: FutureWarning: 'squared' is deprecated in version 1.4 and will be removed in 1.6. To calculate the root mean squared error, use the function'root_mean_squared_error'.\n",
      "  warnings.warn(\n",
      "/Users/pierre/miniconda3/envs/chemprop_v2/lib/python3.11/site-packages/sklearn/metrics/_regression.py:483: FutureWarning: 'squared' is deprecated in version 1.4 and will be removed in 1.6. To calculate the root mean squared error, use the function'root_mean_squared_error'.\n",
      "  warnings.warn(\n",
      "/Users/pierre/miniconda3/envs/chemprop_v2/lib/python3.11/site-packages/sklearn/metrics/_regression.py:483: FutureWarning: 'squared' is deprecated in version 1.4 and will be removed in 1.6. To calculate the root mean squared error, use the function'root_mean_squared_error'.\n",
      "  warnings.warn(\n",
      "/Users/pierre/miniconda3/envs/chemprop_v2/lib/python3.11/site-packages/sklearn/metrics/_regression.py:483: FutureWarning: 'squared' is deprecated in version 1.4 and will be removed in 1.6. To calculate the root mean squared error, use the function'root_mean_squared_error'.\n",
      "  warnings.warn(\n",
      "/Users/pierre/miniconda3/envs/chemprop_v2/lib/python3.11/site-packages/sklearn/metrics/_regression.py:483: FutureWarning: 'squared' is deprecated in version 1.4 and will be removed in 1.6. To calculate the root mean squared error, use the function'root_mean_squared_error'.\n",
      "  warnings.warn(\n",
      "/Users/pierre/miniconda3/envs/chemprop_v2/lib/python3.11/site-packages/sklearn/metrics/_regression.py:483: FutureWarning: 'squared' is deprecated in version 1.4 and will be removed in 1.6. To calculate the root mean squared error, use the function'root_mean_squared_error'.\n",
      "  warnings.warn(\n",
      "/Users/pierre/miniconda3/envs/chemprop_v2/lib/python3.11/site-packages/sklearn/metrics/_regression.py:483: FutureWarning: 'squared' is deprecated in version 1.4 and will be removed in 1.6. To calculate the root mean squared error, use the function'root_mean_squared_error'.\n",
      "  warnings.warn(\n",
      "/Users/pierre/miniconda3/envs/chemprop_v2/lib/python3.11/site-packages/sklearn/metrics/_regression.py:483: FutureWarning: 'squared' is deprecated in version 1.4 and will be removed in 1.6. To calculate the root mean squared error, use the function'root_mean_squared_error'.\n",
      "  warnings.warn(\n",
      "/Users/pierre/miniconda3/envs/chemprop_v2/lib/python3.11/site-packages/sklearn/metrics/_regression.py:483: FutureWarning: 'squared' is deprecated in version 1.4 and will be removed in 1.6. To calculate the root mean squared error, use the function'root_mean_squared_error'.\n",
      "  warnings.warn(\n",
      "/Users/pierre/miniconda3/envs/chemprop_v2/lib/python3.11/site-packages/sklearn/metrics/_regression.py:483: FutureWarning: 'squared' is deprecated in version 1.4 and will be removed in 1.6. To calculate the root mean squared error, use the function'root_mean_squared_error'.\n",
      "  warnings.warn(\n",
      "/Users/pierre/miniconda3/envs/chemprop_v2/lib/python3.11/site-packages/sklearn/metrics/_regression.py:483: FutureWarning: 'squared' is deprecated in version 1.4 and will be removed in 1.6. To calculate the root mean squared error, use the function'root_mean_squared_error'.\n",
      "  warnings.warn(\n",
      "/Users/pierre/miniconda3/envs/chemprop_v2/lib/python3.11/site-packages/sklearn/metrics/_regression.py:483: FutureWarning: 'squared' is deprecated in version 1.4 and will be removed in 1.6. To calculate the root mean squared error, use the function'root_mean_squared_error'.\n",
      "  warnings.warn(\n",
      "/Users/pierre/miniconda3/envs/chemprop_v2/lib/python3.11/site-packages/sklearn/metrics/_regression.py:483: FutureWarning: 'squared' is deprecated in version 1.4 and will be removed in 1.6. To calculate the root mean squared error, use the function'root_mean_squared_error'.\n",
      "  warnings.warn(\n",
      "/Users/pierre/miniconda3/envs/chemprop_v2/lib/python3.11/site-packages/sklearn/metrics/_regression.py:483: FutureWarning: 'squared' is deprecated in version 1.4 and will be removed in 1.6. To calculate the root mean squared error, use the function'root_mean_squared_error'.\n",
      "  warnings.warn(\n",
      "/Users/pierre/miniconda3/envs/chemprop_v2/lib/python3.11/site-packages/sklearn/metrics/_regression.py:483: FutureWarning: 'squared' is deprecated in version 1.4 and will be removed in 1.6. To calculate the root mean squared error, use the function'root_mean_squared_error'.\n",
      "  warnings.warn(\n",
      "/Users/pierre/miniconda3/envs/chemprop_v2/lib/python3.11/site-packages/sklearn/metrics/_regression.py:483: FutureWarning: 'squared' is deprecated in version 1.4 and will be removed in 1.6. To calculate the root mean squared error, use the function'root_mean_squared_error'.\n",
      "  warnings.warn(\n",
      "/Users/pierre/miniconda3/envs/chemprop_v2/lib/python3.11/site-packages/sklearn/metrics/_regression.py:483: FutureWarning: 'squared' is deprecated in version 1.4 and will be removed in 1.6. To calculate the root mean squared error, use the function'root_mean_squared_error'.\n",
      "  warnings.warn(\n",
      "/Users/pierre/miniconda3/envs/chemprop_v2/lib/python3.11/site-packages/sklearn/metrics/_regression.py:483: FutureWarning: 'squared' is deprecated in version 1.4 and will be removed in 1.6. To calculate the root mean squared error, use the function'root_mean_squared_error'.\n",
      "  warnings.warn(\n",
      "/Users/pierre/miniconda3/envs/chemprop_v2/lib/python3.11/site-packages/sklearn/metrics/_regression.py:483: FutureWarning: 'squared' is deprecated in version 1.4 and will be removed in 1.6. To calculate the root mean squared error, use the function'root_mean_squared_error'.\n",
      "  warnings.warn(\n",
      "/Users/pierre/miniconda3/envs/chemprop_v2/lib/python3.11/site-packages/sklearn/metrics/_regression.py:483: FutureWarning: 'squared' is deprecated in version 1.4 and will be removed in 1.6. To calculate the root mean squared error, use the function'root_mean_squared_error'.\n",
      "  warnings.warn(\n",
      "/Users/pierre/miniconda3/envs/chemprop_v2/lib/python3.11/site-packages/sklearn/metrics/_regression.py:483: FutureWarning: 'squared' is deprecated in version 1.4 and will be removed in 1.6. To calculate the root mean squared error, use the function'root_mean_squared_error'.\n",
      "  warnings.warn(\n",
      "/Users/pierre/miniconda3/envs/chemprop_v2/lib/python3.11/site-packages/sklearn/metrics/_regression.py:483: FutureWarning: 'squared' is deprecated in version 1.4 and will be removed in 1.6. To calculate the root mean squared error, use the function'root_mean_squared_error'.\n",
      "  warnings.warn(\n",
      "/Users/pierre/miniconda3/envs/chemprop_v2/lib/python3.11/site-packages/sklearn/metrics/_regression.py:483: FutureWarning: 'squared' is deprecated in version 1.4 and will be removed in 1.6. To calculate the root mean squared error, use the function'root_mean_squared_error'.\n",
      "  warnings.warn(\n",
      "/Users/pierre/miniconda3/envs/chemprop_v2/lib/python3.11/site-packages/sklearn/metrics/_regression.py:483: FutureWarning: 'squared' is deprecated in version 1.4 and will be removed in 1.6. To calculate the root mean squared error, use the function'root_mean_squared_error'.\n",
      "  warnings.warn(\n",
      "/Users/pierre/miniconda3/envs/chemprop_v2/lib/python3.11/site-packages/sklearn/metrics/_regression.py:483: FutureWarning: 'squared' is deprecated in version 1.4 and will be removed in 1.6. To calculate the root mean squared error, use the function'root_mean_squared_error'.\n",
      "  warnings.warn(\n",
      "/Users/pierre/miniconda3/envs/chemprop_v2/lib/python3.11/site-packages/sklearn/metrics/_regression.py:483: FutureWarning: 'squared' is deprecated in version 1.4 and will be removed in 1.6. To calculate the root mean squared error, use the function'root_mean_squared_error'.\n",
      "  warnings.warn(\n",
      "/Users/pierre/miniconda3/envs/chemprop_v2/lib/python3.11/site-packages/sklearn/metrics/_regression.py:483: FutureWarning: 'squared' is deprecated in version 1.4 and will be removed in 1.6. To calculate the root mean squared error, use the function'root_mean_squared_error'.\n",
      "  warnings.warn(\n",
      "/Users/pierre/miniconda3/envs/chemprop_v2/lib/python3.11/site-packages/sklearn/metrics/_regression.py:483: FutureWarning: 'squared' is deprecated in version 1.4 and will be removed in 1.6. To calculate the root mean squared error, use the function'root_mean_squared_error'.\n",
      "  warnings.warn(\n",
      "/Users/pierre/miniconda3/envs/chemprop_v2/lib/python3.11/site-packages/sklearn/metrics/_regression.py:483: FutureWarning: 'squared' is deprecated in version 1.4 and will be removed in 1.6. To calculate the root mean squared error, use the function'root_mean_squared_error'.\n",
      "  warnings.warn(\n",
      "/Users/pierre/miniconda3/envs/chemprop_v2/lib/python3.11/site-packages/sklearn/metrics/_regression.py:483: FutureWarning: 'squared' is deprecated in version 1.4 and will be removed in 1.6. To calculate the root mean squared error, use the function'root_mean_squared_error'.\n",
      "  warnings.warn(\n",
      "/Users/pierre/miniconda3/envs/chemprop_v2/lib/python3.11/site-packages/sklearn/metrics/_regression.py:483: FutureWarning: 'squared' is deprecated in version 1.4 and will be removed in 1.6. To calculate the root mean squared error, use the function'root_mean_squared_error'.\n",
      "  warnings.warn(\n",
      "/Users/pierre/miniconda3/envs/chemprop_v2/lib/python3.11/site-packages/sklearn/metrics/_regression.py:483: FutureWarning: 'squared' is deprecated in version 1.4 and will be removed in 1.6. To calculate the root mean squared error, use the function'root_mean_squared_error'.\n",
      "  warnings.warn(\n",
      "/Users/pierre/miniconda3/envs/chemprop_v2/lib/python3.11/site-packages/sklearn/metrics/_regression.py:483: FutureWarning: 'squared' is deprecated in version 1.4 and will be removed in 1.6. To calculate the root mean squared error, use the function'root_mean_squared_error'.\n",
      "  warnings.warn(\n",
      "/Users/pierre/miniconda3/envs/chemprop_v2/lib/python3.11/site-packages/sklearn/metrics/_regression.py:483: FutureWarning: 'squared' is deprecated in version 1.4 and will be removed in 1.6. To calculate the root mean squared error, use the function'root_mean_squared_error'.\n",
      "  warnings.warn(\n",
      "/Users/pierre/miniconda3/envs/chemprop_v2/lib/python3.11/site-packages/sklearn/metrics/_regression.py:483: FutureWarning: 'squared' is deprecated in version 1.4 and will be removed in 1.6. To calculate the root mean squared error, use the function'root_mean_squared_error'.\n",
      "  warnings.warn(\n",
      "/Users/pierre/miniconda3/envs/chemprop_v2/lib/python3.11/site-packages/sklearn/metrics/_regression.py:483: FutureWarning: 'squared' is deprecated in version 1.4 and will be removed in 1.6. To calculate the root mean squared error, use the function'root_mean_squared_error'.\n",
      "  warnings.warn(\n",
      "/Users/pierre/miniconda3/envs/chemprop_v2/lib/python3.11/site-packages/sklearn/metrics/_regression.py:483: FutureWarning: 'squared' is deprecated in version 1.4 and will be removed in 1.6. To calculate the root mean squared error, use the function'root_mean_squared_error'.\n",
      "  warnings.warn(\n",
      "/Users/pierre/miniconda3/envs/chemprop_v2/lib/python3.11/site-packages/sklearn/metrics/_regression.py:483: FutureWarning: 'squared' is deprecated in version 1.4 and will be removed in 1.6. To calculate the root mean squared error, use the function'root_mean_squared_error'.\n",
      "  warnings.warn(\n",
      "/Users/pierre/miniconda3/envs/chemprop_v2/lib/python3.11/site-packages/sklearn/metrics/_regression.py:483: FutureWarning: 'squared' is deprecated in version 1.4 and will be removed in 1.6. To calculate the root mean squared error, use the function'root_mean_squared_error'.\n",
      "  warnings.warn(\n",
      "/Users/pierre/miniconda3/envs/chemprop_v2/lib/python3.11/site-packages/sklearn/metrics/_regression.py:483: FutureWarning: 'squared' is deprecated in version 1.4 and will be removed in 1.6. To calculate the root mean squared error, use the function'root_mean_squared_error'.\n",
      "  warnings.warn(\n",
      "/Users/pierre/miniconda3/envs/chemprop_v2/lib/python3.11/site-packages/sklearn/metrics/_regression.py:483: FutureWarning: 'squared' is deprecated in version 1.4 and will be removed in 1.6. To calculate the root mean squared error, use the function'root_mean_squared_error'.\n",
      "  warnings.warn(\n",
      "/Users/pierre/miniconda3/envs/chemprop_v2/lib/python3.11/site-packages/sklearn/metrics/_regression.py:483: FutureWarning: 'squared' is deprecated in version 1.4 and will be removed in 1.6. To calculate the root mean squared error, use the function'root_mean_squared_error'.\n",
      "  warnings.warn(\n",
      "/Users/pierre/miniconda3/envs/chemprop_v2/lib/python3.11/site-packages/sklearn/metrics/_regression.py:483: FutureWarning: 'squared' is deprecated in version 1.4 and will be removed in 1.6. To calculate the root mean squared error, use the function'root_mean_squared_error'.\n",
      "  warnings.warn(\n",
      "/Users/pierre/miniconda3/envs/chemprop_v2/lib/python3.11/site-packages/sklearn/metrics/_regression.py:483: FutureWarning: 'squared' is deprecated in version 1.4 and will be removed in 1.6. To calculate the root mean squared error, use the function'root_mean_squared_error'.\n",
      "  warnings.warn(\n",
      "/Users/pierre/miniconda3/envs/chemprop_v2/lib/python3.11/site-packages/sklearn/metrics/_regression.py:483: FutureWarning: 'squared' is deprecated in version 1.4 and will be removed in 1.6. To calculate the root mean squared error, use the function'root_mean_squared_error'.\n",
      "  warnings.warn(\n",
      "/Users/pierre/miniconda3/envs/chemprop_v2/lib/python3.11/site-packages/sklearn/metrics/_regression.py:483: FutureWarning: 'squared' is deprecated in version 1.4 and will be removed in 1.6. To calculate the root mean squared error, use the function'root_mean_squared_error'.\n",
      "  warnings.warn(\n",
      "/Users/pierre/miniconda3/envs/chemprop_v2/lib/python3.11/site-packages/sklearn/metrics/_regression.py:483: FutureWarning: 'squared' is deprecated in version 1.4 and will be removed in 1.6. To calculate the root mean squared error, use the function'root_mean_squared_error'.\n",
      "  warnings.warn(\n",
      "/Users/pierre/miniconda3/envs/chemprop_v2/lib/python3.11/site-packages/sklearn/metrics/_regression.py:483: FutureWarning: 'squared' is deprecated in version 1.4 and will be removed in 1.6. To calculate the root mean squared error, use the function'root_mean_squared_error'.\n",
      "  warnings.warn(\n",
      "/Users/pierre/miniconda3/envs/chemprop_v2/lib/python3.11/site-packages/sklearn/metrics/_regression.py:483: FutureWarning: 'squared' is deprecated in version 1.4 and will be removed in 1.6. To calculate the root mean squared error, use the function'root_mean_squared_error'.\n",
      "  warnings.warn(\n",
      "/Users/pierre/miniconda3/envs/chemprop_v2/lib/python3.11/site-packages/sklearn/metrics/_regression.py:483: FutureWarning: 'squared' is deprecated in version 1.4 and will be removed in 1.6. To calculate the root mean squared error, use the function'root_mean_squared_error'.\n",
      "  warnings.warn(\n",
      "/Users/pierre/miniconda3/envs/chemprop_v2/lib/python3.11/site-packages/sklearn/metrics/_regression.py:483: FutureWarning: 'squared' is deprecated in version 1.4 and will be removed in 1.6. To calculate the root mean squared error, use the function'root_mean_squared_error'.\n",
      "  warnings.warn(\n",
      "/Users/pierre/miniconda3/envs/chemprop_v2/lib/python3.11/site-packages/sklearn/metrics/_regression.py:483: FutureWarning: 'squared' is deprecated in version 1.4 and will be removed in 1.6. To calculate the root mean squared error, use the function'root_mean_squared_error'.\n",
      "  warnings.warn(\n",
      "/Users/pierre/miniconda3/envs/chemprop_v2/lib/python3.11/site-packages/sklearn/metrics/_regression.py:483: FutureWarning: 'squared' is deprecated in version 1.4 and will be removed in 1.6. To calculate the root mean squared error, use the function'root_mean_squared_error'.\n",
      "  warnings.warn(\n",
      "/Users/pierre/miniconda3/envs/chemprop_v2/lib/python3.11/site-packages/sklearn/metrics/_regression.py:483: FutureWarning: 'squared' is deprecated in version 1.4 and will be removed in 1.6. To calculate the root mean squared error, use the function'root_mean_squared_error'.\n",
      "  warnings.warn(\n",
      "/Users/pierre/miniconda3/envs/chemprop_v2/lib/python3.11/site-packages/sklearn/metrics/_regression.py:483: FutureWarning: 'squared' is deprecated in version 1.4 and will be removed in 1.6. To calculate the root mean squared error, use the function'root_mean_squared_error'.\n",
      "  warnings.warn(\n",
      "/Users/pierre/miniconda3/envs/chemprop_v2/lib/python3.11/site-packages/sklearn/metrics/_regression.py:483: FutureWarning: 'squared' is deprecated in version 1.4 and will be removed in 1.6. To calculate the root mean squared error, use the function'root_mean_squared_error'.\n",
      "  warnings.warn(\n",
      "/Users/pierre/miniconda3/envs/chemprop_v2/lib/python3.11/site-packages/sklearn/metrics/_regression.py:483: FutureWarning: 'squared' is deprecated in version 1.4 and will be removed in 1.6. To calculate the root mean squared error, use the function'root_mean_squared_error'.\n",
      "  warnings.warn(\n"
     ]
    },
    {
     "data": {
      "image/png": "[encoded data removed]",
      "text/plain": [
       "<Figure size 1600x800 with 1 Axes>"
      ]
     },
     "metadata": {},
     "output_type": "display_data"
    },
    {
     "data": {
      "image/png": "[encoded data removed]",
      "text/plain": [
       "<Figure size 1600x800 with 1 Axes>"
      ]
     },
     "metadata": {},
     "output_type": "display_data"
    }
   ],
   "source": [
    "import os\n",
    "import numpy as np\n",
    "import pandas as pd\n",
    "import seaborn as sns\n",
    "import matplotlib.pyplot as plt\n",
    "from sklearn.metrics import mean_squared_error, r2_score\n",
    "\n",
    "def collect_perf_stats_all(base_dir_aug, base_dir_noaug, folds, reps=[1, 2, 3]):\n",
    "    records = []\n",
    "\n",
    "    # Collect all dataset filenames from one fold\n",
    "    fold_dir = os.path.join(base_dir_aug, 'ABCDEFGHI', \"STL\", \"RF_ECFP\")\n",
    "    all_files = [f for f in os.listdir(fold_dir) if f.endswith(\".parquet\")]\n",
    "\n",
    "    print(fold_dir)\n",
    "\n",
    "    for dataset_name in all_files:\n",
    "        print(dataset_name)\n",
    "        for aug_type, base_dir in zip([\"Aug\", \"No Aug\"], [base_dir_aug, base_dir_noaug]):\n",
    "            for d in folds:\n",
    "                file_path = os.path.join(base_dir, d, \"STL\", \"RF_ECFP\", dataset_name)\n",
    "                if not os.path.exists(file_path):\n",
    "                    continue\n",
    "                try:\n",
    "                    df = pd.read_parquet(file_path)\n",
    "                    for k in reps:\n",
    "                        y_true = df[\"Y\"].tolist()\n",
    "                        y_pred = df[f\"pY_rep{k}\"].tolist()\n",
    "                        rmse = mean_squared_error(y_true, y_pred, squared=False)\n",
    "                        r2 = r2_score(y_true, y_pred)\n",
    "                        records.append({\n",
    "                            \"Dataset\": dataset_name,\n",
    "                            \"Fold\": d,\n",
    "                            \"Augmentation\": aug_type,\n",
    "                            \"RMSE\": rmse,\n",
    "                            \"R2\": r2,\n",
    "                            \"Rep\": k\n",
    "                        })\n",
    "                except:\n",
    "                    continue\n",
    "\n",
    "    df_perf = pd.DataFrame(records)\n",
    "\n",
    "    # R² plot\n",
    "    plt.figure(figsize=(16, 8))\n",
    "    sns.boxplot(x=\"Dataset\", y=\"R2\", hue=\"Augmentation\", data=df_perf)\n",
    "    plt.title(\"R² Distribution per Dataset (Aug vs No Aug)\")\n",
    "    plt.xticks(rotation=90)\n",
    "    plt.grid(True)\n",
    "    plt.tight_layout()\n",
    "    plt.show()\n",
    "\n",
    "    # RMSE plot\n",
    "    plt.figure(figsize=(16, 8))\n",
    "    sns.boxplot(x=\"Dataset\", y=\"RMSE\", hue=\"Augmentation\", data=df_perf)\n",
    "    plt.title(\"RMSE Distribution per Dataset (Aug vs No Aug)\")\n",
    "    plt.xticks(rotation=90)\n",
    "    plt.grid(True)\n",
    "    plt.tight_layout()\n",
    "    plt.show()\n",
    "\n",
    "    return df_perf\n",
    "\n",
    "# Example usage\n",
    "df_stats_all = collect_perf_stats_all(\n",
    "    base_dir_aug=\"../data/prediction/aug\",\n",
    "    base_dir_noaug=\"../data/prediction/noaug\",\n",
    "    folds=[\"BCDEFGHIJ\", \"ACDEFGHIJ\", \"ABDEFGHIJ\", \"ABCEFGHIJ\",\"ABCDFGHIJ\", \"ABCDEGHIJ\", \"ABCDEFHIJ\", \"ABCDEFGIJ\", \"ABCDEFGHJ\",\"ABCDEFGHI\"]\n",
    ")"
   ]
  },
  {
   "cell_type": "code",
   "execution_count": null,
   "id": "41d0ffc2",
   "metadata": {},
   "outputs": [],
   "source": [
    "# So increasing the number of folds, increase the performance, so 10 fold is good for now I think"
   ]
  }
 ],
 "metadata": {
  "kernelspec": {
   "display_name": "chemprop_v2",
   "language": "python",
   "name": "python3"
  },
  "language_info": {
   "codemirror_mode": {
    "name": "ipython",
    "version": 3
   },
   "file_extension": ".py",
   "mimetype": "text/x-python",
   "name": "python",
   "nbconvert_exporter": "python",
   "pygments_lexer": "ipython3",
   "version": "3.11.9"
  }
 },
 "nbformat": 4,
 "nbformat_minor": 5
}
