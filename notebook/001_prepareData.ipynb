{
 "cells": [
  {
   "cell_type": "markdown",
   "id": "d9e629a7",
   "metadata": {},
   "source": [
    "# 0) Modules & Functions"
   ]
  },
  {
   "cell_type": "code",
   "execution_count": 1,
   "id": "afdd842f",
   "metadata": {},
   "outputs": [],
   "source": [
    "import pandas as pd \n",
    "from tqdm import tqdm\n",
    "import os\n",
    "import re\n",
    "from rdkit import Chem\n",
    "from rdkit.Chem import inchi\n",
    "import seaborn as sns\n",
    "import matplotlib.pyplot as plt\n",
    "import numpy as np\n",
    "from iterstrat.ml_stratifiers import MultilabelStratifiedKFold\n",
    "from scipy.stats import wasserstein_distance\n",
    "\n",
    "# Compute InChIKey from SMILES\n",
    "def smiles_to_inchikey(smiles):\n",
    "    mol = Chem.MolFromSmiles(smiles)\n",
    "    if mol is None:\n",
    "        return None\n",
    "    try:\n",
    "        return inchi.MolToInchiKey(mol)\n",
    "    except:\n",
    "        return None\n",
    "    \n",
    "def subscript(text):\n",
    "    return f\"$_{{{text}}}$\"\n",
    "\n",
    "def _replace_subscript(name):\n",
    "    name = name.replace('Caco-2-2', 'Caco-2')\n",
    "    name = name.replace('(Rat)', '(RAT)')\n",
    "    name = name.replace('(Human,', '(HUMAN,')\n",
    "    name = name.replace('(Rat,', '(RAT,')\n",
    "    name = name.replace('(po, Rat,', '(po, RAT,')\n",
    "    name = name.replace('(Mouse,', '(MOUSE,')\n",
    "    name = name.replace('(Mouse)', '(MOUSE)')\n",
    "    name = name.replace('(Rat)', '(RAT)')\n",
    "    name = name.replace('(Dog,', '(DOG,')\n",
    "    name = name.replace('Prolif (Cell)', 'Cell-prolif')\n",
    "    name = name.replace('Half Life Microsome', 'logHalf-life$_{microsomal}$')\n",
    "    name = name.replace('Half Life Plasma', 'logHalf-life$_{plasma}$')\n",
    "    name = name.replace('Clearance Microsomal', 'logClearance$_{microsomal}$')\n",
    "    name = name.replace('Clearance Total', 'logClearance$_{total}$')\n",
    "    name = name.replace('Clearance Total', 'logClearance$_{total}$')\n",
    "    name = name.replace('Clearance Renal', 'logClearance$_{renal}$')\n",
    "    name = name.replace(', Cell)', ')')\n",
    "    name = name.replace('Growth Tumor', 'Tumor-growth')\n",
    "    name = name.replace('logClearance$_{total}$ iv (RAT,', 'logClearance$_{total}$ (iv, RAT,')\n",
    "    name = name.replace('Stability Microsomal', 'Stability$_{microsomal}$')\n",
    "    name = name.replace('pVD', 'logVD')\n",
    "    return name\n",
    "\n",
    "def clean_endpoint_name(name):\n",
    "    name = name.replace('.csv', '')\n",
    "\n",
    "    # Replace raw units with readable forms (keep lowercase)\n",
    "    name = name.replace('pmL%min%kg', 'µL·min⁻¹·kg⁻¹')\n",
    "    name = name.replace('pmg%kg', 'mg·kg⁻¹')\n",
    "    name = name.replace('pHours', 'h')\n",
    "    name = name.replace('pL%kg', 'L·kg⁻¹')\n",
    "    name = name.replace('mol%kg', 'mol·kg⁻¹')\n",
    "\n",
    "    # Remove prefixes\n",
    "    name = re.sub(r'^(PUBLIC|BindingDB)___', '', name)\n",
    "\n",
    "    # Replace separators and clean up\n",
    "    name = name.replace('-', ' ').replace('_', ' ').replace('Public', '')\n",
    "    name = re.sub(r'\\s+', ' ', name).strip()\n",
    "\n",
    "    # Remove \"Biochemical\"\n",
    "    name = re.sub(r'\\bBiochemical\\b', '', name)\n",
    "\n",
    "    # Fix substrings for cell types, models\n",
    "    name = re.sub(r'\\bCaco2\\b', 'Caco-2', name)\n",
    "    name = re.sub(r'\\bCaco\\b', 'Caco-2', name)\n",
    "    name = re.sub(r'MDCK LE\\b', 'MDCK-LE', name)\n",
    "    name = re.sub(r'MDCK MDR1\\b', 'MDCK-MDR1', name)\n",
    "    name = re.sub(r'MCDK MDR1\\b', 'MDCK-MDR1', name)\n",
    "\n",
    "    # Apply LaTeX-style subscripts\n",
    "    name = re.sub(r'\\bp(IC|GI|LD|TD)50\\b', lambda m: f\"p{m.group(1)}{subscript('50')}\", name)\n",
    "    name = re.sub(r'\\bpVDss\\b', lambda _: f\"pVD{subscript('ss')}\", name)\n",
    "    name = re.sub(r'\\bpKi\\b', lambda _: f\"pK{subscript('i')}\", name)\n",
    "    name = re.sub(r'\\bpKd\\b', lambda _: f\"pK{subscript('d')}\", name)\n",
    "\n",
    "    # logX formatting with special subscripts\n",
    "    name = re.sub(r'\\bLogD74\\b', lambda _: f\"logD{subscript('7-4')}\", name)\n",
    "    name = re.sub(r'\\bLogPapp\\b', lambda _: f\"logP{subscript('app')}\", name)\n",
    "    name = re.sub(r'\\bLogPow\\b', lambda _: f\"logP{subscript('ow')}\", name)\n",
    "    name = re.sub(r'\\bLogS Water\\b', lambda _: f\"logS{subscript('water')}\", name)\n",
    "    name = re.sub(r'\\bLogS Apparent\\b', lambda _: f\"logS{subscript('buffer')}\", name)\n",
    "    name = re.sub(r'\\bLog([A-Z])', r'log\\1', name)\n",
    "\n",
    "\n",
    "    # Tokenize and collect metadata\n",
    "    tokens = name.split()\n",
    "    main = []\n",
    "    meta = []\n",
    "\n",
    "    # Reference species, sources, tissues, etc.\n",
    "    meta_whitelist = {\n",
    "        'MOUSE', 'RAT', 'HUMAN', 'DOG', 'HAMSTER', 'CELL',\n",
    "        'PO', 'CAVPO', 'TETCF', 'CANEN', 'MYCTU', 'SARS', 'SARS2',\n",
    "        'MDCK-MDR1', 'MDCK-LE', 'Caco-2', 'PAMPA', 'BOVIN', 'HV1BR', \n",
    "        'HV1H2', 'PIG', 'BACAN', 'TRYCR', 'CANAL', 'ECOLX',  'ECOLI', \n",
    "        'MESAU', 'HELPY', 'HCMVA', 'CHICK', \"HCMVA\", 'RICCO', 'MACFA', \n",
    "        'PLAF7','SPIOL', 'HV1N5', 'HV1H2', 'HV1BR', 'HV1B1', 'HCVJ4', \n",
    "        'HCVCO', 'HCVBK', 'HCV77', 'SHEEP', 'I34A1', 'CARPA','MELGA', \n",
    "        'INBLE', 'I77AB', 'I75A5', 'I34A1', 'I33A0', 'CLOPF', 'HELPJ', \n",
    "        'YEAST', 'PHOPY', 'PSEAE', 'HHV1S', \"PORG3\", 'MYCSM', 'STAAU',\n",
    "        'HBVD3','ENTFA','HV1H2','PNECA', 'TOXGO', 'PLAFK', 'LEIMA', 'STAAU',\n",
    "        'STAAM', 'TRYCR', 'STAAE', 'RABIT', 'AGABI', 'BACFG', 'BACSU', 'CLOBO', 'ELEEL', 'ENTCL', 'HORSE', 'KLEPN', 'LACCA', 'SERMA', 'STAAR'\n",
    "    }\n",
    "\n",
    "    unit_patterns = ['µL·min⁻¹·kg⁻¹', 'mg·kg⁻¹', 'L·kg⁻¹', 'mol·kg⁻¹', 'h']\n",
    "\n",
    "    for token in tokens:\n",
    "        token_upper = token.upper()\n",
    "        if token in unit_patterns or token in meta_whitelist or token_upper in meta_whitelist:\n",
    "            meta.append(token)\n",
    "        elif token_upper in meta_whitelist:\n",
    "            meta.append(token_upper)\n",
    "        elif token.isupper() and len(token) <= 6:  # likely gene or protein name\n",
    "            main.append(token)\n",
    "        else:\n",
    "            main.append(token)\n",
    "\n",
    "    # Remove duplicates from meta, preserve order\n",
    "    seen = set()\n",
    "    meta_clean = []\n",
    "    for m in meta:\n",
    "        if m not in seen:\n",
    "            seen.add(m)\n",
    "            meta_clean.append(m)\n",
    "\n",
    "\n",
    "    if meta_clean:\n",
    "        return _replace_subscript(f\"{' '.join(main)} ({', '.join(meta_clean)})\")\n",
    "    else:\n",
    "        return _replace_subscript(' '.join(main))\n",
    "    \n",
    "\n",
    "def stratified_split_with_distribution_analysis(df, n_bins=5, min_data_points=5000):\n",
    "    df = df.copy()\n",
    "    \n",
    "    # Step 1: Filter columns with enough data\n",
    "    target_cols = df.drop(columns=['SMILES']).columns[df.drop(columns=['SMILES']).notna().sum() > min_data_points]\n",
    "    df_targets = df[target_cols]\n",
    "\n",
    "    # Step 2: Impute missing values\n",
    "    df_imputed = df_targets.fillna(df_targets.median())\n",
    "\n",
    "    # Step 3: Quantize\n",
    "    df_binned = df_imputed.apply(lambda col: pd.qcut(col, q=n_bins, duplicates='drop', labels=False), axis=0)\n",
    "\n",
    "    # Step 4: Stratified split\n",
    "    X = df['SMILES'].values\n",
    "    Y = df_binned.values\n",
    "    mskf = MultilabelStratifiedKFold(n_splits=3, shuffle=False)\n",
    "    sets = ['A', 'B', 'C']\n",
    "    split_indices = []\n",
    "    for _, test_index in mskf.split(X, Y):\n",
    "        split_indices.append(test_index)\n",
    "    \n",
    "    # Step 5: Assign set labels\n",
    "    df['Set'] = ''\n",
    "    for i, indices in enumerate(split_indices):\n",
    "        df.iloc[indices, df.columns.get_loc('Set')] = sets[i]\n",
    "\n",
    "    # Step 6: Print percentage per set\n",
    "    set_counts = df['Set'].value_counts(normalize=True) * 100\n",
    "\n",
    "    return df"
   ]
  },
  {
   "cell_type": "markdown",
   "id": "72984e90",
   "metadata": {},
   "source": [
    "# 1) Data loading"
   ]
  },
  {
   "cell_type": "code",
   "execution_count": 2,
   "id": "e89ec59f",
   "metadata": {},
   "outputs": [],
   "source": [
    "df_full = pd.read_parquet('../data/exp/oneADMET.parquet')"
   ]
  },
  {
   "cell_type": "markdown",
   "id": "0a8b8e53",
   "metadata": {},
   "source": [
    "# 2) Filter by dataset size"
   ]
  },
  {
   "cell_type": "code",
   "execution_count": 3,
   "id": "b90b5eaa",
   "metadata": {},
   "outputs": [
    {
     "name": "stderr",
     "output_type": "stream",
     "text": [
      "100%|██████████| 1535/1535 [00:01<00:00, 1185.55it/s]\n",
      "100%|██████████| 1535/1535 [00:00<00:00, 2847.96it/s]\n",
      "100%|██████████| 1535/1535 [00:00<00:00, 2851.34it/s]\n"
     ]
    }
   ],
   "source": [
    "# Assuming df_full is your DataFrame\n",
    "min_non_nan = 50\n",
    "max_non_nan = 10000\n",
    "\n",
    "valid_cols = [\n",
    "\n",
    "    col for col in tqdm(df_full.columns)\n",
    "    if min_non_nan <= df_full[col].notna().sum() <= max_non_nan\n",
    "]\n",
    "\n",
    "# If you want to exclude 'SMILES' and 'Set' columns from the check:\n",
    "valid_cols = [\n",
    "    col for col in tqdm(df_full.columns)\n",
    "    if col not in ['SMILES', 'Set'] and min_non_nan <= df_full[col].notna().sum() <= max_non_nan\n",
    "]\n",
    "\n",
    "to_remove = [\n",
    "    \"PUBLIC___pIC50_CYP1A2_HUMAN_Biochemical_Public.csv\",\n",
    "    \"PUBLIC___pIC50_CYP2C19_HUMAN_Biochemical_Public.csv\",\n",
    "    \"PUBLIC___pIC50_CYP2C9_HUMAN_Biochemical_Public.csv\",\n",
    "    \"PUBLIC___pIC50_CYP2D6_HUMAN_Biochemical_Public.csv\",\n",
    "    \"PUBLIC___pIC50_CYP3A4_HUMAN_Biochemical_Public.csv\",\n",
    "    \"pLD50_Unknown_Public.csv\",\n",
    "    \"PUBLIC___LogHydrationFreeEnergy_Public.csv\",\n",
    "    \"PPB_Human_Public.csv\",\n",
    "    \"BindingDB___pIC50_CYP19A_HUMAN_Biochemical.csv\",\n",
    "    \"BindingDB___pIC50_CYP1A1_HUMAN_Biochemical.csv\",\n",
    "    \"BindingDB___pIC50_CYP1A2_HUMAN_Biochemical.csv\",\n",
    "    \"BindingDB___pIC50_CYP1B1_HUMAN_Biochemical.csv\",\n",
    "    \"BindingDB___pIC50_CYP2B6_HUMAN_Biochemical.csv\",\n",
    "    \"BindingDB___pIC50_CYP4F2_HUMAN_Biochemical.csv\"\n",
    "]\n",
    "\n",
    "filtered_cols = [\n",
    "    col for col in tqdm(df_full.columns)\n",
    "    if col not in ['SMILES', 'Set']\n",
    "    and min_non_nan <= df_full[col].notna().sum() <= max_non_nan\n",
    "    and col not in to_remove\n",
    "]\n",
    "\n",
    "# Keep only SMILES, Set, and the filtered columns\n",
    "df_filtered = df_full[[\"SMILES\"] + filtered_cols]\n",
    "\n",
    "# Drop rows where all values in filtered_cols are NaN\n",
    "df_filtered = df_filtered.dropna(subset=filtered_cols, how='all')"
   ]
  },
  {
   "cell_type": "markdown",
   "id": "2e930c44",
   "metadata": {},
   "source": [
    "# 2.5) Assign set"
   ]
  },
  {
   "cell_type": "code",
   "execution_count": null,
   "id": "f50ce4ae",
   "metadata": {},
   "outputs": [],
   "source": [
    "df_split = stratified_split_with_distribution_analysis(df_filtered)"
   ]
  },
  {
   "cell_type": "markdown",
   "id": "7b72d5fb",
   "metadata": {},
   "source": [
    "# 3) Keep large enough test"
   ]
  },
  {
   "cell_type": "code",
   "execution_count": null,
   "id": "31ec46b3",
   "metadata": {},
   "outputs": [
    {
     "name": "stderr",
     "output_type": "stream",
     "text": [
      "  4%|▍         | 56/1343 [00:01<00:35, 36.19it/s]"
     ]
    },
    {
     "name": "stdout",
     "output_type": "stream",
     "text": [
      " BindingDB___pIC50_ABL2_HUMAN_Biochemical.csv 24.68% in A set\n",
      " BindingDB___pIC50_ACACA_RAT_Biochemical.csv 24.41% in B set\n"
     ]
    },
    {
     "name": "stderr",
     "output_type": "stream",
     "text": [
      "  7%|▋         | 92/1343 [00:02<00:34, 36.73it/s]"
     ]
    },
    {
     "name": "stdout",
     "output_type": "stream",
     "text": [
      " BindingDB___pIC50_ADA2A_HUMAN_Biochemical.csv 24.80% in A set\n",
      " BindingDB___pIC50_ADRB3_HUMAN_Biochemical.csv 20.00% in A set\n"
     ]
    },
    {
     "name": "stderr",
     "output_type": "stream",
     "text": [
      " 10%|█         | 136/1343 [00:03<00:33, 36.49it/s]"
     ]
    },
    {
     "name": "stdout",
     "output_type": "stream",
     "text": [
      " BindingDB___pIC50_ARBK1_BOVIN_Biochemical.csv 21.13% in C set\n"
     ]
    },
    {
     "name": "stderr",
     "output_type": "stream",
     "text": [
      " 18%|█▊        | 244/1343 [00:06<00:32, 33.41it/s]"
     ]
    },
    {
     "name": "stdout",
     "output_type": "stream",
     "text": [
      " BindingDB___pIC50_CP2B1_RAT_Biochemical.csv 22.22% in B set\n"
     ]
    },
    {
     "name": "stderr",
     "output_type": "stream",
     "text": [
      " 20%|█▉        | 264/1343 [00:07<00:32, 33.35it/s]"
     ]
    },
    {
     "name": "stdout",
     "output_type": "stream",
     "text": [
      " BindingDB___pIC50_DDB1_HUMAN_Biochemical.csv 24.74% in C set\n",
      " BindingDB___pIC50_DEF_STAAM_Biochemical.csv 20.59% in C set\n"
     ]
    },
    {
     "name": "stderr",
     "output_type": "stream",
     "text": [
      " 21%|██        | 276/1343 [00:07<00:31, 33.57it/s]"
     ]
    },
    {
     "name": "stdout",
     "output_type": "stream",
     "text": [
      " BindingDB___pIC50_DHSO_HUMAN_Biochemical.csv 23.29% in C set\n",
      " BindingDB___pIC50_DNLI1_HUMAN_Biochemical.csv 23.08% in B set\n",
      " BindingDB___pIC50_DNLI1_HUMAN_Biochemical.csv 21.15% in C set\n"
     ]
    },
    {
     "name": "stderr",
     "output_type": "stream",
     "text": [
      " 23%|██▎       | 304/1343 [00:08<00:29, 34.84it/s]"
     ]
    },
    {
     "name": "stdout",
     "output_type": "stream",
     "text": [
      " BindingDB___pIC50_ECE1_RAT_Biochemical.csv 20.25% in B set\n"
     ]
    },
    {
     "name": "stderr",
     "output_type": "stream",
     "text": [
      " 28%|██▊       | 376/1343 [00:10<00:27, 35.57it/s]"
     ]
    },
    {
     "name": "stdout",
     "output_type": "stream",
     "text": [
      " BindingDB___pIC50_GBRA1_HUMAN_Biochemical.csv 21.74% in B set\n",
      " BindingDB___pIC50_GCKR_HUMAN_Biochemical.csv 24.24% in C set\n"
     ]
    },
    {
     "name": "stderr",
     "output_type": "stream",
     "text": [
      " 29%|██▉       | 392/1343 [00:11<00:27, 34.94it/s]"
     ]
    },
    {
     "name": "stdout",
     "output_type": "stream",
     "text": [
      " BindingDB___pIC50_GRIK1_HUMAN_Biochemical.csv 18.64% in C set\n"
     ]
    },
    {
     "name": "stderr",
     "output_type": "stream",
     "text": [
      " 35%|███▌      | 476/1343 [00:13<00:24, 34.88it/s]"
     ]
    },
    {
     "name": "stdout",
     "output_type": "stream",
     "text": [
      " BindingDB___pIC50_KDM4D_HUMAN_Biochemical.csv 24.18% in A set\n"
     ]
    },
    {
     "name": "stderr",
     "output_type": "stream",
     "text": [
      " 37%|███▋      | 496/1343 [00:14<00:23, 35.33it/s]"
     ]
    },
    {
     "name": "stdout",
     "output_type": "stream",
     "text": [
      " BindingDB___pIC50_KS6A1_HUMAN_Biochemical.csv 20.91% in A set\n"
     ]
    },
    {
     "name": "stderr",
     "output_type": "stream",
     "text": [
      " 38%|███▊      | 512/1343 [00:14<00:24, 34.58it/s]"
     ]
    },
    {
     "name": "stdout",
     "output_type": "stream",
     "text": [
      " BindingDB___pIC50_LMBL1_HUMAN_Biochemical.csv 23.60% in B set\n"
     ]
    },
    {
     "name": "stderr",
     "output_type": "stream",
     "text": [
      " 39%|███▊      | 520/1343 [00:14<00:24, 34.29it/s]"
     ]
    },
    {
     "name": "stdout",
     "output_type": "stream",
     "text": [
      " BindingDB___pIC50_LST8_HUMAN_Biochemical.csv 22.12% in C set\n"
     ]
    },
    {
     "name": "stderr",
     "output_type": "stream",
     "text": [
      " 41%|████      | 548/1343 [00:15<00:22, 34.69it/s]"
     ]
    },
    {
     "name": "stdout",
     "output_type": "stream",
     "text": [
      " BindingDB___pIC50_MDR1B_MOUSE_Biochemical.csv 18.57% in B set\n",
      " BindingDB___pIC50_MEP1B_HUMAN_Biochemical.csv 16.88% in C set\n"
     ]
    },
    {
     "name": "stderr",
     "output_type": "stream",
     "text": [
      " 44%|████▍     | 592/1343 [00:16<00:21, 34.74it/s]"
     ]
    },
    {
     "name": "stdout",
     "output_type": "stream",
     "text": [
      " BindingDB___pIC50_MYLK_CHICK_Biochemical.csv 19.19% in A set\n"
     ]
    },
    {
     "name": "stderr",
     "output_type": "stream",
     "text": [
      " 47%|████▋     | 632/1343 [00:17<00:19, 35.67it/s]"
     ]
    },
    {
     "name": "stdout",
     "output_type": "stream",
     "text": [
      " BindingDB___pIC50_NRP1_HUMAN_Biochemical.csv 21.35% in A set\n"
     ]
    },
    {
     "name": "stderr",
     "output_type": "stream",
     "text": [
      " 48%|████▊     | 648/1343 [00:18<00:19, 35.75it/s]"
     ]
    },
    {
     "name": "stdout",
     "output_type": "stream",
     "text": [
      " BindingDB___pIC50_OXER1_HUMAN_Biochemical.csv 24.53% in C set\n"
     ]
    },
    {
     "name": "stderr",
     "output_type": "stream",
     "text": [
      " 52%|█████▏    | 700/1343 [00:19<00:17, 37.62it/s]"
     ]
    },
    {
     "name": "stdout",
     "output_type": "stream",
     "text": [
      " BindingDB___pIC50_PDK4_RAT_Biochemical.csv 24.56% in A set\n"
     ]
    },
    {
     "name": "stderr",
     "output_type": "stream",
     "text": [
      " 54%|█████▍    | 724/1343 [00:20<00:16, 37.72it/s]"
     ]
    },
    {
     "name": "stdout",
     "output_type": "stream",
     "text": [
      " BindingDB___pIC50_PK3CB_RAT_Biochemical.csv 20.37% in C set\n",
      " BindingDB___pIC50_PK3CG_MOUSE_Biochemical.csv 24.73% in B set\n"
     ]
    },
    {
     "name": "stderr",
     "output_type": "stream",
     "text": [
      " 55%|█████▍    | 736/1343 [00:20<00:16, 37.77it/s]"
     ]
    },
    {
     "name": "stdout",
     "output_type": "stream",
     "text": [
      " BindingDB___pIC50_PMYT1_HUMAN_Biochemical.csv 18.18% in C set\n"
     ]
    },
    {
     "name": "stderr",
     "output_type": "stream",
     "text": [
      " 59%|█████▉    | 792/1343 [00:22<00:14, 37.87it/s]"
     ]
    },
    {
     "name": "stdout",
     "output_type": "stream",
     "text": [
      " BindingDB___pIC50_RPOB_ECOLI_Biochemical.csv 20.37% in C set\n"
     ]
    },
    {
     "name": "stderr",
     "output_type": "stream",
     "text": [
      " 61%|██████    | 816/1343 [00:22<00:14, 36.29it/s]"
     ]
    },
    {
     "name": "stdout",
     "output_type": "stream",
     "text": [
      " BindingDB___pIC50_SC6A9_RAT_Biochemical.csv 24.32% in A set\n"
     ]
    },
    {
     "name": "stderr",
     "output_type": "stream",
     "text": [
      " 63%|██████▎   | 852/1343 [00:23<00:13, 36.49it/s]"
     ]
    },
    {
     "name": "stdout",
     "output_type": "stream",
     "text": [
      " BindingDB___pIC50_SRC_CHICK_Biochemical.csv 23.93% in B set\n"
     ]
    },
    {
     "name": "stderr",
     "output_type": "stream",
     "text": [
      " 64%|██████▍   | 860/1343 [00:24<00:13, 35.47it/s]"
     ]
    },
    {
     "name": "stdout",
     "output_type": "stream",
     "text": [
      " BindingDB___pIC50_STAT6_HUMAN_Biochemical.csv 22.22% in A set\n",
      " BindingDB___pIC50_SUMO1_HUMAN_Biochemical.csv 13.56% in B set\n"
     ]
    },
    {
     "name": "stderr",
     "output_type": "stream",
     "text": [
      " 65%|██████▌   | 876/1343 [00:24<00:12, 35.98it/s]"
     ]
    },
    {
     "name": "stdout",
     "output_type": "stream",
     "text": [
      " BindingDB___pIC50_THA_HUMAN_Biochemical.csv 24.29% in A set\n"
     ]
    },
    {
     "name": "stderr",
     "output_type": "stream",
     "text": [
      " 68%|██████▊   | 916/1343 [00:25<00:12, 35.19it/s]"
     ]
    },
    {
     "name": "stdout",
     "output_type": "stream",
     "text": [
      " BindingDB___pIC50_UT2_RAT_Biochemical.csv 18.87% in A set\n"
     ]
    },
    {
     "name": "stderr",
     "output_type": "stream",
     "text": [
      " 69%|██████▉   | 932/1343 [00:26<00:11, 35.29it/s]"
     ]
    },
    {
     "name": "stdout",
     "output_type": "stream",
     "text": [
      " BindingDB___pIC50_WNT3A_MOUSE_Biochemical.csv 23.94% in B set\n",
      " BindingDB___pKd_ABL1_HUMAN_Biochemical.csv 24.00% in C set\n",
      " BindingDB___pKd_ACES_HUMAN_Biochemical.csv 22.78% in C set\n",
      " BindingDB___pKd_ACM1_HUMAN_Biochemical.csv 24.53% in C set\n"
     ]
    },
    {
     "name": "stderr",
     "output_type": "stream",
     "text": [
      " 71%|███████   | 952/1343 [00:26<00:10, 36.18it/s]"
     ]
    },
    {
     "name": "stdout",
     "output_type": "stream",
     "text": [
      " BindingDB___pKd_FAK1_HUMAN_Biochemical.csv 24.53% in A set\n"
     ]
    },
    {
     "name": "stderr",
     "output_type": "stream",
     "text": [
      " 71%|███████▏  | 960/1343 [00:26<00:10, 35.36it/s]"
     ]
    },
    {
     "name": "stdout",
     "output_type": "stream",
     "text": [
      " BindingDB___pKd_LEG7_HUMAN_Biochemical.csv 17.74% in B set\n",
      " BindingDB___pKd_LEG9_HUMAN_Biochemical.csv 21.79% in B set\n",
      " BindingDB___pKd_MET_HUMAN_Biochemical.csv 24.07% in C set\n",
      " BindingDB___pKd_P3C2A_HUMAN_Biochemical.csv 24.68% in C set\n"
     ]
    },
    {
     "name": "stderr",
     "output_type": "stream",
     "text": [
      " 72%|███████▏  | 968/1343 [00:27<00:10, 35.75it/s]"
     ]
    },
    {
     "name": "stdout",
     "output_type": "stream",
     "text": [
      " BindingDB___pKd_P3C2B_HUMAN_Biochemical.csv 23.53% in C set\n",
      " BindingDB___pKd_RASK_HUMAN_Biochemical.csv 24.86% in A set\n"
     ]
    },
    {
     "name": "stderr",
     "output_type": "stream",
     "text": [
      " 73%|███████▎  | 980/1343 [00:27<00:10, 36.24it/s]"
     ]
    },
    {
     "name": "stdout",
     "output_type": "stream",
     "text": [
      " BindingDB___pKd_S1PR2_HUMAN_Biochemical.csv 22.41% in B set\n",
      " BindingDB___pKd_SHBG_HUMAN_Biochemical.csv 24.10% in B set\n"
     ]
    },
    {
     "name": "stderr",
     "output_type": "stream",
     "text": [
      " 77%|███████▋  | 1036/1343 [00:29<00:08, 36.36it/s]"
     ]
    },
    {
     "name": "stdout",
     "output_type": "stream",
     "text": [
      " BindingDB___pKi_ADRB1_RAT_Biochemical.csv 23.01% in B set\n",
      " BindingDB___pKi_ANDR_RAT_Biochemical.csv 23.21% in A set\n"
     ]
    },
    {
     "name": "stderr",
     "output_type": "stream",
     "text": [
      " 79%|███████▊  | 1056/1343 [00:29<00:07, 36.25it/s]"
     ]
    },
    {
     "name": "stdout",
     "output_type": "stream",
     "text": [
      " BindingDB___pKi_BLAT_ECOLX_Biochemical.csv 18.92% in B set\n"
     ]
    },
    {
     "name": "stderr",
     "output_type": "stream",
     "text": [
      " 80%|████████  | 1080/1343 [00:30<00:07, 36.58it/s]"
     ]
    },
    {
     "name": "stdout",
     "output_type": "stream",
     "text": [
      " BindingDB___pKi_CAN2_HUMAN_Biochemical.csv 24.82% in C set\n",
      " BindingDB___pKi_CBPA1_HUMAN_Biochemical.csv 23.73% in B set\n"
     ]
    },
    {
     "name": "stderr",
     "output_type": "stream",
     "text": [
      " 85%|████████▌ | 1144/1343 [00:32<00:05, 35.72it/s]"
     ]
    },
    {
     "name": "stdout",
     "output_type": "stream",
     "text": [
      " BindingDB___pKi_GBA1_HUMAN_Biochemical.csv 24.00% in A set\n"
     ]
    },
    {
     "name": "stderr",
     "output_type": "stream",
     "text": [
      " 88%|████████▊ | 1176/1343 [00:32<00:04, 36.37it/s]"
     ]
    },
    {
     "name": "stdout",
     "output_type": "stream",
     "text": [
      " BindingDB___pKi_I23O1_HUMAN_Biochemical.csv 22.39% in C set\n"
     ]
    },
    {
     "name": "stderr",
     "output_type": "stream",
     "text": [
      " 89%|████████▉ | 1192/1343 [00:33<00:04, 36.99it/s]"
     ]
    },
    {
     "name": "stdout",
     "output_type": "stream",
     "text": [
      " BindingDB___pKi_LGUL_HUMAN_Biochemical.csv 22.34% in B set\n"
     ]
    },
    {
     "name": "stderr",
     "output_type": "stream",
     "text": [
      " 93%|█████████▎| 1252/1343 [00:35<00:02, 35.17it/s]"
     ]
    },
    {
     "name": "stdout",
     "output_type": "stream",
     "text": [
      " BindingDB___pKi_P4K2A_HUMAN_Biochemical.csv 24.00% in A set\n"
     ]
    },
    {
     "name": "stderr",
     "output_type": "stream",
     "text": [
      " 94%|█████████▍| 1260/1343 [00:35<00:02, 34.10it/s]"
     ]
    },
    {
     "name": "stdout",
     "output_type": "stream",
     "text": [
      " BindingDB___pKi_PDE5A_HUMAN_Biochemical.csv 23.96% in C set\n"
     ]
    },
    {
     "name": "stderr",
     "output_type": "stream",
     "text": [
      " 96%|█████████▌| 1284/1343 [00:36<00:01, 33.14it/s]"
     ]
    },
    {
     "name": "stdout",
     "output_type": "stream",
     "text": [
      " BindingDB___pKi_PYGM_HUMAN_Biochemical.csv 20.00% in A set\n"
     ]
    },
    {
     "name": "stderr",
     "output_type": "stream",
     "text": [
      "100%|██████████| 1343/1343 [00:37<00:00, 35.46it/s]"
     ]
    },
    {
     "name": "stdout",
     "output_type": "stream",
     "text": [
      " BindingDB___pKi_VACHT_TETCF_Biochemical.csv 24.07% in B set\n"
     ]
    },
    {
     "name": "stderr",
     "output_type": "stream",
     "text": [
      "\n"
     ]
    }
   ],
   "source": [
    "set_out = []\n",
    "for col in tqdm(filtered_cols):\n",
    "    # Keep only SMILES, Set, and current column\n",
    "    df_unique = df_split[[\"SMILES\", \"Set\", col]].dropna()\n",
    "\n",
    "    # Calculate % of each set\n",
    "    set_counts = df_unique[\"Set\"].value_counts(normalize=True)\n",
    "\n",
    "    # Print if any set has more than 10%\n",
    "    for set_name, frac in set_counts.items():\n",
    "        if frac < 0.25:\n",
    "            set_out.append(col)\n",
    "            print(f\" {col} {frac:.2%} in {set_name} set\")\n"
   ]
  },
  {
   "cell_type": "markdown",
   "id": "a288fe8c",
   "metadata": {},
   "source": [
    "# 4) Filter out columns"
   ]
  },
  {
   "cell_type": "code",
   "execution_count": null,
   "id": "044be3f1",
   "metadata": {},
   "outputs": [
    {
     "name": "stderr",
     "output_type": "stream",
     "text": [
      "100%|██████████| 1345/1345 [00:00<00:00, 2599.28it/s]\n"
     ]
    }
   ],
   "source": [
    "to_remove_all = to_remove + set_out\n",
    "\n",
    "filtered_cols_full = [\n",
    "    col for col in tqdm(df_split.columns)\n",
    "    if col not in ['SMILES', 'Set']\n",
    "    and min_non_nan <= df_split[col].notna().sum() <= max_non_nan\n",
    "    and col not in to_remove_all\n",
    "    and col not in set_out\n",
    "]\n",
    "\n",
    "# Keep only SMILES, Set, and the filtered columns\n",
    "df_filtered_MTL = df_split[[\"SMILES\", \"Set\"] + filtered_cols_full]\n"
   ]
  },
  {
   "cell_type": "code",
   "execution_count": null,
   "id": "e5906b37",
   "metadata": {},
   "outputs": [
    {
     "data": {
      "text/html": [
       "<div>\n",
       "<style scoped>\n",
       "    .dataframe tbody tr th:only-of-type {\n",
       "        vertical-align: middle;\n",
       "    }\n",
       "\n",
       "    .dataframe tbody tr th {\n",
       "        vertical-align: top;\n",
       "    }\n",
       "\n",
       "    .dataframe thead th {\n",
       "        text-align: right;\n",
       "    }\n",
       "</style>\n",
       "<table border=\"1\" class=\"dataframe\">\n",
       "  <thead>\n",
       "    <tr style=\"text-align: right;\">\n",
       "      <th></th>\n",
       "      <th>SMILES</th>\n",
       "      <th>Set</th>\n",
       "      <th>Clearance-Microsomal_Mouse-pmL%min%kg_Public.csv</th>\n",
       "      <th>Clearance-Microsomal_Rat-pmL%min%kg_Public.csv</th>\n",
       "      <th>Clearance-Renal_pmL%min%kg_Public.csv</th>\n",
       "      <th>Clearance-Total_iv-Rat-pmL%min%kg_Public.csv</th>\n",
       "      <th>Half-Life_Human-Microsome-pHours_Public.csv</th>\n",
       "      <th>Half-Life_Human-Plasma-pHours_Public.csv</th>\n",
       "      <th>Half-Life_Rat-Microsome-pHours_Public.csv</th>\n",
       "      <th>Half-Life_Rat-Plasma-pHours_Public.csv</th>\n",
       "      <th>...</th>\n",
       "      <th>BindingDB___pKi_V1AR_RAT_Biochemical.csv</th>\n",
       "      <th>BindingDB___pKi_V1BR_HUMAN_Biochemical.csv</th>\n",
       "      <th>BindingDB___pKi_VACHT_HUMAN_Biochemical.csv</th>\n",
       "      <th>BindingDB___pKi_VACHT_RAT_Biochemical.csv</th>\n",
       "      <th>BindingDB___pKi_VDR_HUMAN_Biochemical.csv</th>\n",
       "      <th>BindingDB___pKi_VMAT2_RAT_Biochemical.csv</th>\n",
       "      <th>BindingDB___pKi_WDR5_HUMAN_Biochemical.csv</th>\n",
       "      <th>pIC50_Cell-Prolif_Public.csv</th>\n",
       "      <th>PUBLIC___pIC50_hERG_HAMSTER_Cell_Public.csv</th>\n",
       "      <th>PUBLIC___pKi_hERG_HAMSTER_Cell_Public.csv</th>\n",
       "    </tr>\n",
       "  </thead>\n",
       "  <tbody>\n",
       "    <tr>\n",
       "      <th>5</th>\n",
       "      <td>CC(NC(=O)C(Cc1ccccc1)CP(O)(=O)C([NH3+])Cc1cccc...</td>\n",
       "      <td>B</td>\n",
       "      <td>NaN</td>\n",
       "      <td>NaN</td>\n",
       "      <td>NaN</td>\n",
       "      <td>NaN</td>\n",
       "      <td>NaN</td>\n",
       "      <td>NaN</td>\n",
       "      <td>NaN</td>\n",
       "      <td>NaN</td>\n",
       "      <td>...</td>\n",
       "      <td>NaN</td>\n",
       "      <td>NaN</td>\n",
       "      <td>NaN</td>\n",
       "      <td>NaN</td>\n",
       "      <td>NaN</td>\n",
       "      <td>NaN</td>\n",
       "      <td>NaN</td>\n",
       "      <td>NaN</td>\n",
       "      <td>NaN</td>\n",
       "      <td>NaN</td>\n",
       "    </tr>\n",
       "    <tr>\n",
       "      <th>6</th>\n",
       "      <td>COc1ccc2cc(C(=O)NCCc3ccc(N)cc3)c(=O)[nH]c2c1OCCCC</td>\n",
       "      <td>B</td>\n",
       "      <td>NaN</td>\n",
       "      <td>NaN</td>\n",
       "      <td>NaN</td>\n",
       "      <td>NaN</td>\n",
       "      <td>NaN</td>\n",
       "      <td>NaN</td>\n",
       "      <td>NaN</td>\n",
       "      <td>NaN</td>\n",
       "      <td>...</td>\n",
       "      <td>NaN</td>\n",
       "      <td>NaN</td>\n",
       "      <td>NaN</td>\n",
       "      <td>NaN</td>\n",
       "      <td>NaN</td>\n",
       "      <td>NaN</td>\n",
       "      <td>NaN</td>\n",
       "      <td>NaN</td>\n",
       "      <td>NaN</td>\n",
       "      <td>NaN</td>\n",
       "    </tr>\n",
       "    <tr>\n",
       "      <th>8</th>\n",
       "      <td>NC(=O)c1[n][n](CC(=O)N2C(CC3CC23)C(=O)NCC2CC2(...</td>\n",
       "      <td>B</td>\n",
       "      <td>NaN</td>\n",
       "      <td>NaN</td>\n",
       "      <td>NaN</td>\n",
       "      <td>NaN</td>\n",
       "      <td>NaN</td>\n",
       "      <td>NaN</td>\n",
       "      <td>NaN</td>\n",
       "      <td>NaN</td>\n",
       "      <td>...</td>\n",
       "      <td>NaN</td>\n",
       "      <td>NaN</td>\n",
       "      <td>NaN</td>\n",
       "      <td>NaN</td>\n",
       "      <td>NaN</td>\n",
       "      <td>NaN</td>\n",
       "      <td>NaN</td>\n",
       "      <td>NaN</td>\n",
       "      <td>NaN</td>\n",
       "      <td>NaN</td>\n",
       "    </tr>\n",
       "    <tr>\n",
       "      <th>9</th>\n",
       "      <td>CN(C)c1[n]c2c(cc(c(=O)[n]2C)-c2c(Cl)cccc2Cl)c[n]1</td>\n",
       "      <td>B</td>\n",
       "      <td>NaN</td>\n",
       "      <td>NaN</td>\n",
       "      <td>NaN</td>\n",
       "      <td>NaN</td>\n",
       "      <td>NaN</td>\n",
       "      <td>NaN</td>\n",
       "      <td>NaN</td>\n",
       "      <td>NaN</td>\n",
       "      <td>...</td>\n",
       "      <td>NaN</td>\n",
       "      <td>NaN</td>\n",
       "      <td>NaN</td>\n",
       "      <td>NaN</td>\n",
       "      <td>NaN</td>\n",
       "      <td>NaN</td>\n",
       "      <td>NaN</td>\n",
       "      <td>NaN</td>\n",
       "      <td>NaN</td>\n",
       "      <td>NaN</td>\n",
       "    </tr>\n",
       "    <tr>\n",
       "      <th>12</th>\n",
       "      <td>Cc1o[n]cc1C(=O)Nc1cc(F)c(cc1)-[n]1[n]c(cc1C1CC...</td>\n",
       "      <td>B</td>\n",
       "      <td>NaN</td>\n",
       "      <td>NaN</td>\n",
       "      <td>NaN</td>\n",
       "      <td>NaN</td>\n",
       "      <td>NaN</td>\n",
       "      <td>NaN</td>\n",
       "      <td>NaN</td>\n",
       "      <td>NaN</td>\n",
       "      <td>...</td>\n",
       "      <td>NaN</td>\n",
       "      <td>NaN</td>\n",
       "      <td>NaN</td>\n",
       "      <td>NaN</td>\n",
       "      <td>NaN</td>\n",
       "      <td>NaN</td>\n",
       "      <td>NaN</td>\n",
       "      <td>NaN</td>\n",
       "      <td>NaN</td>\n",
       "      <td>NaN</td>\n",
       "    </tr>\n",
       "    <tr>\n",
       "      <th>...</th>\n",
       "      <td>...</td>\n",
       "      <td>...</td>\n",
       "      <td>...</td>\n",
       "      <td>...</td>\n",
       "      <td>...</td>\n",
       "      <td>...</td>\n",
       "      <td>...</td>\n",
       "      <td>...</td>\n",
       "      <td>...</td>\n",
       "      <td>...</td>\n",
       "      <td>...</td>\n",
       "      <td>...</td>\n",
       "      <td>...</td>\n",
       "      <td>...</td>\n",
       "      <td>...</td>\n",
       "      <td>...</td>\n",
       "      <td>...</td>\n",
       "      <td>...</td>\n",
       "      <td>...</td>\n",
       "      <td>...</td>\n",
       "      <td>...</td>\n",
       "    </tr>\n",
       "    <tr>\n",
       "      <th>213183</th>\n",
       "      <td>Cc1ccc(C[n]2[n]cc3[n]c([nH]c23)-c2ccc(cc2)N2CC...</td>\n",
       "      <td>C</td>\n",
       "      <td>NaN</td>\n",
       "      <td>NaN</td>\n",
       "      <td>NaN</td>\n",
       "      <td>NaN</td>\n",
       "      <td>NaN</td>\n",
       "      <td>NaN</td>\n",
       "      <td>NaN</td>\n",
       "      <td>NaN</td>\n",
       "      <td>...</td>\n",
       "      <td>NaN</td>\n",
       "      <td>NaN</td>\n",
       "      <td>NaN</td>\n",
       "      <td>NaN</td>\n",
       "      <td>NaN</td>\n",
       "      <td>NaN</td>\n",
       "      <td>NaN</td>\n",
       "      <td>NaN</td>\n",
       "      <td>NaN</td>\n",
       "      <td>NaN</td>\n",
       "    </tr>\n",
       "    <tr>\n",
       "      <th>213187</th>\n",
       "      <td>CC1(C)C2CCC1(c1[n][n]c(cc12)-c1c(F)cccc1F)c1c[...</td>\n",
       "      <td>C</td>\n",
       "      <td>NaN</td>\n",
       "      <td>NaN</td>\n",
       "      <td>NaN</td>\n",
       "      <td>NaN</td>\n",
       "      <td>NaN</td>\n",
       "      <td>NaN</td>\n",
       "      <td>NaN</td>\n",
       "      <td>NaN</td>\n",
       "      <td>...</td>\n",
       "      <td>NaN</td>\n",
       "      <td>NaN</td>\n",
       "      <td>NaN</td>\n",
       "      <td>NaN</td>\n",
       "      <td>NaN</td>\n",
       "      <td>NaN</td>\n",
       "      <td>NaN</td>\n",
       "      <td>NaN</td>\n",
       "      <td>NaN</td>\n",
       "      <td>NaN</td>\n",
       "    </tr>\n",
       "    <tr>\n",
       "      <th>213188</th>\n",
       "      <td>O=C(Nc1c[n]2[n]c(ccc2[n]1)-c1c([n]c2cccc[n]21)...</td>\n",
       "      <td>A</td>\n",
       "      <td>NaN</td>\n",
       "      <td>NaN</td>\n",
       "      <td>NaN</td>\n",
       "      <td>NaN</td>\n",
       "      <td>NaN</td>\n",
       "      <td>NaN</td>\n",
       "      <td>NaN</td>\n",
       "      <td>NaN</td>\n",
       "      <td>...</td>\n",
       "      <td>NaN</td>\n",
       "      <td>NaN</td>\n",
       "      <td>NaN</td>\n",
       "      <td>NaN</td>\n",
       "      <td>NaN</td>\n",
       "      <td>NaN</td>\n",
       "      <td>NaN</td>\n",
       "      <td>NaN</td>\n",
       "      <td>NaN</td>\n",
       "      <td>NaN</td>\n",
       "    </tr>\n",
       "    <tr>\n",
       "      <th>213189</th>\n",
       "      <td>CC1(C)CC(c2ccc(Cl)cc2)=C(CN2CCN(CC2)c2ccc(c(c2...</td>\n",
       "      <td>B</td>\n",
       "      <td>NaN</td>\n",
       "      <td>NaN</td>\n",
       "      <td>NaN</td>\n",
       "      <td>NaN</td>\n",
       "      <td>NaN</td>\n",
       "      <td>NaN</td>\n",
       "      <td>NaN</td>\n",
       "      <td>NaN</td>\n",
       "      <td>...</td>\n",
       "      <td>NaN</td>\n",
       "      <td>NaN</td>\n",
       "      <td>NaN</td>\n",
       "      <td>NaN</td>\n",
       "      <td>NaN</td>\n",
       "      <td>NaN</td>\n",
       "      <td>NaN</td>\n",
       "      <td>NaN</td>\n",
       "      <td>NaN</td>\n",
       "      <td>NaN</td>\n",
       "    </tr>\n",
       "    <tr>\n",
       "      <th>213191</th>\n",
       "      <td>Cc1c(CCC(O)=O)cccc1NC(=O)C(C1CCC1)c1ccc(cc1)-c...</td>\n",
       "      <td>A</td>\n",
       "      <td>NaN</td>\n",
       "      <td>NaN</td>\n",
       "      <td>NaN</td>\n",
       "      <td>NaN</td>\n",
       "      <td>NaN</td>\n",
       "      <td>NaN</td>\n",
       "      <td>NaN</td>\n",
       "      <td>NaN</td>\n",
       "      <td>...</td>\n",
       "      <td>NaN</td>\n",
       "      <td>NaN</td>\n",
       "      <td>NaN</td>\n",
       "      <td>NaN</td>\n",
       "      <td>NaN</td>\n",
       "      <td>NaN</td>\n",
       "      <td>NaN</td>\n",
       "      <td>NaN</td>\n",
       "      <td>NaN</td>\n",
       "      <td>NaN</td>\n",
       "    </tr>\n",
       "  </tbody>\n",
       "</table>\n",
       "<p>693787 rows × 1286 columns</p>\n",
       "</div>"
      ],
      "text/plain": [
       "                                                   SMILES Set  \\\n",
       "5       CC(NC(=O)C(Cc1ccccc1)CP(O)(=O)C([NH3+])Cc1cccc...   B   \n",
       "6       COc1ccc2cc(C(=O)NCCc3ccc(N)cc3)c(=O)[nH]c2c1OCCCC   B   \n",
       "8       NC(=O)c1[n][n](CC(=O)N2C(CC3CC23)C(=O)NCC2CC2(...   B   \n",
       "9       CN(C)c1[n]c2c(cc(c(=O)[n]2C)-c2c(Cl)cccc2Cl)c[n]1   B   \n",
       "12      Cc1o[n]cc1C(=O)Nc1cc(F)c(cc1)-[n]1[n]c(cc1C1CC...   B   \n",
       "...                                                   ...  ..   \n",
       "213183  Cc1ccc(C[n]2[n]cc3[n]c([nH]c23)-c2ccc(cc2)N2CC...   C   \n",
       "213187  CC1(C)C2CCC1(c1[n][n]c(cc12)-c1c(F)cccc1F)c1c[...   C   \n",
       "213188  O=C(Nc1c[n]2[n]c(ccc2[n]1)-c1c([n]c2cccc[n]21)...   A   \n",
       "213189  CC1(C)CC(c2ccc(Cl)cc2)=C(CN2CCN(CC2)c2ccc(c(c2...   B   \n",
       "213191  Cc1c(CCC(O)=O)cccc1NC(=O)C(C1CCC1)c1ccc(cc1)-c...   A   \n",
       "\n",
       "        Clearance-Microsomal_Mouse-pmL%min%kg_Public.csv  \\\n",
       "5                                                    NaN   \n",
       "6                                                    NaN   \n",
       "8                                                    NaN   \n",
       "9                                                    NaN   \n",
       "12                                                   NaN   \n",
       "...                                                  ...   \n",
       "213183                                               NaN   \n",
       "213187                                               NaN   \n",
       "213188                                               NaN   \n",
       "213189                                               NaN   \n",
       "213191                                               NaN   \n",
       "\n",
       "        Clearance-Microsomal_Rat-pmL%min%kg_Public.csv  \\\n",
       "5                                                  NaN   \n",
       "6                                                  NaN   \n",
       "8                                                  NaN   \n",
       "9                                                  NaN   \n",
       "12                                                 NaN   \n",
       "...                                                ...   \n",
       "213183                                             NaN   \n",
       "213187                                             NaN   \n",
       "213188                                             NaN   \n",
       "213189                                             NaN   \n",
       "213191                                             NaN   \n",
       "\n",
       "        Clearance-Renal_pmL%min%kg_Public.csv  \\\n",
       "5                                         NaN   \n",
       "6                                         NaN   \n",
       "8                                         NaN   \n",
       "9                                         NaN   \n",
       "12                                        NaN   \n",
       "...                                       ...   \n",
       "213183                                    NaN   \n",
       "213187                                    NaN   \n",
       "213188                                    NaN   \n",
       "213189                                    NaN   \n",
       "213191                                    NaN   \n",
       "\n",
       "        Clearance-Total_iv-Rat-pmL%min%kg_Public.csv  \\\n",
       "5                                                NaN   \n",
       "6                                                NaN   \n",
       "8                                                NaN   \n",
       "9                                                NaN   \n",
       "12                                               NaN   \n",
       "...                                              ...   \n",
       "213183                                           NaN   \n",
       "213187                                           NaN   \n",
       "213188                                           NaN   \n",
       "213189                                           NaN   \n",
       "213191                                           NaN   \n",
       "\n",
       "        Half-Life_Human-Microsome-pHours_Public.csv  \\\n",
       "5                                               NaN   \n",
       "6                                               NaN   \n",
       "8                                               NaN   \n",
       "9                                               NaN   \n",
       "12                                              NaN   \n",
       "...                                             ...   \n",
       "213183                                          NaN   \n",
       "213187                                          NaN   \n",
       "213188                                          NaN   \n",
       "213189                                          NaN   \n",
       "213191                                          NaN   \n",
       "\n",
       "        Half-Life_Human-Plasma-pHours_Public.csv  \\\n",
       "5                                            NaN   \n",
       "6                                            NaN   \n",
       "8                                            NaN   \n",
       "9                                            NaN   \n",
       "12                                           NaN   \n",
       "...                                          ...   \n",
       "213183                                       NaN   \n",
       "213187                                       NaN   \n",
       "213188                                       NaN   \n",
       "213189                                       NaN   \n",
       "213191                                       NaN   \n",
       "\n",
       "        Half-Life_Rat-Microsome-pHours_Public.csv  \\\n",
       "5                                             NaN   \n",
       "6                                             NaN   \n",
       "8                                             NaN   \n",
       "9                                             NaN   \n",
       "12                                            NaN   \n",
       "...                                           ...   \n",
       "213183                                        NaN   \n",
       "213187                                        NaN   \n",
       "213188                                        NaN   \n",
       "213189                                        NaN   \n",
       "213191                                        NaN   \n",
       "\n",
       "        Half-Life_Rat-Plasma-pHours_Public.csv  ...  \\\n",
       "5                                          NaN  ...   \n",
       "6                                          NaN  ...   \n",
       "8                                          NaN  ...   \n",
       "9                                          NaN  ...   \n",
       "12                                         NaN  ...   \n",
       "...                                        ...  ...   \n",
       "213183                                     NaN  ...   \n",
       "213187                                     NaN  ...   \n",
       "213188                                     NaN  ...   \n",
       "213189                                     NaN  ...   \n",
       "213191                                     NaN  ...   \n",
       "\n",
       "        BindingDB___pKi_V1AR_RAT_Biochemical.csv  \\\n",
       "5                                            NaN   \n",
       "6                                            NaN   \n",
       "8                                            NaN   \n",
       "9                                            NaN   \n",
       "12                                           NaN   \n",
       "...                                          ...   \n",
       "213183                                       NaN   \n",
       "213187                                       NaN   \n",
       "213188                                       NaN   \n",
       "213189                                       NaN   \n",
       "213191                                       NaN   \n",
       "\n",
       "        BindingDB___pKi_V1BR_HUMAN_Biochemical.csv  \\\n",
       "5                                              NaN   \n",
       "6                                              NaN   \n",
       "8                                              NaN   \n",
       "9                                              NaN   \n",
       "12                                             NaN   \n",
       "...                                            ...   \n",
       "213183                                         NaN   \n",
       "213187                                         NaN   \n",
       "213188                                         NaN   \n",
       "213189                                         NaN   \n",
       "213191                                         NaN   \n",
       "\n",
       "        BindingDB___pKi_VACHT_HUMAN_Biochemical.csv  \\\n",
       "5                                               NaN   \n",
       "6                                               NaN   \n",
       "8                                               NaN   \n",
       "9                                               NaN   \n",
       "12                                              NaN   \n",
       "...                                             ...   \n",
       "213183                                          NaN   \n",
       "213187                                          NaN   \n",
       "213188                                          NaN   \n",
       "213189                                          NaN   \n",
       "213191                                          NaN   \n",
       "\n",
       "        BindingDB___pKi_VACHT_RAT_Biochemical.csv  \\\n",
       "5                                             NaN   \n",
       "6                                             NaN   \n",
       "8                                             NaN   \n",
       "9                                             NaN   \n",
       "12                                            NaN   \n",
       "...                                           ...   \n",
       "213183                                        NaN   \n",
       "213187                                        NaN   \n",
       "213188                                        NaN   \n",
       "213189                                        NaN   \n",
       "213191                                        NaN   \n",
       "\n",
       "        BindingDB___pKi_VDR_HUMAN_Biochemical.csv  \\\n",
       "5                                             NaN   \n",
       "6                                             NaN   \n",
       "8                                             NaN   \n",
       "9                                             NaN   \n",
       "12                                            NaN   \n",
       "...                                           ...   \n",
       "213183                                        NaN   \n",
       "213187                                        NaN   \n",
       "213188                                        NaN   \n",
       "213189                                        NaN   \n",
       "213191                                        NaN   \n",
       "\n",
       "        BindingDB___pKi_VMAT2_RAT_Biochemical.csv  \\\n",
       "5                                             NaN   \n",
       "6                                             NaN   \n",
       "8                                             NaN   \n",
       "9                                             NaN   \n",
       "12                                            NaN   \n",
       "...                                           ...   \n",
       "213183                                        NaN   \n",
       "213187                                        NaN   \n",
       "213188                                        NaN   \n",
       "213189                                        NaN   \n",
       "213191                                        NaN   \n",
       "\n",
       "        BindingDB___pKi_WDR5_HUMAN_Biochemical.csv  \\\n",
       "5                                              NaN   \n",
       "6                                              NaN   \n",
       "8                                              NaN   \n",
       "9                                              NaN   \n",
       "12                                             NaN   \n",
       "...                                            ...   \n",
       "213183                                         NaN   \n",
       "213187                                         NaN   \n",
       "213188                                         NaN   \n",
       "213189                                         NaN   \n",
       "213191                                         NaN   \n",
       "\n",
       "        pIC50_Cell-Prolif_Public.csv  \\\n",
       "5                                NaN   \n",
       "6                                NaN   \n",
       "8                                NaN   \n",
       "9                                NaN   \n",
       "12                               NaN   \n",
       "...                              ...   \n",
       "213183                           NaN   \n",
       "213187                           NaN   \n",
       "213188                           NaN   \n",
       "213189                           NaN   \n",
       "213191                           NaN   \n",
       "\n",
       "        PUBLIC___pIC50_hERG_HAMSTER_Cell_Public.csv  \\\n",
       "5                                               NaN   \n",
       "6                                               NaN   \n",
       "8                                               NaN   \n",
       "9                                               NaN   \n",
       "12                                              NaN   \n",
       "...                                             ...   \n",
       "213183                                          NaN   \n",
       "213187                                          NaN   \n",
       "213188                                          NaN   \n",
       "213189                                          NaN   \n",
       "213191                                          NaN   \n",
       "\n",
       "        PUBLIC___pKi_hERG_HAMSTER_Cell_Public.csv  \n",
       "5                                             NaN  \n",
       "6                                             NaN  \n",
       "8                                             NaN  \n",
       "9                                             NaN  \n",
       "12                                            NaN  \n",
       "...                                           ...  \n",
       "213183                                        NaN  \n",
       "213187                                        NaN  \n",
       "213188                                        NaN  \n",
       "213189                                        NaN  \n",
       "213191                                        NaN  \n",
       "\n",
       "[693787 rows x 1286 columns]"
      ]
     },
     "execution_count": 38,
     "metadata": {},
     "output_type": "execute_result"
    }
   ],
   "source": [
    "df_filtered_MTL"
   ]
  },
  {
   "cell_type": "markdown",
   "id": "b1d57f26",
   "metadata": {},
   "source": [
    "# 5) Rename the columns"
   ]
  },
  {
   "cell_type": "code",
   "execution_count": null,
   "id": "75f4688e",
   "metadata": {},
   "outputs": [
    {
     "name": "stderr",
     "output_type": "stream",
     "text": [
      "  0%|          | 0/1284 [00:00<?, ?it/s]/var/folders/2b/_90d0zxj2w3gcjdjskhc3xhw0000gn/T/ipykernel_33884/1747748893.py:7: SettingWithCopyWarning: \n",
      "A value is trying to be set on a copy of a slice from a DataFrame\n",
      "\n",
      "See the caveats in the documentation: https://pandas.pydata.org/pandas-docs/stable/user_guide/indexing.html#returning-a-view-versus-a-copy\n",
      "  df_filtered_MTL.rename(columns={old_name: new_name}, inplace=True)\n",
      "100%|██████████| 1284/1284 [00:00<00:00, 6530.20it/s]\n"
     ]
    }
   ],
   "source": [
    "# Usage\n",
    "cleaned_names = [clean_endpoint_name(name) for name in filtered_cols_full]\n",
    "endpoint_name_mapping = dict(zip(filtered_cols_full, cleaned_names))\n",
    "\n",
    "for old_name, new_name in tqdm(endpoint_name_mapping.items()):\n",
    "    # Optionally, you can rename the columns in the DataFrame\n",
    "    df_filtered_MTL.rename(columns={old_name: new_name}, inplace=True)\n",
    "\n",
    "df_filtered_MTL_cols = df_filtered_MTL.columns.tolist()[2:]"
   ]
  },
  {
   "cell_type": "markdown",
   "id": "8d51c1a3",
   "metadata": {},
   "source": [
    "# 6) Prepare MTL data"
   ]
  },
  {
   "cell_type": "code",
   "execution_count": null,
   "id": "c66602e7",
   "metadata": {},
   "outputs": [
    {
     "name": "stderr",
     "output_type": "stream",
     "text": [
      "/var/folders/2b/_90d0zxj2w3gcjdjskhc3xhw0000gn/T/ipykernel_33884/3081573659.py:9: SettingWithCopyWarning: \n",
      "A value is trying to be set on a copy of a slice from a DataFrame.\n",
      "Try using .loc[row_indexer,col_indexer] = value instead\n",
      "\n",
      "See the caveats in the documentation: https://pandas.pydata.org/pandas-docs/stable/user_guide/indexing.html#returning-a-view-versus-a-copy\n",
      "  df_filtered_MTL['InChIKey'] = df_filtered_MTL['SMILES'].apply(smiles_to_inchikey)\n"
     ]
    }
   ],
   "source": [
    "# Drop rows where all values in filtered_cols are NaN\n",
    "try:\n",
    "    os.mkdir('../data/exp/MTL')\n",
    "except FileExistsError:\n",
    "    pass\n",
    "\n",
    "df_filtered_MTL = df_filtered_MTL.dropna(subset=df_filtered_MTL_cols, how='all')\n",
    "\n",
    "df_filtered_MTL['InChIKey'] = df_filtered_MTL['SMILES'].apply(smiles_to_inchikey)\n",
    "\n",
    "# Insert InChIKey as first column\n",
    "cols = ['InChIKey'] + [col for col in df_filtered_MTL.columns if col != 'InChIKey']\n",
    "df_filtered_MTL = df_filtered_MTL[cols]\n",
    "\n",
    "df_filtered_MTL.to_parquet('../data/exp/MTL/oneADMET_LR-MTL.parquet', index=False)"
   ]
  },
  {
   "cell_type": "markdown",
   "id": "0113378e",
   "metadata": {},
   "source": [
    "# 7) Prepare STL data"
   ]
  },
  {
   "cell_type": "code",
   "execution_count": null,
   "id": "3d0de127",
   "metadata": {},
   "outputs": [
    {
     "name": "stderr",
     "output_type": "stream",
     "text": [
      "100%|██████████| 1284/1284 [00:53<00:00, 24.18it/s]\n"
     ]
    }
   ],
   "source": [
    "# Prepare STL data\n",
    "try:\n",
    "    os.mkdir('../data/exp/STL')\n",
    "except FileExistsError:\n",
    "    pass\n",
    "for col in tqdm(df_filtered_MTL_cols):\n",
    "    # Keep only SMILES, Set, and current column\n",
    "    df_filtered_STL = df_filtered_MTL[['InChIKey', \"SMILES\", \"Set\", col]].dropna()\n",
    "    df_filtered_STL.columns = ['InChIKey', \"SMILES\", \"SET\", \"Y\"]\n",
    "\n",
    "    # Calculate % of each set\n",
    "    set_counts = df_filtered_STL[\"SET\"].value_counts(normalize=True)\n",
    "\n",
    "    if len(df_filtered_STL.drop_duplicates(\"InChIKey\")) != len(df_filtered_STL):\n",
    "        print(f\"Duplicate InChIKey found in {col}\")\n",
    "\n",
    "    # Save the filtered dataframe\n",
    "    df_filtered_STL.to_parquet(f'../data/exp/STL/oneADMET_LR-STL---{col}.parquet', index=False)\n",
    "\n"
   ]
  },
  {
   "cell_type": "code",
   "execution_count": null,
   "id": "1c69d1e4",
   "metadata": {},
   "outputs": [],
   "source": []
  },
  {
   "cell_type": "code",
   "execution_count": null,
   "id": "b2391aa2",
   "metadata": {},
   "outputs": [],
   "source": []
  },
  {
   "cell_type": "code",
   "execution_count": null,
   "id": "db3ee802",
   "metadata": {},
   "outputs": [],
   "source": []
  }
 ],
 "metadata": {
  "kernelspec": {
   "display_name": "chemprop_v2",
   "language": "python",
   "name": "python3"
  },
  "language_info": {
   "codemirror_mode": {
    "name": "ipython",
    "version": 3
   },
   "file_extension": ".py",
   "mimetype": "text/x-python",
   "name": "python",
   "nbconvert_exporter": "python",
   "pygments_lexer": "ipython3",
   "version": "3.11.9"
  }
 },
 "nbformat": 4,
 "nbformat_minor": 5
}
