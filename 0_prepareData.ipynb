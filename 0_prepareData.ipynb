{
 "cells": [
  {
   "cell_type": "code",
   "execution_count": 7,
   "id": "816c7d83-7ebc-46cc-8634-1546bf5f8d12",
   "metadata": {
    "tags": []
   },
   "outputs": [],
   "source": [
    "import pandas as pd\n",
    "import os\n",
    "\n",
    "df_exp = pd.read_parquet(\"../data/exp/full_dataset.parquet\")"
   ]
  },
  {
   "cell_type": "code",
   "execution_count": 8,
   "id": "bd313b3c-a7e2-4614-9f1d-63eca6307cc3",
   "metadata": {
    "tags": []
   },
   "outputs": [],
   "source": [
    "admet_tox_endpoints = [\n",
    "    \"Clearance Microsomal (Mouse)\",\n",
    "    \"Clearance Microsomal (Rat)\",\n",
    "    \"Clearance Renal\",\n",
    "    \"Clearance Total (Rat, iv)\",\n",
    "    \"Half Life (Human, Microsome)\",\n",
    "    \"Half Life (Human, Plasma)\",\n",
    "    \"Half Life (Rat, Microsome)\",\n",
    "    \"Half Life (Rat, Plasma)\",\n",
    "    \"GI50 (Tumor)\",\n",
    "    \"LD50 (Rodent, po)\",\n",
    "    \"LD50 (Rat, po)\",\n",
    "    \"PPB (Human)\",\n",
    "    \"TD50 (Rat)\",\n",
    "    \"LogBB\",\n",
    "    \"LogD74\",\n",
    "    \"Efflux Ratio (Caco2)\",\n",
    "    \"Efflux Ratio (MDCK-MDR1)\",\n",
    "    \"HFE\",\n",
    "    \"MRTD\",\n",
    "    \"Permeability (Caco2)\",\n",
    "    \"Permeability (MDCK-LE)\",\n",
    "    \"Permeability (MDCK-MDR1)\",\n",
    "    \"Permeability (PAMPA)\",\n",
    "    \"LogP\",\n",
    "    \"Solubility (PBS)\",\n",
    "    \"Solubility (Kinetic)\",\n",
    "    \"Solubility (Water)\",\n",
    "    \"VDss (Dog)\",\n",
    "    \"Stability Microsomal (Mouse)\",\n",
    "    \"Stability Microsomal (Rat)\",\n",
    "    \"Cell Proliferation (IC50)\"\n",
    "]"
   ]
  },
  {
   "cell_type": "code",
   "execution_count": 9,
   "id": "37ebb556-6645-4807-aec0-43c3f97d59a3",
   "metadata": {
    "tags": []
   },
   "outputs": [],
   "source": [
    "for endpoint in admet_tox_endpoints:\n",
    "    df_exp[[\"SMILES\",endpoint]].dropna(subset = [endpoint]).to_parquet(os.path.join('../data/exp_subset/', endpoint+\".parquet\"), index = False)"
   ]
  },
  {
   "cell_type": "code",
   "execution_count": null,
   "id": "58b0494e-1a2e-4cf2-91ba-1da0988d29b2",
   "metadata": {},
   "outputs": [],
   "source": []
  }
 ],
 "metadata": {
  "environment": {
   "kernel": "conda-env-chemprop_MTL-chemprop_mtl",
   "name": "workbench-notebooks.m130",
   "type": "gcloud",
   "uri": "us-docker.pkg.dev/deeplearning-platform-release/gcr.io/workbench-notebooks:m130"
  },
  "kernelspec": {
   "display_name": "chemprop_MTL",
   "language": "python",
   "name": "conda-env-chemprop_MTL-chemprop_mtl"
  },
  "language_info": {
   "codemirror_mode": {
    "name": "ipython",
    "version": 3
   },
   "file_extension": ".py",
   "mimetype": "text/x-python",
   "name": "python",
   "nbconvert_exporter": "python",
   "pygments_lexer": "ipython3",
   "version": "3.11.9"
  }
 },
 "nbformat": 4,
 "nbformat_minor": 5
}
